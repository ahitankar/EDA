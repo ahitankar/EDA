{
 "cells": [
  {
   "cell_type": "markdown",
   "metadata": {},
   "source": [
    "###  Import All Required Libraries"
   ]
  },
  {
   "cell_type": "code",
   "execution_count": 1,
   "metadata": {},
   "outputs": [],
   "source": [
    "import pandas as pd\n",
    "import lux \n",
    "import dtale\n",
    "from pandas_profiling import ProfileReport\n",
    "from pandas_profiling.utils.cache import cache_file"
   ]
  },
  {
   "cell_type": "markdown",
   "metadata": {},
   "source": [
    "### Load Titanic Dataset"
   ]
  },
  {
   "cell_type": "code",
   "execution_count": 2,
   "metadata": {},
   "outputs": [],
   "source": [
    "file_name = cache_file(\n",
    "    \"titanic.csv\",\n",
    "    \"https://raw.githubusercontent.com/datasciencedojo/datasets/master/titanic.csv\",\n",
    ")\n",
    "df = pd.read_csv(file_name)"
   ]
  },
  {
   "cell_type": "code",
   "execution_count": 3,
   "metadata": {},
   "outputs": [
    {
     "data": {
      "application/vnd.jupyter.widget-view+json": {
       "model_id": "a16696902c814700a2afce7e763dd382",
       "version_major": 2,
       "version_minor": 0
      },
      "text/plain": [
       "Button(description='Toggle Pandas/Lux', layout=Layout(top='5px', width='140px'), style=ButtonStyle())"
      ]
     },
     "metadata": {},
     "output_type": "display_data"
    },
    {
     "data": {
      "application/vnd.jupyter.widget-view+json": {
       "model_id": "318c33d3eba04df8a76373a3d490a46d",
       "version_major": 2,
       "version_minor": 0
      },
      "text/plain": [
       "Output()"
      ]
     },
     "metadata": {},
     "output_type": "display_data"
    }
   ],
   "source": [
    "df"
   ]
  },
  {
   "cell_type": "markdown",
   "metadata": {},
   "source": [
    "### Generate Pandas Profiling Report"
   ]
  },
  {
   "cell_type": "code",
   "execution_count": 12,
   "metadata": {},
   "outputs": [],
   "source": [
    "profile = ProfileReport(\n",
    "    df, title=\"Titanic Dataset\",config_file ='config.yml'\n",
    ")"
   ]
  },
  {
   "cell_type": "code",
   "execution_count": 13,
   "metadata": {},
   "outputs": [
    {
     "data": {
      "application/vnd.jupyter.widget-view+json": {
       "model_id": "05b35bbbbe9b40dca272cf87c820cc5b",
       "version_major": 2,
       "version_minor": 0
      },
      "text/plain": [
       "Summarize dataset:   0%|          | 0/21 [00:00<?, ?it/s]"
      ]
     },
     "metadata": {},
     "output_type": "display_data"
    },
    {
     "data": {
      "application/vnd.jupyter.widget-view+json": {
       "model_id": "33a26c16134643529618b4584a50f40f",
       "version_major": 2,
       "version_minor": 0
      },
      "text/plain": [
       "Generate report structure:   0%|          | 0/1 [00:00<?, ?it/s]"
      ]
     },
     "metadata": {},
     "output_type": "display_data"
    },
    {
     "data": {
      "application/vnd.jupyter.widget-view+json": {
       "model_id": "7d405d1edabc411e8b6f7d03cbec3de2",
       "version_major": 2,
       "version_minor": 0
      },
      "text/plain": [
       "Render HTML:   0%|          | 0/1 [00:00<?, ?it/s]"
      ]
     },
     "metadata": {},
     "output_type": "display_data"
    },
    {
     "data": {
      "application/vnd.jupyter.widget-view+json": {
       "model_id": "4e6bff2d77364ad2823c1b49b2627ecc",
       "version_major": 2,
       "version_minor": 0
      },
      "text/plain": [
       "Export report to file:   0%|          | 0/1 [00:00<?, ?it/s]"
      ]
     },
     "metadata": {},
     "output_type": "display_data"
    }
   ],
   "source": [
    "profile.to_file(\"titanic_config_pandas_profiling_report.html\")"
   ]
  },
  {
   "cell_type": "markdown",
   "metadata": {},
   "source": [
    "### Generate D Tale report"
   ]
  },
  {
   "cell_type": "code",
   "execution_count": 14,
   "metadata": {},
   "outputs": [],
   "source": [
    "dtale_report = dtale.show(df)"
   ]
  },
  {
   "cell_type": "code",
   "execution_count": 15,
   "metadata": {},
   "outputs": [
    {
     "name": "stdout",
     "output_type": "stream",
     "text": [
      "Exception occurred while processing request: ufunc 'isfinite' not supported for the input types, and the inputs could not be safely coerced to any supported types according to the casting rule ''safe''\n",
      "Traceback (most recent call last):\n",
      "  File \"c:\\Users\\aniket.itankar\\Anaconda3\\lib\\site-packages\\dtale\\views.py\", line 120, in _handle_exceptions\n",
      "    return func(*args, **kwargs)\n",
      "  File \"c:\\Users\\aniket.itankar\\Anaconda3\\lib\\site-packages\\dtale\\views.py\", line 2695, in get_column_analysis\n",
      "    return jsonify(**analysis.build())\n",
      "  File \"c:\\Users\\aniket.itankar\\Anaconda3\\lib\\site-packages\\dtale\\column_analysis.py\", line 137, in build\n",
      "    return_data, code = self.analysis.build(self)\n",
      "  File \"c:\\Users\\aniket.itankar\\Anaconda3\\lib\\site-packages\\dtale\\column_analysis.py\", line 181, in build\n",
      "    return_data, hist_labels = self.build_histogram_data(\n",
      "  File \"c:\\Users\\aniket.itankar\\Anaconda3\\lib\\site-packages\\dtale\\column_analysis.py\", line 157, in build_histogram_data\n",
      "    hist_data, hist_labels = np.histogram(series, **hist_kwargs)\n",
      "  File \"<__array_function__ internals>\", line 5, in histogram\n",
      "  File \"c:\\Users\\aniket.itankar\\Anaconda3\\lib\\site-packages\\numpy\\lib\\histograms.py\", line 792, in histogram\n",
      "    bin_edges, uniform_bins = _get_bin_edges(a, bins, range, weights)\n",
      "  File \"c:\\Users\\aniket.itankar\\Anaconda3\\lib\\site-packages\\numpy\\lib\\histograms.py\", line 426, in _get_bin_edges\n",
      "    first_edge, last_edge = _get_outer_edges(a, range)\n",
      "  File \"c:\\Users\\aniket.itankar\\Anaconda3\\lib\\site-packages\\numpy\\lib\\histograms.py\", line 322, in _get_outer_edges\n",
      "    if not (np.isfinite(first_edge) and np.isfinite(last_edge)):\n",
      "TypeError: ufunc 'isfinite' not supported for the input types, and the inputs could not be safely coerced to any supported types according to the casting rule ''safe''\n"
     ]
    },
    {
     "name": "stderr",
     "output_type": "stream",
     "text": [
      "2022-06-02 11:09:40,275 - ERROR    - Exception occurred while processing request: ufunc 'isfinite' not supported for the input types, and the inputs could not be safely coerced to any supported types according to the casting rule ''safe''\n",
      "Traceback (most recent call last):\n",
      "  File \"c:\\Users\\aniket.itankar\\Anaconda3\\lib\\site-packages\\dtale\\views.py\", line 120, in _handle_exceptions\n",
      "    return func(*args, **kwargs)\n",
      "  File \"c:\\Users\\aniket.itankar\\Anaconda3\\lib\\site-packages\\dtale\\views.py\", line 2695, in get_column_analysis\n",
      "    return jsonify(**analysis.build())\n",
      "  File \"c:\\Users\\aniket.itankar\\Anaconda3\\lib\\site-packages\\dtale\\column_analysis.py\", line 137, in build\n",
      "    return_data, code = self.analysis.build(self)\n",
      "  File \"c:\\Users\\aniket.itankar\\Anaconda3\\lib\\site-packages\\dtale\\column_analysis.py\", line 181, in build\n",
      "    return_data, hist_labels = self.build_histogram_data(\n",
      "  File \"c:\\Users\\aniket.itankar\\Anaconda3\\lib\\site-packages\\dtale\\column_analysis.py\", line 157, in build_histogram_data\n",
      "    hist_data, hist_labels = np.histogram(series, **hist_kwargs)\n",
      "  File \"<__array_function__ internals>\", line 5, in histogram\n",
      "  File \"c:\\Users\\aniket.itankar\\Anaconda3\\lib\\site-packages\\numpy\\lib\\histograms.py\", line 792, in histogram\n",
      "    bin_edges, uniform_bins = _get_bin_edges(a, bins, range, weights)\n",
      "  File \"c:\\Users\\aniket.itankar\\Anaconda3\\lib\\site-packages\\numpy\\lib\\histograms.py\", line 426, in _get_bin_edges\n",
      "    first_edge, last_edge = _get_outer_edges(a, range)\n",
      "  File \"c:\\Users\\aniket.itankar\\Anaconda3\\lib\\site-packages\\numpy\\lib\\histograms.py\", line 322, in _get_outer_edges\n",
      "    if not (np.isfinite(first_edge) and np.isfinite(last_edge)):\n",
      "TypeError: ufunc 'isfinite' not supported for the input types, and the inputs could not be safely coerced to any supported types according to the casting rule ''safe''\n"
     ]
    },
    {
     "name": "stdout",
     "output_type": "stream",
     "text": [
      "Exception occurred while processing request: ufunc 'isfinite' not supported for the input types, and the inputs could not be safely coerced to any supported types according to the casting rule ''safe''\n",
      "Traceback (most recent call last):\n",
      "  File \"c:\\Users\\aniket.itankar\\Anaconda3\\lib\\site-packages\\dtale\\views.py\", line 120, in _handle_exceptions\n",
      "    return func(*args, **kwargs)\n",
      "  File \"c:\\Users\\aniket.itankar\\Anaconda3\\lib\\site-packages\\dtale\\views.py\", line 2695, in get_column_analysis\n",
      "    return jsonify(**analysis.build())\n",
      "  File \"c:\\Users\\aniket.itankar\\Anaconda3\\lib\\site-packages\\dtale\\column_analysis.py\", line 137, in build\n",
      "    return_data, code = self.analysis.build(self)\n",
      "  File \"c:\\Users\\aniket.itankar\\Anaconda3\\lib\\site-packages\\dtale\\column_analysis.py\", line 181, in build\n",
      "    return_data, hist_labels = self.build_histogram_data(\n",
      "  File \"c:\\Users\\aniket.itankar\\Anaconda3\\lib\\site-packages\\dtale\\column_analysis.py\", line 157, in build_histogram_data\n",
      "    hist_data, hist_labels = np.histogram(series, **hist_kwargs)\n",
      "  File \"<__array_function__ internals>\", line 5, in histogram\n",
      "  File \"c:\\Users\\aniket.itankar\\Anaconda3\\lib\\site-packages\\numpy\\lib\\histograms.py\", line 792, in histogram\n",
      "    bin_edges, uniform_bins = _get_bin_edges(a, bins, range, weights)\n",
      "  File \"c:\\Users\\aniket.itankar\\Anaconda3\\lib\\site-packages\\numpy\\lib\\histograms.py\", line 426, in _get_bin_edges\n",
      "    first_edge, last_edge = _get_outer_edges(a, range)\n",
      "  File \"c:\\Users\\aniket.itankar\\Anaconda3\\lib\\site-packages\\numpy\\lib\\histograms.py\", line 322, in _get_outer_edges\n",
      "    if not (np.isfinite(first_edge) and np.isfinite(last_edge)):\n",
      "TypeError: ufunc 'isfinite' not supported for the input types, and the inputs could not be safely coerced to any supported types according to the casting rule ''safe''\n"
     ]
    },
    {
     "name": "stderr",
     "output_type": "stream",
     "text": [
      "2022-06-02 11:09:41,043 - ERROR    - Exception occurred while processing request: ufunc 'isfinite' not supported for the input types, and the inputs could not be safely coerced to any supported types according to the casting rule ''safe''\n",
      "Traceback (most recent call last):\n",
      "  File \"c:\\Users\\aniket.itankar\\Anaconda3\\lib\\site-packages\\dtale\\views.py\", line 120, in _handle_exceptions\n",
      "    return func(*args, **kwargs)\n",
      "  File \"c:\\Users\\aniket.itankar\\Anaconda3\\lib\\site-packages\\dtale\\views.py\", line 2695, in get_column_analysis\n",
      "    return jsonify(**analysis.build())\n",
      "  File \"c:\\Users\\aniket.itankar\\Anaconda3\\lib\\site-packages\\dtale\\column_analysis.py\", line 137, in build\n",
      "    return_data, code = self.analysis.build(self)\n",
      "  File \"c:\\Users\\aniket.itankar\\Anaconda3\\lib\\site-packages\\dtale\\column_analysis.py\", line 181, in build\n",
      "    return_data, hist_labels = self.build_histogram_data(\n",
      "  File \"c:\\Users\\aniket.itankar\\Anaconda3\\lib\\site-packages\\dtale\\column_analysis.py\", line 157, in build_histogram_data\n",
      "    hist_data, hist_labels = np.histogram(series, **hist_kwargs)\n",
      "  File \"<__array_function__ internals>\", line 5, in histogram\n",
      "  File \"c:\\Users\\aniket.itankar\\Anaconda3\\lib\\site-packages\\numpy\\lib\\histograms.py\", line 792, in histogram\n",
      "    bin_edges, uniform_bins = _get_bin_edges(a, bins, range, weights)\n",
      "  File \"c:\\Users\\aniket.itankar\\Anaconda3\\lib\\site-packages\\numpy\\lib\\histograms.py\", line 426, in _get_bin_edges\n",
      "    first_edge, last_edge = _get_outer_edges(a, range)\n",
      "  File \"c:\\Users\\aniket.itankar\\Anaconda3\\lib\\site-packages\\numpy\\lib\\histograms.py\", line 322, in _get_outer_edges\n",
      "    if not (np.isfinite(first_edge) and np.isfinite(last_edge)):\n",
      "TypeError: ufunc 'isfinite' not supported for the input types, and the inputs could not be safely coerced to any supported types according to the casting rule ''safe''\n"
     ]
    },
    {
     "name": "stdout",
     "output_type": "stream",
     "text": [
      "Exception occurred while processing request: no results\n",
      "Traceback (most recent call last):\n",
      "  File \"c:\\Users\\aniket.itankar\\Anaconda3\\lib\\site-packages\\dtale\\views.py\", line 120, in _handle_exceptions\n",
      "    return func(*args, **kwargs)\n",
      "  File \"c:\\Users\\aniket.itankar\\Anaconda3\\lib\\site-packages\\dtale\\views.py\", line 2695, in get_column_analysis\n",
      "    return jsonify(**analysis.build())\n",
      "  File \"c:\\Users\\aniket.itankar\\Anaconda3\\lib\\site-packages\\dtale\\column_analysis.py\", line 137, in build\n",
      "    return_data, code = self.analysis.build(self)\n",
      "  File \"c:\\Users\\aniket.itankar\\Anaconda3\\lib\\site-packages\\dtale\\column_analysis.py\", line 321, in build\n",
      "    hist = parent.data.groupby(self.category_col)[[parent.selected_col]].agg(\n",
      "  File \"c:\\Users\\aniket.itankar\\Anaconda3\\lib\\site-packages\\lux\\core\\groupby.py\", line 32, in aggregate\n",
      "    ret_val = super(LuxGroupBy, self).aggregate(*args, **kwargs)\n",
      "  File \"c:\\Users\\aniket.itankar\\Anaconda3\\lib\\site-packages\\pandas\\core\\groupby\\generic.py\", line 945, in aggregate\n",
      "    result, how = aggregate(self, func, *args, **kwargs)\n",
      "  File \"c:\\Users\\aniket.itankar\\Anaconda3\\lib\\site-packages\\pandas\\core\\aggregation.py\", line 586, in aggregate\n",
      "    return agg_list_like(obj, arg, _axis=_axis), None\n",
      "  File \"c:\\Users\\aniket.itankar\\Anaconda3\\lib\\site-packages\\pandas\\core\\aggregation.py\", line 672, in agg_list_like\n",
      "    raise ValueError(\"no results\")\n",
      "ValueError: no results\n"
     ]
    },
    {
     "name": "stderr",
     "output_type": "stream",
     "text": [
      "2022-06-02 11:16:27,808 - ERROR    - Exception occurred while processing request: no results\n",
      "Traceback (most recent call last):\n",
      "  File \"c:\\Users\\aniket.itankar\\Anaconda3\\lib\\site-packages\\dtale\\views.py\", line 120, in _handle_exceptions\n",
      "    return func(*args, **kwargs)\n",
      "  File \"c:\\Users\\aniket.itankar\\Anaconda3\\lib\\site-packages\\dtale\\views.py\", line 2695, in get_column_analysis\n",
      "    return jsonify(**analysis.build())\n",
      "  File \"c:\\Users\\aniket.itankar\\Anaconda3\\lib\\site-packages\\dtale\\column_analysis.py\", line 137, in build\n",
      "    return_data, code = self.analysis.build(self)\n",
      "  File \"c:\\Users\\aniket.itankar\\Anaconda3\\lib\\site-packages\\dtale\\column_analysis.py\", line 321, in build\n",
      "    hist = parent.data.groupby(self.category_col)[[parent.selected_col]].agg(\n",
      "  File \"c:\\Users\\aniket.itankar\\Anaconda3\\lib\\site-packages\\lux\\core\\groupby.py\", line 32, in aggregate\n",
      "    ret_val = super(LuxGroupBy, self).aggregate(*args, **kwargs)\n",
      "  File \"c:\\Users\\aniket.itankar\\Anaconda3\\lib\\site-packages\\pandas\\core\\groupby\\generic.py\", line 945, in aggregate\n",
      "    result, how = aggregate(self, func, *args, **kwargs)\n",
      "  File \"c:\\Users\\aniket.itankar\\Anaconda3\\lib\\site-packages\\pandas\\core\\aggregation.py\", line 586, in aggregate\n",
      "    return agg_list_like(obj, arg, _axis=_axis), None\n",
      "  File \"c:\\Users\\aniket.itankar\\Anaconda3\\lib\\site-packages\\pandas\\core\\aggregation.py\", line 672, in agg_list_like\n",
      "    raise ValueError(\"no results\")\n",
      "ValueError: no results\n"
     ]
    },
    {
     "name": "stdout",
     "output_type": "stream",
     "text": [
      "Exception occurred while processing request: no results\n",
      "Traceback (most recent call last):\n",
      "  File \"c:\\Users\\aniket.itankar\\Anaconda3\\lib\\site-packages\\dtale\\views.py\", line 120, in _handle_exceptions\n",
      "    return func(*args, **kwargs)\n",
      "  File \"c:\\Users\\aniket.itankar\\Anaconda3\\lib\\site-packages\\dtale\\views.py\", line 2695, in get_column_analysis\n",
      "    return jsonify(**analysis.build())\n",
      "  File \"c:\\Users\\aniket.itankar\\Anaconda3\\lib\\site-packages\\dtale\\column_analysis.py\", line 137, in build\n",
      "    return_data, code = self.analysis.build(self)\n",
      "  File \"c:\\Users\\aniket.itankar\\Anaconda3\\lib\\site-packages\\dtale\\column_analysis.py\", line 321, in build\n",
      "    hist = parent.data.groupby(self.category_col)[[parent.selected_col]].agg(\n",
      "  File \"c:\\Users\\aniket.itankar\\Anaconda3\\lib\\site-packages\\lux\\core\\groupby.py\", line 32, in aggregate\n",
      "    ret_val = super(LuxGroupBy, self).aggregate(*args, **kwargs)\n",
      "  File \"c:\\Users\\aniket.itankar\\Anaconda3\\lib\\site-packages\\pandas\\core\\groupby\\generic.py\", line 945, in aggregate\n",
      "    result, how = aggregate(self, func, *args, **kwargs)\n",
      "  File \"c:\\Users\\aniket.itankar\\Anaconda3\\lib\\site-packages\\pandas\\core\\aggregation.py\", line 586, in aggregate\n",
      "    return agg_list_like(obj, arg, _axis=_axis), None\n",
      "  File \"c:\\Users\\aniket.itankar\\Anaconda3\\lib\\site-packages\\pandas\\core\\aggregation.py\", line 672, in agg_list_like\n",
      "    raise ValueError(\"no results\")\n",
      "ValueError: no results\n"
     ]
    },
    {
     "name": "stderr",
     "output_type": "stream",
     "text": [
      "2022-06-02 11:16:27,897 - ERROR    - Exception occurred while processing request: no results\n",
      "Traceback (most recent call last):\n",
      "  File \"c:\\Users\\aniket.itankar\\Anaconda3\\lib\\site-packages\\dtale\\views.py\", line 120, in _handle_exceptions\n",
      "    return func(*args, **kwargs)\n",
      "  File \"c:\\Users\\aniket.itankar\\Anaconda3\\lib\\site-packages\\dtale\\views.py\", line 2695, in get_column_analysis\n",
      "    return jsonify(**analysis.build())\n",
      "  File \"c:\\Users\\aniket.itankar\\Anaconda3\\lib\\site-packages\\dtale\\column_analysis.py\", line 137, in build\n",
      "    return_data, code = self.analysis.build(self)\n",
      "  File \"c:\\Users\\aniket.itankar\\Anaconda3\\lib\\site-packages\\dtale\\column_analysis.py\", line 321, in build\n",
      "    hist = parent.data.groupby(self.category_col)[[parent.selected_col]].agg(\n",
      "  File \"c:\\Users\\aniket.itankar\\Anaconda3\\lib\\site-packages\\lux\\core\\groupby.py\", line 32, in aggregate\n",
      "    ret_val = super(LuxGroupBy, self).aggregate(*args, **kwargs)\n",
      "  File \"c:\\Users\\aniket.itankar\\Anaconda3\\lib\\site-packages\\pandas\\core\\groupby\\generic.py\", line 945, in aggregate\n",
      "    result, how = aggregate(self, func, *args, **kwargs)\n",
      "  File \"c:\\Users\\aniket.itankar\\Anaconda3\\lib\\site-packages\\pandas\\core\\aggregation.py\", line 586, in aggregate\n",
      "    return agg_list_like(obj, arg, _axis=_axis), None\n",
      "  File \"c:\\Users\\aniket.itankar\\Anaconda3\\lib\\site-packages\\pandas\\core\\aggregation.py\", line 672, in agg_list_like\n",
      "    raise ValueError(\"no results\")\n",
      "ValueError: no results\n"
     ]
    },
    {
     "name": "stdout",
     "output_type": "stream",
     "text": [
      "Exception occurred while processing request: no results\n",
      "Traceback (most recent call last):\n",
      "  File \"c:\\Users\\aniket.itankar\\Anaconda3\\lib\\site-packages\\dtale\\views.py\", line 120, in _handle_exceptions\n",
      "    return func(*args, **kwargs)\n",
      "  File \"c:\\Users\\aniket.itankar\\Anaconda3\\lib\\site-packages\\dtale\\views.py\", line 2695, in get_column_analysis\n",
      "    return jsonify(**analysis.build())\n",
      "  File \"c:\\Users\\aniket.itankar\\Anaconda3\\lib\\site-packages\\dtale\\column_analysis.py\", line 137, in build\n",
      "    return_data, code = self.analysis.build(self)\n",
      "  File \"c:\\Users\\aniket.itankar\\Anaconda3\\lib\\site-packages\\dtale\\column_analysis.py\", line 321, in build\n",
      "    hist = parent.data.groupby(self.category_col)[[parent.selected_col]].agg(\n",
      "  File \"c:\\Users\\aniket.itankar\\Anaconda3\\lib\\site-packages\\lux\\core\\groupby.py\", line 32, in aggregate\n",
      "    ret_val = super(LuxGroupBy, self).aggregate(*args, **kwargs)\n",
      "  File \"c:\\Users\\aniket.itankar\\Anaconda3\\lib\\site-packages\\pandas\\core\\groupby\\generic.py\", line 945, in aggregate\n",
      "    result, how = aggregate(self, func, *args, **kwargs)\n",
      "  File \"c:\\Users\\aniket.itankar\\Anaconda3\\lib\\site-packages\\pandas\\core\\aggregation.py\", line 586, in aggregate\n",
      "    return agg_list_like(obj, arg, _axis=_axis), None\n",
      "  File \"c:\\Users\\aniket.itankar\\Anaconda3\\lib\\site-packages\\pandas\\core\\aggregation.py\", line 672, in agg_list_like\n",
      "    raise ValueError(\"no results\")\n",
      "ValueError: no results\n"
     ]
    },
    {
     "name": "stderr",
     "output_type": "stream",
     "text": [
      "2022-06-02 11:16:29,940 - ERROR    - Exception occurred while processing request: no results\n",
      "Traceback (most recent call last):\n",
      "  File \"c:\\Users\\aniket.itankar\\Anaconda3\\lib\\site-packages\\dtale\\views.py\", line 120, in _handle_exceptions\n",
      "    return func(*args, **kwargs)\n",
      "  File \"c:\\Users\\aniket.itankar\\Anaconda3\\lib\\site-packages\\dtale\\views.py\", line 2695, in get_column_analysis\n",
      "    return jsonify(**analysis.build())\n",
      "  File \"c:\\Users\\aniket.itankar\\Anaconda3\\lib\\site-packages\\dtale\\column_analysis.py\", line 137, in build\n",
      "    return_data, code = self.analysis.build(self)\n",
      "  File \"c:\\Users\\aniket.itankar\\Anaconda3\\lib\\site-packages\\dtale\\column_analysis.py\", line 321, in build\n",
      "    hist = parent.data.groupby(self.category_col)[[parent.selected_col]].agg(\n",
      "  File \"c:\\Users\\aniket.itankar\\Anaconda3\\lib\\site-packages\\lux\\core\\groupby.py\", line 32, in aggregate\n",
      "    ret_val = super(LuxGroupBy, self).aggregate(*args, **kwargs)\n",
      "  File \"c:\\Users\\aniket.itankar\\Anaconda3\\lib\\site-packages\\pandas\\core\\groupby\\generic.py\", line 945, in aggregate\n",
      "    result, how = aggregate(self, func, *args, **kwargs)\n",
      "  File \"c:\\Users\\aniket.itankar\\Anaconda3\\lib\\site-packages\\pandas\\core\\aggregation.py\", line 586, in aggregate\n",
      "    return agg_list_like(obj, arg, _axis=_axis), None\n",
      "  File \"c:\\Users\\aniket.itankar\\Anaconda3\\lib\\site-packages\\pandas\\core\\aggregation.py\", line 672, in agg_list_like\n",
      "    raise ValueError(\"no results\")\n",
      "ValueError: no results\n"
     ]
    },
    {
     "name": "stdout",
     "output_type": "stream",
     "text": [
      "Exception occurred while processing request: no results\n",
      "Traceback (most recent call last):\n",
      "  File \"c:\\Users\\aniket.itankar\\Anaconda3\\lib\\site-packages\\dtale\\views.py\", line 120, in _handle_exceptions\n",
      "    return func(*args, **kwargs)\n",
      "  File \"c:\\Users\\aniket.itankar\\Anaconda3\\lib\\site-packages\\dtale\\views.py\", line 2695, in get_column_analysis\n",
      "    return jsonify(**analysis.build())\n",
      "  File \"c:\\Users\\aniket.itankar\\Anaconda3\\lib\\site-packages\\dtale\\column_analysis.py\", line 137, in build\n",
      "    return_data, code = self.analysis.build(self)\n",
      "  File \"c:\\Users\\aniket.itankar\\Anaconda3\\lib\\site-packages\\dtale\\column_analysis.py\", line 321, in build\n",
      "    hist = parent.data.groupby(self.category_col)[[parent.selected_col]].agg(\n",
      "  File \"c:\\Users\\aniket.itankar\\Anaconda3\\lib\\site-packages\\lux\\core\\groupby.py\", line 32, in aggregate\n",
      "    ret_val = super(LuxGroupBy, self).aggregate(*args, **kwargs)\n",
      "  File \"c:\\Users\\aniket.itankar\\Anaconda3\\lib\\site-packages\\pandas\\core\\groupby\\generic.py\", line 945, in aggregate\n",
      "    result, how = aggregate(self, func, *args, **kwargs)\n",
      "  File \"c:\\Users\\aniket.itankar\\Anaconda3\\lib\\site-packages\\pandas\\core\\aggregation.py\", line 586, in aggregate\n",
      "    return agg_list_like(obj, arg, _axis=_axis), None\n",
      "  File \"c:\\Users\\aniket.itankar\\Anaconda3\\lib\\site-packages\\pandas\\core\\aggregation.py\", line 672, in agg_list_like\n",
      "    raise ValueError(\"no results\")\n",
      "ValueError: no results\n"
     ]
    },
    {
     "name": "stderr",
     "output_type": "stream",
     "text": [
      "2022-06-02 11:16:30,719 - ERROR    - Exception occurred while processing request: no results\n",
      "Traceback (most recent call last):\n",
      "  File \"c:\\Users\\aniket.itankar\\Anaconda3\\lib\\site-packages\\dtale\\views.py\", line 120, in _handle_exceptions\n",
      "    return func(*args, **kwargs)\n",
      "  File \"c:\\Users\\aniket.itankar\\Anaconda3\\lib\\site-packages\\dtale\\views.py\", line 2695, in get_column_analysis\n",
      "    return jsonify(**analysis.build())\n",
      "  File \"c:\\Users\\aniket.itankar\\Anaconda3\\lib\\site-packages\\dtale\\column_analysis.py\", line 137, in build\n",
      "    return_data, code = self.analysis.build(self)\n",
      "  File \"c:\\Users\\aniket.itankar\\Anaconda3\\lib\\site-packages\\dtale\\column_analysis.py\", line 321, in build\n",
      "    hist = parent.data.groupby(self.category_col)[[parent.selected_col]].agg(\n",
      "  File \"c:\\Users\\aniket.itankar\\Anaconda3\\lib\\site-packages\\lux\\core\\groupby.py\", line 32, in aggregate\n",
      "    ret_val = super(LuxGroupBy, self).aggregate(*args, **kwargs)\n",
      "  File \"c:\\Users\\aniket.itankar\\Anaconda3\\lib\\site-packages\\pandas\\core\\groupby\\generic.py\", line 945, in aggregate\n",
      "    result, how = aggregate(self, func, *args, **kwargs)\n",
      "  File \"c:\\Users\\aniket.itankar\\Anaconda3\\lib\\site-packages\\pandas\\core\\aggregation.py\", line 586, in aggregate\n",
      "    return agg_list_like(obj, arg, _axis=_axis), None\n",
      "  File \"c:\\Users\\aniket.itankar\\Anaconda3\\lib\\site-packages\\pandas\\core\\aggregation.py\", line 672, in agg_list_like\n",
      "    raise ValueError(\"no results\")\n",
      "ValueError: no results\n"
     ]
    },
    {
     "name": "stdout",
     "output_type": "stream",
     "text": [
      "Exception occurred while processing request: no results\n",
      "Traceback (most recent call last):\n",
      "  File \"c:\\Users\\aniket.itankar\\Anaconda3\\lib\\site-packages\\dtale\\views.py\", line 120, in _handle_exceptions\n",
      "    return func(*args, **kwargs)\n",
      "  File \"c:\\Users\\aniket.itankar\\Anaconda3\\lib\\site-packages\\dtale\\views.py\", line 2695, in get_column_analysis\n",
      "    return jsonify(**analysis.build())\n",
      "  File \"c:\\Users\\aniket.itankar\\Anaconda3\\lib\\site-packages\\dtale\\column_analysis.py\", line 137, in build\n",
      "    return_data, code = self.analysis.build(self)\n",
      "  File \"c:\\Users\\aniket.itankar\\Anaconda3\\lib\\site-packages\\dtale\\column_analysis.py\", line 321, in build\n",
      "    hist = parent.data.groupby(self.category_col)[[parent.selected_col]].agg(\n",
      "  File \"c:\\Users\\aniket.itankar\\Anaconda3\\lib\\site-packages\\lux\\core\\groupby.py\", line 32, in aggregate\n",
      "    ret_val = super(LuxGroupBy, self).aggregate(*args, **kwargs)\n",
      "  File \"c:\\Users\\aniket.itankar\\Anaconda3\\lib\\site-packages\\pandas\\core\\groupby\\generic.py\", line 945, in aggregate\n",
      "    result, how = aggregate(self, func, *args, **kwargs)\n",
      "  File \"c:\\Users\\aniket.itankar\\Anaconda3\\lib\\site-packages\\pandas\\core\\aggregation.py\", line 586, in aggregate\n",
      "    return agg_list_like(obj, arg, _axis=_axis), None\n",
      "  File \"c:\\Users\\aniket.itankar\\Anaconda3\\lib\\site-packages\\pandas\\core\\aggregation.py\", line 672, in agg_list_like\n",
      "    raise ValueError(\"no results\")\n",
      "ValueError: no results\n"
     ]
    },
    {
     "name": "stderr",
     "output_type": "stream",
     "text": [
      "2022-06-02 11:16:32,958 - ERROR    - Exception occurred while processing request: no results\n",
      "Traceback (most recent call last):\n",
      "  File \"c:\\Users\\aniket.itankar\\Anaconda3\\lib\\site-packages\\dtale\\views.py\", line 120, in _handle_exceptions\n",
      "    return func(*args, **kwargs)\n",
      "  File \"c:\\Users\\aniket.itankar\\Anaconda3\\lib\\site-packages\\dtale\\views.py\", line 2695, in get_column_analysis\n",
      "    return jsonify(**analysis.build())\n",
      "  File \"c:\\Users\\aniket.itankar\\Anaconda3\\lib\\site-packages\\dtale\\column_analysis.py\", line 137, in build\n",
      "    return_data, code = self.analysis.build(self)\n",
      "  File \"c:\\Users\\aniket.itankar\\Anaconda3\\lib\\site-packages\\dtale\\column_analysis.py\", line 321, in build\n",
      "    hist = parent.data.groupby(self.category_col)[[parent.selected_col]].agg(\n",
      "  File \"c:\\Users\\aniket.itankar\\Anaconda3\\lib\\site-packages\\lux\\core\\groupby.py\", line 32, in aggregate\n",
      "    ret_val = super(LuxGroupBy, self).aggregate(*args, **kwargs)\n",
      "  File \"c:\\Users\\aniket.itankar\\Anaconda3\\lib\\site-packages\\pandas\\core\\groupby\\generic.py\", line 945, in aggregate\n",
      "    result, how = aggregate(self, func, *args, **kwargs)\n",
      "  File \"c:\\Users\\aniket.itankar\\Anaconda3\\lib\\site-packages\\pandas\\core\\aggregation.py\", line 586, in aggregate\n",
      "    return agg_list_like(obj, arg, _axis=_axis), None\n",
      "  File \"c:\\Users\\aniket.itankar\\Anaconda3\\lib\\site-packages\\pandas\\core\\aggregation.py\", line 672, in agg_list_like\n",
      "    raise ValueError(\"no results\")\n",
      "ValueError: no results\n"
     ]
    },
    {
     "name": "stdout",
     "output_type": "stream",
     "text": [
      "Exception occurred while processing request: no results\n",
      "Traceback (most recent call last):\n",
      "  File \"c:\\Users\\aniket.itankar\\Anaconda3\\lib\\site-packages\\dtale\\views.py\", line 120, in _handle_exceptions\n",
      "    return func(*args, **kwargs)\n",
      "  File \"c:\\Users\\aniket.itankar\\Anaconda3\\lib\\site-packages\\dtale\\views.py\", line 2695, in get_column_analysis\n",
      "    return jsonify(**analysis.build())\n",
      "  File \"c:\\Users\\aniket.itankar\\Anaconda3\\lib\\site-packages\\dtale\\column_analysis.py\", line 137, in build\n",
      "    return_data, code = self.analysis.build(self)\n",
      "  File \"c:\\Users\\aniket.itankar\\Anaconda3\\lib\\site-packages\\dtale\\column_analysis.py\", line 321, in build\n",
      "    hist = parent.data.groupby(self.category_col)[[parent.selected_col]].agg(\n",
      "  File \"c:\\Users\\aniket.itankar\\Anaconda3\\lib\\site-packages\\lux\\core\\groupby.py\", line 32, in aggregate\n",
      "    ret_val = super(LuxGroupBy, self).aggregate(*args, **kwargs)\n",
      "  File \"c:\\Users\\aniket.itankar\\Anaconda3\\lib\\site-packages\\pandas\\core\\groupby\\generic.py\", line 945, in aggregate\n",
      "    result, how = aggregate(self, func, *args, **kwargs)\n",
      "  File \"c:\\Users\\aniket.itankar\\Anaconda3\\lib\\site-packages\\pandas\\core\\aggregation.py\", line 586, in aggregate\n",
      "    return agg_list_like(obj, arg, _axis=_axis), None\n",
      "  File \"c:\\Users\\aniket.itankar\\Anaconda3\\lib\\site-packages\\pandas\\core\\aggregation.py\", line 672, in agg_list_like\n",
      "    raise ValueError(\"no results\")\n",
      "ValueError: no results\n"
     ]
    },
    {
     "name": "stderr",
     "output_type": "stream",
     "text": [
      "2022-06-02 11:16:33,705 - ERROR    - Exception occurred while processing request: no results\n",
      "Traceback (most recent call last):\n",
      "  File \"c:\\Users\\aniket.itankar\\Anaconda3\\lib\\site-packages\\dtale\\views.py\", line 120, in _handle_exceptions\n",
      "    return func(*args, **kwargs)\n",
      "  File \"c:\\Users\\aniket.itankar\\Anaconda3\\lib\\site-packages\\dtale\\views.py\", line 2695, in get_column_analysis\n",
      "    return jsonify(**analysis.build())\n",
      "  File \"c:\\Users\\aniket.itankar\\Anaconda3\\lib\\site-packages\\dtale\\column_analysis.py\", line 137, in build\n",
      "    return_data, code = self.analysis.build(self)\n",
      "  File \"c:\\Users\\aniket.itankar\\Anaconda3\\lib\\site-packages\\dtale\\column_analysis.py\", line 321, in build\n",
      "    hist = parent.data.groupby(self.category_col)[[parent.selected_col]].agg(\n",
      "  File \"c:\\Users\\aniket.itankar\\Anaconda3\\lib\\site-packages\\lux\\core\\groupby.py\", line 32, in aggregate\n",
      "    ret_val = super(LuxGroupBy, self).aggregate(*args, **kwargs)\n",
      "  File \"c:\\Users\\aniket.itankar\\Anaconda3\\lib\\site-packages\\pandas\\core\\groupby\\generic.py\", line 945, in aggregate\n",
      "    result, how = aggregate(self, func, *args, **kwargs)\n",
      "  File \"c:\\Users\\aniket.itankar\\Anaconda3\\lib\\site-packages\\pandas\\core\\aggregation.py\", line 586, in aggregate\n",
      "    return agg_list_like(obj, arg, _axis=_axis), None\n",
      "  File \"c:\\Users\\aniket.itankar\\Anaconda3\\lib\\site-packages\\pandas\\core\\aggregation.py\", line 672, in agg_list_like\n",
      "    raise ValueError(\"no results\")\n",
      "ValueError: no results\n"
     ]
    },
    {
     "name": "stdout",
     "output_type": "stream",
     "text": [
      "Executing shutdown due to inactivity...\n"
     ]
    },
    {
     "name": "stderr",
     "output_type": "stream",
     "text": [
      "2022-06-02 12:18:12,013 - INFO     - Executing shutdown due to inactivity...\n"
     ]
    },
    {
     "name": "stdout",
     "output_type": "stream",
     "text": [
      "Executing shutdown...\n"
     ]
    },
    {
     "name": "stderr",
     "output_type": "stream",
     "text": [
      "2022-06-02 12:18:24,323 - INFO     - Executing shutdown...\n"
     ]
    }
   ],
   "source": [
    "dtale_report.open_browser()"
   ]
  },
  {
   "cell_type": "markdown",
   "metadata": {},
   "source": [
    "Since D Tale is a web based EDA library. We can analyse data on web and save the plots and make the conclusions."
   ]
  },
  {
   "cell_type": "markdown",
   "metadata": {},
   "source": [
    "### Generate Lux Report"
   ]
  },
  {
   "cell_type": "code",
   "execution_count": 10,
   "metadata": {},
   "outputs": [
    {
     "data": {
      "application/vnd.jupyter.widget-view+json": {
       "model_id": "a1509ffc25df4c7692f28755740e5a32",
       "version_major": 2,
       "version_minor": 0
      },
      "text/plain": [
       "Button(description='Toggle Pandas/Lux', layout=Layout(top='5px', width='140px'), style=ButtonStyle())"
      ]
     },
     "metadata": {},
     "output_type": "display_data"
    },
    {
     "data": {
      "application/vnd.jupyter.widget-view+json": {
       "model_id": "609ce5bac11e4227a7eb4dc6cb75722f",
       "version_major": 2,
       "version_minor": 0
      },
      "text/plain": [
       "Output()"
      ]
     },
     "metadata": {},
     "output_type": "display_data"
    }
   ],
   "source": [
    "df"
   ]
  },
  {
   "cell_type": "markdown",
   "metadata": {},
   "source": [
    "By default Lux displays the Correlation graph, Distribution of each f each quantitative attributes and Occurence "
   ]
  },
  {
   "cell_type": "code",
   "execution_count": 11,
   "metadata": {},
   "outputs": [
    {
     "data": {
      "text/plain": [
       "29.69911764705882"
      ]
     },
     "execution_count": 11,
     "metadata": {},
     "output_type": "execute_result"
    }
   ],
   "source": [
    "df['Age'].mean()"
   ]
  },
  {
   "cell_type": "code",
   "execution_count": null,
   "metadata": {},
   "outputs": [],
   "source": []
  }
 ],
 "metadata": {
  "interpreter": {
   "hash": "47cff4823c7373fe45fba76d551ac015bdf2cc9d3fdfdac54b7bfe0c425487e8"
  },
  "kernelspec": {
   "display_name": "Python 3.8.8 ('base')",
   "language": "python",
   "name": "python3"
  },
  "language_info": {
   "codemirror_mode": {
    "name": "ipython",
    "version": 3
   },
   "file_extension": ".py",
   "mimetype": "text/x-python",
   "name": "python",
   "nbconvert_exporter": "python",
   "pygments_lexer": "ipython3",
   "version": "3.8.8"
  },
  "orig_nbformat": 4
 },
 "nbformat": 4,
 "nbformat_minor": 2
}

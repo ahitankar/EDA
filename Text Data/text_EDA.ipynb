{
 "cells": [
  {
   "cell_type": "markdown",
   "metadata": {},
   "source": [
    "#   Text-Hero"
   ]
  },
  {
   "cell_type": "markdown",
   "metadata": {},
   "source": [
    "Texthero is a python toolkit to work with text-based dataset quickly and effortlessly. Texthero is very simple to learn and designed to be used on top of Pandas. Texthero has the same expressiveness and power of Pandas and is extensively documented. Texthero is modern and conceived for programmers of the 2020 decade with little knowledge if any in linguistic."
   ]
  },
  {
   "cell_type": "markdown",
   "metadata": {},
   "source": [
    "#   Texthero include tools for:\n",
    "\n",
    "*   Preprocess text data: it offers both out-of-the-box solutions but it's also flexible for custom-solutions.\n",
    "*   Natural Language Processing: keyphrases and keywords extraction, and named entity recognition.\n",
    "*   Text representation: TF-IDF, term frequency, and custom word-embeddings (wip)\n",
    "*   Vector space analysis: clustering (K-means, Meanshift, DBSCAN and Hierarchical), topic modeling (wip) and interpretation.\n",
    "*   Text visualization: vector space visualization, place localization on maps (wip)."
   ]
  },
  {
   "cell_type": "markdown",
   "metadata": {},
   "source": [
    "##   Installation"
   ]
  },
  {
   "cell_type": "code",
   "execution_count": 1,
   "metadata": {},
   "outputs": [
    {
     "name": "stdout",
     "output_type": "stream",
     "text": [
      "Collecting texthero\n",
      "  Downloading texthero-1.1.0-py3-none-any.whl (24 kB)\n",
      "Requirement already satisfied: tqdm>=4.3 in c:\\users\\aniket.itankar\\anaconda3\\lib\\site-packages (from texthero) (4.64.0)\n",
      "Requirement already satisfied: wordcloud>=1.5.0 in c:\\users\\aniket.itankar\\anaconda3\\lib\\site-packages (from texthero) (1.8.1)\n",
      "Collecting gensim<4.0,>=3.6.0\n",
      "  Downloading gensim-3.8.3-cp38-cp38-win_amd64.whl (24.2 MB)\n",
      "Collecting unidecode>=1.1.1\n",
      "  Downloading Unidecode-1.3.4-py3-none-any.whl (235 kB)\n",
      "Requirement already satisfied: matplotlib>=3.1.0 in c:\\users\\aniket.itankar\\anaconda3\\lib\\site-packages (from texthero) (3.3.4)\n",
      "Collecting spacy<3.0.0\n",
      "  Downloading spacy-2.3.7-cp38-cp38-win_amd64.whl (9.7 MB)\n",
      "Requirement already satisfied: pandas>=1.0.2 in c:\\users\\aniket.itankar\\anaconda3\\lib\\site-packages (from texthero) (1.2.4)\n",
      "Requirement already satisfied: nltk>=3.3 in c:\\users\\aniket.itankar\\anaconda3\\lib\\site-packages (from texthero) (3.6.1)\n",
      "Requirement already satisfied: plotly>=4.2.0 in c:\\users\\aniket.itankar\\anaconda3\\lib\\site-packages (from texthero) (5.5.0)\n",
      "Requirement already satisfied: numpy>=1.17 in c:\\users\\aniket.itankar\\anaconda3\\lib\\site-packages (from texthero) (1.20.1)\n",
      "Requirement already satisfied: scikit-learn>=0.22 in c:\\users\\aniket.itankar\\anaconda3\\lib\\site-packages (from texthero) (0.24.1)\n",
      "Requirement already satisfied: six>=1.5.0 in c:\\users\\aniket.itankar\\anaconda3\\lib\\site-packages (from gensim<4.0,>=3.6.0->texthero) (1.15.0)\n",
      "Collecting smart-open>=1.8.1\n",
      "  Downloading smart_open-6.0.0-py3-none-any.whl (58 kB)\n",
      "Requirement already satisfied: scipy>=0.18.1 in c:\\users\\aniket.itankar\\anaconda3\\lib\\site-packages (from gensim<4.0,>=3.6.0->texthero) (1.6.2)\n",
      "Collecting Cython==0.29.14\n",
      "  Downloading Cython-0.29.14-cp38-cp38-win_amd64.whl (1.7 MB)\n",
      "Requirement already satisfied: pyparsing!=2.0.4,!=2.1.2,!=2.1.6,>=2.0.3 in c:\\users\\aniket.itankar\\anaconda3\\lib\\site-packages (from matplotlib>=3.1.0->texthero) (2.4.7)\n",
      "Requirement already satisfied: kiwisolver>=1.0.1 in c:\\users\\aniket.itankar\\anaconda3\\lib\\site-packages (from matplotlib>=3.1.0->texthero) (1.3.1)\n",
      "Requirement already satisfied: python-dateutil>=2.1 in c:\\users\\aniket.itankar\\anaconda3\\lib\\site-packages (from matplotlib>=3.1.0->texthero) (2.8.1)\n",
      "Requirement already satisfied: pillow>=6.2.0 in c:\\users\\aniket.itankar\\anaconda3\\lib\\site-packages (from matplotlib>=3.1.0->texthero) (8.2.0)\n",
      "Requirement already satisfied: cycler>=0.10 in c:\\users\\aniket.itankar\\anaconda3\\lib\\site-packages (from matplotlib>=3.1.0->texthero) (0.10.0)\n",
      "Requirement already satisfied: joblib in c:\\users\\aniket.itankar\\anaconda3\\lib\\site-packages (from nltk>=3.3->texthero) (1.0.1)\n",
      "Requirement already satisfied: regex in c:\\users\\aniket.itankar\\anaconda3\\lib\\site-packages (from nltk>=3.3->texthero) (2021.4.4)\n",
      "Requirement already satisfied: click in c:\\users\\aniket.itankar\\anaconda3\\lib\\site-packages (from nltk>=3.3->texthero) (7.1.2)\n",
      "Requirement already satisfied: pytz>=2017.3 in c:\\users\\aniket.itankar\\anaconda3\\lib\\site-packages (from pandas>=1.0.2->texthero) (2021.1)\n",
      "Requirement already satisfied: tenacity>=6.2.0 in c:\\users\\aniket.itankar\\anaconda3\\lib\\site-packages (from plotly>=4.2.0->texthero) (8.0.1)\n",
      "Requirement already satisfied: threadpoolctl>=2.0.0 in c:\\users\\aniket.itankar\\anaconda3\\lib\\site-packages (from scikit-learn>=0.22->texthero) (2.1.0)\n",
      "Collecting thinc<7.5.0,>=7.4.1\n",
      "  Downloading thinc-7.4.5-cp38-cp38-win_amd64.whl (910 kB)\n",
      "Collecting wasabi<1.1.0,>=0.4.0\n",
      "  Using cached wasabi-0.9.1-py3-none-any.whl (26 kB)\n",
      "Collecting cymem<2.1.0,>=2.0.2\n",
      "  Using cached cymem-2.0.6-cp38-cp38-win_amd64.whl (36 kB)\n",
      "Requirement already satisfied: requests<3.0.0,>=2.13.0 in c:\\users\\aniket.itankar\\anaconda3\\lib\\site-packages (from spacy<3.0.0->texthero) (2.25.1)\n",
      "Requirement already satisfied: setuptools in c:\\users\\aniket.itankar\\anaconda3\\lib\\site-packages (from spacy<3.0.0->texthero) (52.0.0.post20210125)\n",
      "Collecting catalogue<1.1.0,>=0.0.7\n",
      "  Downloading catalogue-1.0.0-py2.py3-none-any.whl (7.7 kB)\n",
      "Collecting plac<1.2.0,>=0.9.6\n",
      "  Downloading plac-1.1.3-py2.py3-none-any.whl (20 kB)\n",
      "Collecting srsly<1.1.0,>=1.0.2\n",
      "  Downloading srsly-1.0.5-cp38-cp38-win_amd64.whl (178 kB)\n",
      "Collecting murmurhash<1.1.0,>=0.28.0\n",
      "  Downloading murmurhash-1.0.7-cp38-cp38-win_amd64.whl (18 kB)\n",
      "Collecting blis<0.8.0,>=0.4.0\n",
      "  Using cached blis-0.7.7-cp38-cp38-win_amd64.whl (6.6 MB)\n",
      "Collecting preshed<3.1.0,>=3.0.2\n",
      "  Using cached preshed-3.0.6-cp38-cp38-win_amd64.whl (113 kB)\n",
      "Requirement already satisfied: certifi>=2017.4.17 in c:\\users\\aniket.itankar\\anaconda3\\lib\\site-packages (from requests<3.0.0,>=2.13.0->spacy<3.0.0->texthero) (2020.12.5)\n",
      "Requirement already satisfied: chardet<5,>=3.0.2 in c:\\users\\aniket.itankar\\anaconda3\\lib\\site-packages (from requests<3.0.0,>=2.13.0->spacy<3.0.0->texthero) (4.0.0)\n",
      "Requirement already satisfied: urllib3<1.27,>=1.21.1 in c:\\users\\aniket.itankar\\anaconda3\\lib\\site-packages (from requests<3.0.0,>=2.13.0->spacy<3.0.0->texthero) (1.26.4)\n",
      "Requirement already satisfied: idna<3,>=2.5 in c:\\users\\aniket.itankar\\anaconda3\\lib\\site-packages (from requests<3.0.0,>=2.13.0->spacy<3.0.0->texthero) (2.10)\n",
      "Requirement already satisfied: colorama in c:\\users\\aniket.itankar\\anaconda3\\lib\\site-packages (from tqdm>=4.3->texthero) (0.4.4)\n",
      "Installing collected packages: murmurhash, cymem, wasabi, srsly, preshed, plac, catalogue, blis, thinc, smart-open, Cython, unidecode, spacy, gensim, texthero\n",
      "  Attempting uninstall: Cython\n",
      "    Found existing installation: Cython 0.29.23\n",
      "    Uninstalling Cython-0.29.23:\n",
      "      Successfully uninstalled Cython-0.29.23\n",
      "Successfully installed Cython-0.29.14 blis-0.7.7 catalogue-1.0.0 cymem-2.0.6 gensim-3.8.3 murmurhash-1.0.7 plac-1.1.3 preshed-3.0.6 smart-open-6.0.0 spacy-2.3.7 srsly-1.0.5 texthero-1.1.0 thinc-7.4.5 unidecode-1.3.4 wasabi-0.9.1\n",
      "Note: you may need to restart the kernel to use updated packages.\n"
     ]
    }
   ],
   "source": [
    "pip install texthero"
   ]
  },
  {
   "cell_type": "markdown",
   "metadata": {},
   "source": [
    "##   1. Text cleaning, TF-IDF representation and Visualization"
   ]
  },
  {
   "cell_type": "markdown",
   "metadata": {},
   "source": [
    "### Load Dataset "
   ]
  },
  {
   "cell_type": "code",
   "execution_count": 2,
   "metadata": {},
   "outputs": [
    {
     "name": "stderr",
     "output_type": "stream",
     "text": [
      "[nltk_data] Downloading package stopwords to\n",
      "[nltk_data]     C:\\Users\\aniket.itankar\\AppData\\Roaming\\nltk_data...\n",
      "[nltk_data]   Unzipping corpora\\stopwords.zip.\n"
     ]
    },
    {
     "name": "stdout",
     "output_type": "stream",
     "text": [
      "✔ Download and installation successful\n",
      "You can now load the model via spacy.load('en_core_web_sm')\n"
     ]
    }
   ],
   "source": [
    "import texthero as hero\n",
    "import pandas as pd\n",
    "\n",
    "df = pd.read_csv(\n",
    "   \"https://github.com/jbesomi/texthero/raw/master/dataset/bbcsport.csv\"\n",
    ")"
   ]
  },
  {
   "cell_type": "code",
   "execution_count": 3,
   "metadata": {},
   "outputs": [
    {
     "data": {
      "text/html": [
       "<div>\n",
       "<style scoped>\n",
       "    .dataframe tbody tr th:only-of-type {\n",
       "        vertical-align: middle;\n",
       "    }\n",
       "\n",
       "    .dataframe tbody tr th {\n",
       "        vertical-align: top;\n",
       "    }\n",
       "\n",
       "    .dataframe thead th {\n",
       "        text-align: right;\n",
       "    }\n",
       "</style>\n",
       "<table border=\"1\" class=\"dataframe\">\n",
       "  <thead>\n",
       "    <tr style=\"text-align: right;\">\n",
       "      <th></th>\n",
       "      <th>text</th>\n",
       "      <th>topic</th>\n",
       "    </tr>\n",
       "  </thead>\n",
       "  <tbody>\n",
       "    <tr>\n",
       "      <th>0</th>\n",
       "      <td>Claxton hunting first major medal\\n\\nBritish h...</td>\n",
       "      <td>athletics</td>\n",
       "    </tr>\n",
       "    <tr>\n",
       "      <th>1</th>\n",
       "      <td>O'Sullivan could run in Worlds\\n\\nSonia O'Sull...</td>\n",
       "      <td>athletics</td>\n",
       "    </tr>\n",
       "    <tr>\n",
       "      <th>2</th>\n",
       "      <td>Greene sets sights on world title\\n\\nMaurice G...</td>\n",
       "      <td>athletics</td>\n",
       "    </tr>\n",
       "    <tr>\n",
       "      <th>3</th>\n",
       "      <td>IAAF launches fight against drugs\\n\\nThe IAAF ...</td>\n",
       "      <td>athletics</td>\n",
       "    </tr>\n",
       "    <tr>\n",
       "      <th>4</th>\n",
       "      <td>Dibaba breaks 5,000m world record\\n\\nEthiopia'...</td>\n",
       "      <td>athletics</td>\n",
       "    </tr>\n",
       "    <tr>\n",
       "      <th>...</th>\n",
       "      <td>...</td>\n",
       "      <td>...</td>\n",
       "    </tr>\n",
       "    <tr>\n",
       "      <th>732</th>\n",
       "      <td>Agassi into second round in Dubai\\n\\nFourth se...</td>\n",
       "      <td>tennis</td>\n",
       "    </tr>\n",
       "    <tr>\n",
       "      <th>733</th>\n",
       "      <td>Mauresmo fights back to win title\\n\\nWorld num...</td>\n",
       "      <td>tennis</td>\n",
       "    </tr>\n",
       "    <tr>\n",
       "      <th>734</th>\n",
       "      <td>Federer wins title in Rotterdam\\n\\nWorld numbe...</td>\n",
       "      <td>tennis</td>\n",
       "    </tr>\n",
       "    <tr>\n",
       "      <th>735</th>\n",
       "      <td>GB players warned over security\\n\\nBritain's D...</td>\n",
       "      <td>tennis</td>\n",
       "    </tr>\n",
       "    <tr>\n",
       "      <th>736</th>\n",
       "      <td>Sharapova overcomes tough Molik\\n\\nWimbledon c...</td>\n",
       "      <td>tennis</td>\n",
       "    </tr>\n",
       "  </tbody>\n",
       "</table>\n",
       "<p>737 rows × 2 columns</p>\n",
       "</div>"
      ],
      "text/plain": [
       "                                                  text      topic\n",
       "0    Claxton hunting first major medal\\n\\nBritish h...  athletics\n",
       "1    O'Sullivan could run in Worlds\\n\\nSonia O'Sull...  athletics\n",
       "2    Greene sets sights on world title\\n\\nMaurice G...  athletics\n",
       "3    IAAF launches fight against drugs\\n\\nThe IAAF ...  athletics\n",
       "4    Dibaba breaks 5,000m world record\\n\\nEthiopia'...  athletics\n",
       "..                                                 ...        ...\n",
       "732  Agassi into second round in Dubai\\n\\nFourth se...     tennis\n",
       "733  Mauresmo fights back to win title\\n\\nWorld num...     tennis\n",
       "734  Federer wins title in Rotterdam\\n\\nWorld numbe...     tennis\n",
       "735  GB players warned over security\\n\\nBritain's D...     tennis\n",
       "736  Sharapova overcomes tough Molik\\n\\nWimbledon c...     tennis\n",
       "\n",
       "[737 rows x 2 columns]"
      ]
     },
     "execution_count": 3,
     "metadata": {},
     "output_type": "execute_result"
    }
   ],
   "source": [
    "df"
   ]
  },
  {
   "cell_type": "markdown",
   "metadata": {},
   "source": [
    "####    Clean the text data, apply tfidf and then apply Principle Component Analysis "
   ]
  },
  {
   "cell_type": "code",
   "execution_count": 4,
   "metadata": {},
   "outputs": [],
   "source": [
    "df['pca'] = (\n",
    "   df['text']\n",
    "   .pipe(hero.clean)\n",
    "   .pipe(hero.tfidf)\n",
    "   .pipe(hero.pca)\n",
    ")\n",
    "\n"
   ]
  },
  {
   "cell_type": "code",
   "execution_count": 5,
   "metadata": {},
   "outputs": [
    {
     "data": {
      "text/html": [
       "<div>\n",
       "<style scoped>\n",
       "    .dataframe tbody tr th:only-of-type {\n",
       "        vertical-align: middle;\n",
       "    }\n",
       "\n",
       "    .dataframe tbody tr th {\n",
       "        vertical-align: top;\n",
       "    }\n",
       "\n",
       "    .dataframe thead th {\n",
       "        text-align: right;\n",
       "    }\n",
       "</style>\n",
       "<table border=\"1\" class=\"dataframe\">\n",
       "  <thead>\n",
       "    <tr style=\"text-align: right;\">\n",
       "      <th></th>\n",
       "      <th>text</th>\n",
       "      <th>topic</th>\n",
       "      <th>pca</th>\n",
       "    </tr>\n",
       "  </thead>\n",
       "  <tbody>\n",
       "    <tr>\n",
       "      <th>0</th>\n",
       "      <td>Claxton hunting first major medal\\n\\nBritish h...</td>\n",
       "      <td>athletics</td>\n",
       "      <td>[-0.09105733733066608, 0.10360599366234843]</td>\n",
       "    </tr>\n",
       "    <tr>\n",
       "      <th>1</th>\n",
       "      <td>O'Sullivan could run in Worlds\\n\\nSonia O'Sull...</td>\n",
       "      <td>athletics</td>\n",
       "      <td>[-0.0004371584247874354, 0.024738139271001356]</td>\n",
       "    </tr>\n",
       "    <tr>\n",
       "      <th>2</th>\n",
       "      <td>Greene sets sights on world title\\n\\nMaurice G...</td>\n",
       "      <td>athletics</td>\n",
       "      <td>[-0.1176391579253836, 0.1287019004109567]</td>\n",
       "    </tr>\n",
       "    <tr>\n",
       "      <th>3</th>\n",
       "      <td>IAAF launches fight against drugs\\n\\nThe IAAF ...</td>\n",
       "      <td>athletics</td>\n",
       "      <td>[-0.09138142482470915, 0.15399980421261966]</td>\n",
       "    </tr>\n",
       "    <tr>\n",
       "      <th>4</th>\n",
       "      <td>Dibaba breaks 5,000m world record\\n\\nEthiopia'...</td>\n",
       "      <td>athletics</td>\n",
       "      <td>[-0.09132047685437644, 0.1350702137675282]</td>\n",
       "    </tr>\n",
       "    <tr>\n",
       "      <th>...</th>\n",
       "      <td>...</td>\n",
       "      <td>...</td>\n",
       "      <td>...</td>\n",
       "    </tr>\n",
       "    <tr>\n",
       "      <th>732</th>\n",
       "      <td>Agassi into second round in Dubai\\n\\nFourth se...</td>\n",
       "      <td>tennis</td>\n",
       "      <td>[-0.06665893083618599, 0.10876574123204553]</td>\n",
       "    </tr>\n",
       "    <tr>\n",
       "      <th>733</th>\n",
       "      <td>Mauresmo fights back to win title\\n\\nWorld num...</td>\n",
       "      <td>tennis</td>\n",
       "      <td>[-0.0481179189792036, 0.05297771682325013]</td>\n",
       "    </tr>\n",
       "    <tr>\n",
       "      <th>734</th>\n",
       "      <td>Federer wins title in Rotterdam\\n\\nWorld numbe...</td>\n",
       "      <td>tennis</td>\n",
       "      <td>[-0.04976470048072759, 0.060216712804802154]</td>\n",
       "    </tr>\n",
       "    <tr>\n",
       "      <th>735</th>\n",
       "      <td>GB players warned over security\\n\\nBritain's D...</td>\n",
       "      <td>tennis</td>\n",
       "      <td>[-0.04881470874824559, 0.013783728499715231]</td>\n",
       "    </tr>\n",
       "    <tr>\n",
       "      <th>736</th>\n",
       "      <td>Sharapova overcomes tough Molik\\n\\nWimbledon c...</td>\n",
       "      <td>tennis</td>\n",
       "      <td>[-0.02911057590515425, 0.07147453130155156]</td>\n",
       "    </tr>\n",
       "  </tbody>\n",
       "</table>\n",
       "<p>737 rows × 3 columns</p>\n",
       "</div>"
      ],
      "text/plain": [
       "                                                  text      topic  \\\n",
       "0    Claxton hunting first major medal\\n\\nBritish h...  athletics   \n",
       "1    O'Sullivan could run in Worlds\\n\\nSonia O'Sull...  athletics   \n",
       "2    Greene sets sights on world title\\n\\nMaurice G...  athletics   \n",
       "3    IAAF launches fight against drugs\\n\\nThe IAAF ...  athletics   \n",
       "4    Dibaba breaks 5,000m world record\\n\\nEthiopia'...  athletics   \n",
       "..                                                 ...        ...   \n",
       "732  Agassi into second round in Dubai\\n\\nFourth se...     tennis   \n",
       "733  Mauresmo fights back to win title\\n\\nWorld num...     tennis   \n",
       "734  Federer wins title in Rotterdam\\n\\nWorld numbe...     tennis   \n",
       "735  GB players warned over security\\n\\nBritain's D...     tennis   \n",
       "736  Sharapova overcomes tough Molik\\n\\nWimbledon c...     tennis   \n",
       "\n",
       "                                                pca  \n",
       "0       [-0.09105733733066608, 0.10360599366234843]  \n",
       "1    [-0.0004371584247874354, 0.024738139271001356]  \n",
       "2         [-0.1176391579253836, 0.1287019004109567]  \n",
       "3       [-0.09138142482470915, 0.15399980421261966]  \n",
       "4        [-0.09132047685437644, 0.1350702137675282]  \n",
       "..                                              ...  \n",
       "732     [-0.06665893083618599, 0.10876574123204553]  \n",
       "733      [-0.0481179189792036, 0.05297771682325013]  \n",
       "734    [-0.04976470048072759, 0.060216712804802154]  \n",
       "735    [-0.04881470874824559, 0.013783728499715231]  \n",
       "736     [-0.02911057590515425, 0.07147453130155156]  \n",
       "\n",
       "[737 rows x 3 columns]"
      ]
     },
     "execution_count": 5,
     "metadata": {},
     "output_type": "execute_result"
    }
   ],
   "source": [
    "df"
   ]
  },
  {
   "cell_type": "markdown",
   "metadata": {},
   "source": [
    "Plot the PCA on scatterplot"
   ]
  },
  {
   "cell_type": "code",
   "execution_count": 8,
   "metadata": {},
   "outputs": [
    {
     "data": {
      "application/vnd.plotly.v1+json": {
       "config": {
        "plotlyServerURL": "https://plot.ly"
       },
       "data": [
        {
         "hovertemplate": "topic=athletics<br>x=%{x}<br>y=%{y}<extra></extra>",
         "legendgroup": "athletics",
         "marker": {
          "color": "#636efa",
          "symbol": "circle"
         },
         "mode": "markers",
         "name": "athletics",
         "orientation": "v",
         "showlegend": true,
         "type": "scatter",
         "x": [
          -0.09105733733066608,
          -0.0004371584247874354,
          -0.1176391579253836,
          -0.09138142482470915,
          -0.09132047685437644,
          -0.11034417253201949,
          -0.02905213592671906,
          -0.042943969009869076,
          -0.12893821602638472,
          -0.1575160605250382,
          -0.09588207078374737,
          -0.10788095757587421,
          -0.08973196015612632,
          -0.0805724678994018,
          -0.07798235267321181,
          -0.12049592551745666,
          -0.14088185933443673,
          -0.10529545555447245,
          -0.11142678697543726,
          -0.10788095757587421,
          -0.09700925707373591,
          -0.10706627425869272,
          -0.14570744482303935,
          -0.0747376085238237,
          -0.10886729343396016,
          -0.0859257859834237,
          -0.09924688887543602,
          -0.11472771911513638,
          -0.10913965148713578,
          -0.0744080525197845,
          -0.049745426634610915,
          -0.13235688259253875,
          -0.1510604750532678,
          -0.1317021618290124,
          -0.08931048453446398,
          -0.05478129802691454,
          -0.10214129521014884,
          -0.10206980811962171,
          -0.05796671606381252,
          -0.07947062503170481,
          -0.06950696250641711,
          -0.09035673233313321,
          -0.06176445410648351,
          -0.05644157519263535,
          -0.09423029254704193,
          -0.08174458870457164,
          -0.11258620077801072,
          -0.1270392185164388,
          -0.054829718364799294,
          -0.1212100651152963,
          -0.12810736597628575,
          -0.09388437482621911,
          -0.09631029592099019,
          -0.14346589793120382,
          -0.09680533411898826,
          -0.104576098674582,
          -0.1281612596019241,
          -0.13845520733860314,
          -0.11371812068054647,
          -0.10019295310164945,
          -0.11216790293405404,
          -0.06183024475407478,
          -0.12158681473066842,
          -0.06483048964965125,
          -0.11022607138005439,
          -0.16008954052068472,
          -0.11223957713466018,
          -0.03021270810364399,
          -0.17674263023437328,
          -0.10723472481233878,
          -0.10579753045276621,
          -0.059242739833260546,
          -0.10770970239761647,
          -0.10511972388205504,
          -0.10488031407831595,
          -0.06418899181456945,
          -0.014976227356911957,
          -0.08105607233855777,
          -0.1353513078631139,
          -0.13043881575322458,
          -0.146429478906846,
          -0.1278578760823666,
          -0.06373178928089475,
          -0.09388437482621911,
          -0.0747228085506572,
          -0.08022779388893964,
          -0.08369432979334737,
          -0.054829718364799294,
          -0.1319904357207167,
          -0.09233757344005822,
          -0.07001063237792166,
          -0.07753581134062172,
          -0.022617862967174048,
          -0.08826721770336018,
          -0.15267712154661556,
          -0.11294890915914245,
          -0.044316556428553755,
          -0.10713783744935694,
          -0.1378816955041818,
          -0.06297459229217363,
          -0.05845918797891417
         ],
         "xaxis": "x",
         "y": [
          0.10360599366234843,
          0.024738139271001356,
          0.1287019004109567,
          0.15399980421261966,
          0.1350702137675282,
          0.15765551744834477,
          0.07036431539846566,
          0.034739168182531206,
          0.1707878918688204,
          0.2403756928065786,
          0.1150366279871653,
          0.10887500242818232,
          0.11688302497564441,
          0.04880483272734137,
          0.13012213151517177,
          0.33156044997536316,
          0.33401802899357885,
          0.1770321763027968,
          0.13481838604235982,
          0.10887500242818232,
          0.15726873949962772,
          0.13108450252188014,
          0.3346163157544462,
          0.11097270753999817,
          0.15277128706352505,
          0.17999175048219795,
          0.15877043328342486,
          0.13619888664587265,
          0.16126233573498566,
          0.10381572938738964,
          0.07709941324405466,
          0.2084106232734704,
          0.3368436036431731,
          0.15863512004988578,
          0.1691437565637956,
          0.12910455421989947,
          0.13610035140344032,
          0.08914981688454993,
          0.12285617690421656,
          0.0834773304154556,
          0.09687681328333476,
          0.12523529135080494,
          0.12044304333393975,
          0.0793695328660752,
          0.15985641824644975,
          0.11323264660715159,
          0.25884882330667375,
          0.3035686840547907,
          0.13457347339069006,
          0.3225059588701636,
          0.34405383393728234,
          0.15325797589509227,
          0.11275423667192223,
          0.3147030505504267,
          0.13854546429410783,
          0.1337706499099394,
          0.15071441937832877,
          0.1641434904850804,
          0.0892331485930024,
          0.13712784352635646,
          0.15025453176192546,
          0.08605400672611715,
          0.15624734527342957,
          0.10154309819183123,
          0.13132008962208025,
          0.29474579849534577,
          0.15633088154386485,
          0.08156677922595919,
          0.24988142606082978,
          0.08383142586884286,
          0.11839882690148254,
          0.06541659411865137,
          0.08483451234684031,
          0.12842332788251104,
          0.1855291717782366,
          0.10160520703668224,
          0.0502928116292071,
          0.11161755385138354,
          0.3271362943527632,
          0.27806491107346754,
          0.34305535262885345,
          0.3381451224945314,
          0.107554113794628,
          0.15325797589509227,
          0.10391865435231029,
          0.09764124548424027,
          0.12010689857700178,
          0.13457347339069006,
          0.30841842911620543,
          0.0976910353485744,
          0.1341702985623612,
          0.10336145574807873,
          0.01324028241303091,
          0.11308901991462438,
          0.2210020900278803,
          0.12452289664792165,
          0.056533544976510905,
          0.15219605099072037,
          0.1798926386668796,
          0.017585930338545927,
          0.1154942567381628
         ],
         "yaxis": "y"
        },
        {
         "hovertemplate": "topic=cricket<br>x=%{x}<br>y=%{y}<extra></extra>",
         "legendgroup": "cricket",
         "marker": {
          "color": "#EF553B",
          "symbol": "circle"
         },
         "mode": "markers",
         "name": "cricket",
         "orientation": "v",
         "showlegend": true,
         "type": "scatter",
         "x": [
          0.25348461800992944,
          0.21412935304418818,
          0.22596190364479501,
          0.21740007373812584,
          0.11987116458608986,
          0.13979877482269906,
          0.12121142219597411,
          0.10655825007516274,
          0.14944535064259096,
          0.1017645527579584,
          0.12016411006926436,
          0.0525565365012753,
          0.313305071183833,
          0.06329032008111513,
          0.20991478180230405,
          0.032198184113458074,
          0.06174571072043881,
          0.14884793039063327,
          0.2255804185021354,
          0.17599058623239183,
          0.06174571072043881,
          0.1891133697381101,
          0.13947121932178044,
          0.16202226823792226,
          0.07283477035851284,
          0.21479037760663497,
          0.23007080396000582,
          0.21149320848419456,
          0.13964556326791486,
          0.10526280539129403,
          0.25210349751843886,
          0.16202226823792226,
          0.07283477035851284,
          0.1921767933236382,
          0.09284627052499769,
          0.11191456660611275,
          0.08186087717765757,
          0.16455182243665956,
          0.11109887723594981,
          0.18275595788472784,
          0.1295798265056853,
          0.24579212514237475,
          0.2507620366023225,
          0.21438682690913632,
          0.26283674615204966,
          0.16641447147658409,
          0.061474872831807435,
          0.19766194443453727,
          0.13315441889868002,
          0.18830326141246348,
          0.030988631272966315,
          0.2656121290637542,
          0.26612450711627633,
          0.23017436324456164,
          0.1280313866022391,
          0.2241248570497542,
          0.11946800407546246,
          0.05630509683130121,
          0.2062021044815312,
          0.16744605416190347,
          0.16732227435710906,
          0.22974743283487495,
          0.29784749067023747,
          0.20874912517888736,
          0.1574698272825675,
          0.1286372802052977,
          0.1926544059484807,
          0.37101628818721183,
          0.13081853419601222,
          0.25745480071120813,
          0.34171110217253237,
          0.1554194196976479,
          0.30493937447019137,
          0.24928884837577012,
          0.3512969192344646,
          0.19599763833948386,
          0.1688786813501756,
          0.0619088031680935,
          0.18965791892702435,
          0.24686488382511068,
          0.17396054326138105,
          0.27548177044684513,
          0.32688200562061714,
          0.32735747412513094,
          0.10488264033417372,
          0.266409825984027,
          0.27974278007255915,
          0.2830335988037796,
          0.27693343366136525,
          0.13887069734180674,
          -0.02618262784312497,
          0.0898293914745046,
          0.20740306365602318,
          0.03117622393566708,
          0.1453313678480313,
          0.17699675987229546,
          0.11109430611441547,
          0.1778659330841829,
          0.10033117468048626,
          0.16848696753566073,
          0.08765467897616301,
          0.01744631482662621,
          0.08971676213848731,
          0.09368102110042716,
          0.06733064005445569,
          0.04713249661374964,
          0.2053522180537083,
          0.038978743430258575,
          0.2860954409841314,
          0.20412186840411525,
          0.11369929039716836,
          -0.033497247984517454,
          0.1663205648102501,
          0.12976004340702268,
          0.10115048706622033,
          0.028390843039943162,
          0.2086579635271393,
          0.11373014305917215,
          0.23117530582563878,
          0.10374934712276014,
          0.1349353728070385,
          0.08427065543932104,
          0.11011701590094072,
          0.11957165705193525
         ],
         "xaxis": "x",
         "y": [
          0.11868364587640741,
          0.057191940861248,
          0.09693421939203513,
          0.17773350321197653,
          0.009002087089141493,
          0.028626013873724404,
          0.10696032293668971,
          0.07302379952145516,
          0.14669084580835587,
          0.059225210255734545,
          0.10379343623961211,
          -0.006198081717508805,
          0.07155963404054311,
          0.02851316936840037,
          0.07506014814437544,
          0.0019132982555759197,
          0.06407501580187279,
          0.04712847717814953,
          0.06425653526210685,
          0.03178571222536885,
          0.06407501580187279,
          0.17128353325585435,
          0.11022003740592909,
          0.14029436112048327,
          0.11255221401532886,
          0.17342907891871112,
          0.09093177265944274,
          0.13303738505153836,
          0.1099450989854783,
          0.03179168409480023,
          0.0744674679836027,
          0.14029436112048327,
          0.11255221401532886,
          0.17633634625195682,
          0.07636371742601612,
          0.04353794634610713,
          0.09430055621677999,
          0.0945174638712649,
          0.061019984953604896,
          0.04127007486450969,
          0.12260055970774143,
          0.030940819124939973,
          0.05996591905402025,
          0.16253844461752942,
          0.17555142972979637,
          0.09034288494281612,
          0.07788685125000622,
          0.035124530148592494,
          0.06958448317157638,
          0.05027151515237733,
          0.00841251726364099,
          0.11464854409995841,
          0.1157270597483292,
          0.15637345663473654,
          0.11084604975854641,
          0.11048480518245106,
          0.10213414337141974,
          0.08062824377190676,
          0.11227430384832622,
          0.1623511186414621,
          0.16184741176055667,
          0.1654675793249691,
          0.017417460219056408,
          0.05454305742440984,
          0.15520219493331347,
          0.07706138956880478,
          0.027038353101147473,
          0.06907794731391693,
          0.02861727177893999,
          0.20617720823594482,
          0.016588940719560685,
          0.09792959959381227,
          0.07112104955097516,
          0.2028722283454306,
          0.06687039437246993,
          -0.000285944393007436,
          0.1390364530372459,
          0.05951721004127324,
          0.038894011579519785,
          0.06026162544386001,
          0.12884797065616604,
          0.17855398396564334,
          0.06341298254305767,
          0.06612564531171614,
          0.09670192105232114,
          0.2141237098529911,
          0.20427858842868413,
          0.2058741348301784,
          0.018937197988078944,
          0.11353064015350807,
          0.06443605195101246,
          0.05060678406776543,
          0.0602321054355628,
          0.07024403862128882,
          0.015936922490828922,
          0.028867174793602336,
          -0.01931861734345496,
          0.12815045030754985,
          0.053728407637400256,
          0.13676370942752758,
          0.07633443195506807,
          0.06501045893012423,
          0.06619875274844575,
          0.12327668537449935,
          0.06453118883841336,
          0.05725011075973338,
          0.03134011904893725,
          0.011992973951635786,
          0.022369709955899646,
          0.12203169555273578,
          0.10754830078982511,
          0.06289627598195083,
          0.11723573177390867,
          0.1229384821500633,
          0.07434546058031445,
          -0.004306874749869236,
          0.027671031637227356,
          0.049560438085610836,
          0.02153666340957448,
          0.07460957923565154,
          0.10336474546372636,
          -0.002068078735611229,
          -0.041744248731369185,
          0.0819925468738516
         ],
         "yaxis": "y"
        },
        {
         "hovertemplate": "topic=football<br>x=%{x}<br>y=%{y}<extra></extra>",
         "legendgroup": "football",
         "marker": {
          "color": "#00cc96",
          "symbol": "circle"
         },
         "mode": "markers",
         "name": "football",
         "orientation": "v",
         "showlegend": true,
         "type": "scatter",
         "x": [
          -0.046937321751156016,
          -0.11362401958303221,
          -0.08356882582806252,
          -0.0968743435288866,
          0.07296656241811231,
          -0.033746460838323604,
          -0.07624131616603416,
          -0.1987381913211683,
          -0.10023011564244837,
          -0.12673199718653116,
          -0.006058586673984437,
          -0.01638106435644382,
          -0.011318612793609953,
          -0.0019120002949325923,
          -0.005051596880444627,
          -0.05492004176093512,
          -0.12322986601575844,
          -0.17115114333276868,
          -0.004561436637493392,
          -0.04140065834525549,
          -0.03799963615267457,
          -0.04708851273130783,
          -0.05170007086439373,
          -0.13819342003307028,
          -0.023979150802607336,
          -0.011023414799440254,
          -0.17127321740773846,
          -0.10744607859933378,
          0.004979158143333586,
          -0.06753076816254407,
          -0.1375386097691905,
          -0.0645999580852119,
          -0.017084144306617106,
          0.016423809321540948,
          0.006878176924798976,
          -0.059934071109359915,
          -0.04320089237332333,
          0.0029032667639013457,
          0.0149247210295066,
          0.021626892960241798,
          -0.03137180728930545,
          -0.05997894693757495,
          -0.07747219481727026,
          -0.06594251465568031,
          -0.06371273251403134,
          -0.10993089115312972,
          -0.1485811530115713,
          -0.04861110586402188,
          -0.05644879876800604,
          -0.08692607912842298,
          -0.02425283038361719,
          -0.026917433594536373,
          -0.040256714377901216,
          -0.05401553868200317,
          -0.04766007309332805,
          -0.04751303443156624,
          -0.05516280292959241,
          -0.1067634726397303,
          -0.06069401053672832,
          -0.1269255804814054,
          -0.08854296792297651,
          -0.07391028991598521,
          -0.11310730004487038,
          -0.0967417902887333,
          -0.1850172874455304,
          -0.05513212129871793,
          -0.08310750478090409,
          -0.050080184969179535,
          -0.0707796347175161,
          -0.059429854864963765,
          -0.08762608519433107,
          -0.06603302762095203,
          -0.10995066663163632,
          -0.1324663770677309,
          -0.20226482764084755,
          -0.08618628568535766,
          -0.03329119030006932,
          -0.07569057107812455,
          -0.00855175713970846,
          -0.1273253160786517,
          -0.07636674064256532,
          -0.07527559735475103,
          -0.18261321045225506,
          -0.0867788799329443,
          -0.05189377412331306,
          -0.07309382794703706,
          -0.13049267957103525,
          -0.13049267957103525,
          -0.14948392338647024,
          -0.11787010973808001,
          -0.03604311890054772,
          -0.07998548694019174,
          -0.07808995941414941,
          -0.10678181546951195,
          -0.0757567067707801,
          0.022005222168226694,
          -0.038383894194275125,
          -0.09017228562879186,
          -0.10601162458800167,
          -0.05027400898960482,
          -0.0760657467439215,
          -0.118060603902637,
          -0.09971334692661864,
          -0.11968965909415473,
          -0.14084040994604438,
          -0.06873566105416205,
          -0.1277510579974273,
          -0.051195076850127405,
          -0.0708937408489332,
          -0.0492647191100807,
          -0.05967695328560552,
          -0.11687078825420176,
          -0.04539127154893044,
          -0.054582285239720064,
          -0.16303647945307442,
          -0.04033778947614631,
          -0.11224731419931575,
          -0.031961915635784606,
          -0.025464284276396666,
          -0.000034355008498402,
          -0.01416717710763624,
          -0.03244927930247175,
          -0.02191513107198532,
          -0.1750601173148977,
          0.01701813154556029,
          -0.061718706657852625,
          -0.051554893894724334,
          -0.0463674409589638,
          -0.09486560740855224,
          -0.020879137667118432,
          0.005145601822188047,
          -0.038911870672008596,
          -0.11316338359605943,
          -0.11355017392476864,
          -0.060507423347344894,
          -0.05453453510771819,
          -0.13240879889535684,
          -0.03254158201704423,
          -0.0576307721992671,
          -0.06950335183496774,
          -0.13109960254434663,
          -0.10564596700033618,
          -0.11641066359965992,
          -0.09565340565154722,
          -0.13094933588685728,
          -0.017993033937652777,
          -0.06383769041149483,
          -0.1008626792662563,
          -0.19352545471113422,
          -0.06321148274213269,
          -0.05284914888726565,
          -0.11600723374154492,
          -0.051095079662164075,
          -0.09780917674948177,
          -0.07207612699562461,
          -0.05687939844840233,
          -0.07895054846039042,
          -0.1466144643814984,
          -0.04454050763470827,
          -0.11365943245293057,
          -0.1466144643814984,
          -0.06707430434595815,
          -0.06850831636834444,
          -0.06850831636834444,
          -0.09288010636758037,
          -0.06932205469065493,
          -0.060303156712301784,
          -0.051764147892656535,
          -0.036167885044164266,
          -0.06016640722828173,
          -0.0872026868681959,
          -0.13332705694900096,
          -0.07244593500895094,
          -0.04064657304521431,
          -0.040020876488642346,
          -0.06033029274311884,
          -0.07183172315531886,
          -0.15649895912139133,
          -0.07456281981464782,
          -0.16983292776855363,
          -0.09023147468902697,
          -0.055175896976178786,
          -0.04012811277443139,
          -0.06171177387021939,
          -0.08166161734572012,
          -0.12841556138046076,
          -0.08673105916099252,
          -0.09583603616646695,
          -0.07977587594663595,
          -0.16121261539691578,
          -0.15695278573978644,
          -0.1192486891661338,
          -0.078989197284244,
          -0.07277225107437518,
          -0.05903133301454697,
          0.005099480444052247,
          -0.03689278427613471,
          -0.10092956601168046,
          -0.07661723555605614,
          -0.0676506023748501,
          -0.05358877929228634,
          -0.19570456214028525,
          -0.05518060133284713,
          -0.06538377515560348,
          -0.0768332889326765,
          -0.0427276696325873,
          -0.20020327873129357,
          -0.05197694931433617,
          -0.14451695362679423,
          -0.08356882582806252,
          -0.06631379939670926,
          -0.07780278597961021,
          -0.03540194243501126,
          -0.04738520159777253,
          -0.12164980507337572,
          -0.07010617164519126,
          -0.030182337219990675,
          -0.0599708075926144,
          -0.022903145117254498,
          0.0024773494371260556,
          -0.1338644157526506,
          -0.005716093770539189,
          -0.10062405355999704,
          -0.03263002133979884,
          -0.042296101052502234,
          -0.09711146837225072,
          -0.032312522879965125,
          -0.08200870656387454,
          -0.18140518962993712,
          -0.12590817311660754,
          -0.06026367541711314,
          -0.08688735851266044,
          -0.09170076515742973,
          -0.060350370504505944,
          -0.048810134565014984,
          -0.024515079735652718,
          -0.08932654772356605,
          -0.06683416881372607,
          -0.1856448671072391,
          -0.11395130872185247,
          -0.12262823801653865,
          -0.06403327658901549,
          -0.17265965794768073,
          -0.08049470967581426,
          -0.13006314832556792,
          -0.07570828812013937,
          -0.025319030710645715,
          -0.045445568060806324,
          -0.05793258975827137,
          -0.14924403522479912,
          -0.07932749316683795,
          -0.12632738269223887,
          -0.07904554522456599,
          -0.04085718377222431,
          -0.039924971090965634,
          -0.054925105442626104,
          -0.10146972640565241,
          -0.009506692657492611,
          -0.05170343422303747,
          -0.0830166613179513,
          -0.021691198992990296,
          -0.09842054130487307,
          -0.06484214536312347,
          -0.035698220610855765,
          -0.0028493303478725252
         ],
         "xaxis": "x",
         "y": [
          -0.08581397609918127,
          -0.11600586344707335,
          -0.06951865144751689,
          -0.06803783620614128,
          -0.06195966927074073,
          -0.009037369778328901,
          -0.09513812073323445,
          -0.2181143127633155,
          -0.11989562323781451,
          -0.1666248707295328,
          -0.056285794669112515,
          -0.045971924420579784,
          -0.04301969328930771,
          -0.027138399647049852,
          -0.018076060552989014,
          -0.05828117897315073,
          -0.19929586674073596,
          -0.17070209904801015,
          -0.045289122102989764,
          -0.04326265252240211,
          -0.10399752818134461,
          -0.03354855318124414,
          -0.015522346931264157,
          -0.12719880855180368,
          -0.1285077215908108,
          -0.07951402092296657,
          -0.17042781401018292,
          -0.12203372632757531,
          -0.07081580292247167,
          -0.032900876373329765,
          -0.14203629341603313,
          -0.0784262649532088,
          -0.014423156241180951,
          -0.042645716812093275,
          -0.049227831186751676,
          -0.009005933738679655,
          0.014944360810380142,
          -0.02011089554108026,
          -0.11208057757595591,
          -0.009773309205519479,
          -0.020285783932422023,
          0.03677315595277997,
          -0.07444012836931381,
          -0.05794355971308097,
          -0.08284432617854018,
          -0.10106939285854148,
          -0.17347678950419584,
          -0.14266994792425533,
          -0.03393225065187634,
          -0.08130391951718281,
          -0.05150708218578563,
          -0.01879600075040709,
          -0.031539356558206735,
          -0.0074569557538039745,
          0.006426129005304547,
          -0.08577290526335943,
          -0.11056906664223087,
          -0.11062598651803955,
          -0.013251904562943645,
          -0.08877684907807114,
          -0.11327305564269032,
          -0.0776726072380494,
          -0.11369810590259304,
          -0.0694905245028896,
          -0.24120827700441166,
          -0.11230976689012104,
          -0.057047007987474266,
          -0.058244867143261894,
          -0.07282254606590267,
          -0.028246519270786037,
          -0.07390251958584518,
          -0.03498346113742345,
          -0.09054638387531289,
          -0.08534731014945471,
          -0.1825703392183851,
          -0.005791693069645811,
          -0.005049311633824808,
          -0.06791283340429702,
          0.013648664296268972,
          -0.08146267228683744,
          -0.018963813170707104,
          -0.07483081092847269,
          -0.16546334775904345,
          -0.06488432072590762,
          -0.06251772192493964,
          -0.1042242975124762,
          -0.14141341779293048,
          -0.14141341779293048,
          -0.15580021607842048,
          -0.12292018081449817,
          -0.03897155289410755,
          -0.06128267210012508,
          -0.04747485409934642,
          -0.08025383933228211,
          -0.06000414873041849,
          0.03814500386446357,
          -0.005964650993535835,
          -0.09581067331494063,
          -0.05609281232684276,
          -0.013197851718842555,
          -0.06935507702676035,
          -0.10492320827087857,
          -0.06979964169316082,
          -0.0972008029754379,
          -0.0008778830753365727,
          -0.08908001207582188,
          -0.05051616822720993,
          -0.020867977217211266,
          -0.016752419180094864,
          0.004678646170503005,
          -0.0673690422977823,
          -0.08670370202688206,
          -0.025513005118940606,
          -0.07612055329192739,
          -0.1723266481897422,
          -0.005499359230934818,
          -0.06925913886858304,
          -0.04687854897720527,
          -0.007803368123250892,
          0.01009429435725024,
          0.0018081435586057516,
          -0.07637998871520792,
          -0.08132999875089075,
          -0.19995492331542045,
          -0.00641673017753347,
          -0.02994590516025217,
          -0.04169748193796941,
          -0.0672843654056986,
          -0.13569884161157525,
          0.011057414256707596,
          0.00028897409813148574,
          -0.05573092993928736,
          -0.12256144879842809,
          -0.14447938861906195,
          -0.06895148428599374,
          -0.026351800085713938,
          -0.14881041909445283,
          -0.055781085496717626,
          -0.033839800706480905,
          -0.004097941373533552,
          -0.14989355618859362,
          -0.15943229480618445,
          -0.09426318703555406,
          -0.11981697452188993,
          -0.13237568875242992,
          -0.05355856005046657,
          0.043101877690498794,
          -0.0890189312207532,
          -0.19783932831832068,
          -0.05055432646517704,
          -0.03721690929211741,
          -0.13663740340600627,
          -0.06687571108259112,
          -0.1107747807908955,
          -0.035335525466308026,
          -0.06463939831424975,
          -0.03975783486884429,
          -0.16711309758046475,
          0.0017612118957710356,
          -0.09192836576519904,
          -0.16711309758046475,
          -0.05489996239914037,
          -0.014101420878665229,
          -0.014101420878665229,
          -0.09709411821579034,
          -0.06492980613170694,
          -0.03248494689420411,
          -0.0011955120863041174,
          -0.051869344614391646,
          -0.03350348642964383,
          -0.028970850673864082,
          -0.10625547764860112,
          -0.0921150205623817,
          -0.08681554389574782,
          -0.06602358590551188,
          -0.07168779766034442,
          0.018224353920592306,
          -0.09442060918725044,
          -0.0476417529363122,
          -0.19766269905223416,
          -0.06688700738525798,
          -0.03070879913604853,
          -0.020327538019684205,
          -0.09011917735008725,
          -0.06357110296362986,
          -0.13689752005544892,
          -0.12919856545926367,
          -0.11142348728761652,
          -0.11868834772559206,
          -0.1316111309095243,
          -0.19380711520806224,
          -0.16881401454135161,
          -0.09039999371725906,
          -0.0927641405730667,
          -0.03388617467549946,
          -0.03758473064117926,
          0.005449115409908723,
          -0.14911244080712183,
          -0.1776310658355328,
          -0.1500199530734658,
          -0.062114727825713666,
          -0.2483672371842165,
          -0.0728926596196972,
          -0.0656882430682942,
          -0.1170868501803918,
          -0.02699763559106283,
          -0.2181725770188422,
          -0.043092978906138835,
          -0.17269011392244557,
          -0.06951865144751689,
          -0.12637170053731764,
          -0.12793105096553353,
          -0.029527702684086016,
          -0.05573792236190898,
          -0.13725387185588142,
          -0.09133330747110786,
          -0.010786718828241075,
          -0.061718097298948164,
          -0.010142706175326007,
          0.009076713529660933,
          -0.18634821109450248,
          -0.05298143350687932,
          -0.06311381793874081,
          -0.0003567937985673601,
          -0.008286900783876606,
          -0.11873694598914675,
          -0.012757196713837059,
          -0.05824417290780636,
          -0.1883313694108298,
          -0.1015070089810888,
          0.05193631178210434,
          -0.057418269493043524,
          -0.06491564165422722,
          -0.03864650379176882,
          -0.01490901916416759,
          -0.08419488197922739,
          -0.09268672172686018,
          -0.0846391272494939,
          -0.1688393266153591,
          -0.1317867035623748,
          -0.10799876259445002,
          -0.024314056659078414,
          -0.20338370243954737,
          -0.03521519716644573,
          -0.11493755761574671,
          -0.06438942380707541,
          -0.07029189096879569,
          0.023576228753010856,
          -0.09696296623631191,
          -0.1524565382658639,
          -0.09429833146170757,
          -0.12254088577100261,
          -0.09489167686302304,
          -0.053440644052023735,
          -0.010890763583569017,
          0.023220842312375315,
          -0.006733243175750485,
          0.03102313593952978,
          -0.0436836105870456,
          -0.11117073141185628,
          -0.023011120244953116,
          -0.1088292575934131,
          -0.028518445317665963,
          -0.02218218639819959,
          -0.02111760878943409
         ],
         "yaxis": "y"
        },
        {
         "hovertemplate": "topic=rugby<br>x=%{x}<br>y=%{y}<extra></extra>",
         "legendgroup": "rugby",
         "marker": {
          "color": "#ab63fa",
          "symbol": "circle"
         },
         "mode": "markers",
         "name": "rugby",
         "orientation": "v",
         "showlegend": true,
         "type": "scatter",
         "x": [
          0.1316295540531445,
          0.1913752522752733,
          0.13730253917125995,
          0.057148341236054716,
          0.06665754235742863,
          0.1515877428583986,
          0.13507657916079588,
          0.1286983113095884,
          0.10035207768332484,
          0.04006618508758638,
          0.009725535438904392,
          0.060456359458115415,
          0.08264072296228225,
          0.030479235373244446,
          0.03817075991122978,
          0.1579872562993547,
          0.19680210717730656,
          0.08504311209331178,
          0.15880991182532278,
          0.15243135061937002,
          0.16238861528154316,
          0.09140203128151592,
          0.06235526439893991,
          0.09358969298827803,
          0.14884012371551367,
          0.02732326258176704,
          0.13541531664620726,
          0.18684190336244297,
          0.22285295933848162,
          0.10959602953982582,
          0.15596298116747756,
          0.21115776171395942,
          0.061958412307189646,
          -0.009002862930262099,
          0.04048528728439889,
          -0.007439766732193776,
          0.2116744326130033,
          0.03470642359734494,
          0.1823761353457259,
          0.27890430650137915,
          0.02532043749174093,
          0.03651012473014241,
          0.13901757031429074,
          0.04422409373568679,
          0.12261775884823832,
          0.12129810267445801,
          0.13730481177863893,
          0.2395909129787807,
          0.10405072544165644,
          0.13271047078586048,
          0.18325768910764545,
          0.0950565565620747,
          0.12658262137450407,
          0.11121643509584843,
          0.13422171091820115,
          0.2687246129964512,
          0.1277198772329149,
          0.0700613818172687,
          0.207387884108191,
          0.10944018104390614,
          0.10405072544165644,
          0.1411118487108363,
          0.06402421953066638,
          0.10095995358280149,
          0.10409842050552168,
          0.15168501691422848,
          0.047093542279685624,
          0.21202650941287976,
          0.10301995210849359,
          0.04509213176551149,
          0.03880562173557317,
          0.11945478067257091,
          0.14639215558777846,
          0.0671802407659973,
          0.08643862666784707,
          0.058800656421149504,
          0.057313393722312166,
          -0.024853006202713288,
          0.05330441775774942,
          0.004137249705337546,
          0.09006012785592564,
          -0.002093631978147799,
          0.025055803538600624,
          0.0576875733028331,
          0.1729715826337023,
          0.09527010846752096,
          0.11909741268325456,
          0.17184951622111289,
          -0.016537502599250176,
          0.20450334794630576,
          0.02109029593683076,
          0.11878797614720076,
          0.0512700811730046,
          0.176239340020516,
          0.1092234473836182,
          0.05778982112054149,
          0.06593601967514308,
          0.09397434747853056,
          0.06372245324350756,
          0.16284371583162,
          0.015140561236599006,
          0.13207469364065091,
          0.04460780332240696,
          0.13174381851776215,
          0.12989770761275649,
          0.11244716489203645,
          0.03561000818277031,
          0.04509704689665809,
          0.08216784151155183,
          0.022461202856769384,
          0.0020685525331039377,
          -0.05513450676060984,
          -0.053952670296417905,
          0.028838805340539408,
          0.027140336060137885,
          -0.04075888009825399,
          0.18431520389813877,
          0.06379045015303317,
          0.05241065755210121,
          -0.0021479421792505384,
          0.1302947456945191,
          0.13856729931425465,
          0.0966644176295169,
          -0.03129184779642065,
          -0.021918679919367624,
          -0.04801115048632826,
          0.110273504647186,
          0.11753906987930289,
          0.1437744177372447,
          0.18063775474515223,
          0.15127983102598042,
          0.26274137323421887,
          0.15164812244791187,
          0.15173980970807305,
          0.0950565565620747,
          0.11908735442902507,
          0.11905350506158353,
          0.03639671231442917,
          0.12712382932727034,
          0.0698043879854899,
          0.22535550149286232,
          0.1406539441250755,
          0.22354233921558989,
          0.12427644989728082,
          0.13711418612270515,
          0.08029381499697982,
          0.04599634255429864
         ],
         "xaxis": "x",
         "y": [
          -0.18046973451273993,
          -0.20508440665954814,
          -0.1653367755906575,
          -0.04914082525086838,
          -0.10318676053123434,
          -0.2012398225274908,
          -0.1769017878305898,
          -0.14537230682812902,
          -0.12927443989364826,
          -0.04250820296778836,
          -0.05584893223731105,
          -0.03407415778257215,
          -0.10258452236129065,
          -0.08580617182553968,
          -0.039942723433865575,
          -0.1597703083966134,
          -0.16134160320522054,
          -0.1069888145232838,
          -0.11305190193717829,
          -0.15786612041240852,
          -0.14652387881680046,
          -0.09937452605749915,
          -0.04822851073542993,
          -0.08049846656185149,
          -0.15835470607855054,
          -0.09801225698331692,
          -0.09722504440514108,
          -0.12517240122854267,
          -0.11734003796768723,
          -0.14795101629623286,
          -0.11068585492310382,
          -0.16123701835975554,
          -0.1249077758569276,
          -0.012562890587777807,
          -0.06462263590837006,
          0.01931111681032623,
          -0.12393455272633729,
          -0.054372644935331824,
          -0.08241754231578767,
          -0.21973691144772686,
          0.006636497502816807,
          0.008004961470006693,
          -0.17845973387989703,
          -0.1166239180445734,
          -0.07822127444503006,
          -0.07716370980924936,
          -0.14960086406360706,
          -0.13998687012180625,
          -0.08409037449470053,
          -0.08971483163669107,
          -0.1553649890275675,
          -0.08946737322393779,
          -0.1501594143117518,
          -0.0916221979996927,
          -0.16719856487435267,
          -0.09793113842482629,
          -0.12891167418096092,
          -0.06779551712340522,
          -0.18701018675218248,
          -0.10800085081937677,
          -0.08409037449470053,
          -0.11698242095346112,
          -0.10162748471091299,
          -0.11747910101720216,
          -0.12693436737744107,
          -0.15484248345201812,
          -0.024583756512186805,
          -0.16038994203327492,
          -0.11438439410006483,
          -0.018375340670899323,
          -0.0873393874391677,
          -0.09955853927375351,
          -0.14488225040694214,
          -0.11401301466605403,
          -0.14202159241627332,
          -0.09305869251478109,
          -0.12661957772905613,
          -0.026543100911915616,
          -0.04226815540290156,
          -0.025914134009907663,
          -0.10704573341251244,
          -0.05016823636616818,
          -0.02747869962173665,
          -0.0573601393770456,
          -0.0935810883171179,
          -0.017847886881177666,
          -0.08260988113441968,
          -0.06822785789394752,
          -0.024980444874703505,
          -0.1594928438921241,
          -0.008137031239493478,
          -0.07665097789184945,
          -0.09769556384823733,
          -0.09710354324639167,
          -0.05557070985329943,
          -0.021500755250009777,
          -0.06754773113589572,
          -0.03849451893887553,
          -0.01892997710596602,
          -0.14104456276921903,
          -0.01618140803357844,
          -0.09210764213002297,
          0.008161394953605218,
          -0.09175080050191343,
          -0.08054460036001791,
          -0.06337127231690654,
          -0.08659609318359122,
          -0.09447395132882155,
          -0.004335703313190804,
          -0.08111390148054075,
          -0.0723806043015392,
          -0.030557183335527965,
          -0.031591343337925744,
          -0.025757092865573036,
          -0.019686930879935827,
          -0.05774196523478813,
          -0.1882753112539426,
          -0.013499673640848935,
          -0.0835736322168206,
          -0.06521029504544322,
          -0.11680530178958193,
          -0.12154897261492953,
          -0.109305746044361,
          -0.05506450883521728,
          -0.07857374035055867,
          -0.04063469191671437,
          -0.04785756197372154,
          -0.11141979629633166,
          0.004500162814754054,
          -0.15750426999185946,
          -0.18857236462565838,
          -0.21710044606844595,
          -0.20100228955533095,
          -0.07592986634524795,
          -0.08946737322393779,
          -0.14265722948504733,
          -0.04860292604349846,
          -0.061309557909717996,
          -0.1332892235915926,
          -0.10611656442160643,
          -0.1593458076121122,
          -0.1618879152733531,
          -0.11724313396183564,
          -0.08286094699988662,
          -0.07392752986288118,
          -0.04384118175119022,
          -0.04330638217545178
         ],
         "yaxis": "y"
        },
        {
         "hovertemplate": "topic=tennis<br>x=%{x}<br>y=%{y}<extra></extra>",
         "legendgroup": "tennis",
         "marker": {
          "color": "#FFA15A",
          "symbol": "circle"
         },
         "mode": "markers",
         "name": "tennis",
         "orientation": "v",
         "showlegend": true,
         "type": "scatter",
         "x": [
          -0.0427402149266308,
          -0.054938573205058565,
          -0.05574604621982981,
          -0.0692359107534209,
          -0.038017793324510975,
          -0.05441616355368174,
          -0.059782985749811925,
          -0.04885151360804415,
          -0.05569918185544083,
          -0.05134096597715333,
          -0.027551564269017434,
          -0.07348890729551971,
          -0.038137071759809724,
          -0.04017803572944489,
          -0.0467152473795449,
          -0.05134096597715333,
          -0.06422606071989126,
          -0.07348890729551971,
          -0.04062309983766371,
          -0.04656273492980663,
          -0.06792495941483695,
          -0.060373304771841205,
          -0.0556391733416342,
          -0.07349661520731178,
          -0.04480179517185848,
          -0.04184567567996439,
          -0.02240999104488781,
          -0.06057738503593081,
          -0.05802520963371982,
          -0.061034273898984574,
          -0.04144622917498694,
          -0.0562693849704329,
          -0.0623281363656016,
          -0.04819984051559107,
          -0.03353036279066329,
          -0.02587492346599704,
          -0.06884678959374659,
          -0.07582120325624198,
          -0.05151211261544936,
          -0.05575521253718829,
          -0.0514406326023915,
          -0.043266176057909174,
          -0.06589363750175117,
          -0.06653011835767943,
          -0.04816521323611376,
          -0.07045914291729094,
          -0.05460644936076012,
          -0.05662787785644346,
          -0.07579951092887174,
          -0.07579951092887174,
          -0.058207251917104595,
          -0.05621924441900641,
          -0.04831644322891497,
          -0.03186356499387688,
          -0.04931106716035436,
          -0.08160808262717252,
          -0.06957223229744121,
          -0.040958900286330036,
          -0.03988601229754897,
          -0.06206474316392939,
          -0.06272322446444037,
          -0.03872074465466205,
          -0.04619258081164282,
          -0.10003677626607638,
          -0.0539658282945228,
          -0.06487455765405435,
          -0.05460475514263705,
          -0.025309188328709188,
          -0.08046607886492749,
          -0.08055420721547894,
          -0.05119827711537203,
          -0.07720704117412994,
          -0.0578734314092851,
          -0.0482187474115949,
          -0.10310255357628512,
          -0.035892732636482544,
          -0.029701987035294582,
          -0.047262790440165035,
          -0.08005679031514495,
          -0.0721722136792751,
          -0.041855991321699794,
          -0.07206046308550772,
          -0.06630433137917867,
          -0.0323313034708638,
          -0.051040764350228106,
          -0.027652348798030576,
          -0.06094207177868799,
          -0.020843037119292203,
          -0.06216429168764187,
          -0.03775609575842816,
          -0.07892696942581165,
          0.017119969326506744,
          -0.031718589738251826,
          -0.06337009681974132,
          -0.041601620228422155,
          -0.06665893083618599,
          -0.0481179189792036,
          -0.04976470048072759,
          -0.04881470874824559,
          -0.02911057590515425
         ],
         "xaxis": "x",
         "y": [
          0.07811472308370465,
          0.10539073280121707,
          0.04832207190509393,
          0.06966511773170721,
          0.08916931399037403,
          0.08611538744423372,
          0.07916392539206075,
          0.0959213543210939,
          0.0799964758855566,
          0.11599605805801931,
          0.03330026616033595,
          0.05496730770079426,
          0.08718226277131999,
          0.09620899024931585,
          0.08775243725538864,
          0.11599605805801931,
          0.051566100379018535,
          0.05496730770079426,
          0.0893435033298418,
          0.1060828958592968,
          0.1424579172808306,
          0.0598261814616275,
          0.0655861524604764,
          0.11755929225363214,
          0.031154002356148423,
          0.09658591931478276,
          0.07492881174980036,
          0.11580044202367398,
          0.03901524232323882,
          0.1075319977238262,
          0.05951663861666214,
          0.07155831596507327,
          0.09264867539376659,
          0.07223009452424946,
          0.03596408363285149,
          0.041980698718019425,
          0.13560022930670354,
          0.11948779412803379,
          0.10179692001426534,
          0.048533577998765856,
          0.06791184710991478,
          0.06680856095861452,
          0.09690514717331557,
          0.011642138716444114,
          0.10560721039419983,
          0.059290735271275714,
          0.13900261973185915,
          0.07904831490584938,
          0.022441664112480598,
          0.022441664112480598,
          0.14551279508354695,
          0.03369464038802754,
          0.05274134216781949,
          0.042849844669113464,
          0.08005265552574817,
          0.15129299467524956,
          0.11055822015606724,
          0.07567468198996544,
          0.07349368637095442,
          0.09707972887376995,
          0.06318611768892347,
          0.012724761830081373,
          0.09349851863549263,
          0.14911916844782594,
          0.1139981259936262,
          0.0812309647333098,
          0.07481984887405639,
          0.036490993169005906,
          0.04473698286173523,
          0.04492685884899488,
          0.05441241897091327,
          0.11018758453531889,
          0.02715463693905255,
          0.08259837508148278,
          0.1345601712139869,
          0.044986669179965785,
          0.03828663107261478,
          0.07834722102326888,
          0.036244886242128155,
          0.04744607816968271,
          0.06917453667337095,
          0.06399409056756375,
          0.04586842842761971,
          0.02854032192763068,
          0.06759872308651609,
          0.1061456196117625,
          0.07070862398967949,
          0.06845976999658737,
          0.07768417006934328,
          0.07592318937690024,
          0.07621401646590097,
          0.04689093189867245,
          0.06725234865525902,
          0.07963722681898272,
          0.10525732652059938,
          0.10876574123204553,
          0.05297771682325013,
          0.060216712804802154,
          0.013783728499715231,
          0.07147453130155156
         ],
         "yaxis": "y"
        }
       ],
       "layout": {
        "legend": {
         "title": {
          "text": "topic"
         },
         "tracegroupgap": 0
        },
        "template": {
         "data": {
          "bar": [
           {
            "error_x": {
             "color": "#2a3f5f"
            },
            "error_y": {
             "color": "#2a3f5f"
            },
            "marker": {
             "line": {
              "color": "#E5ECF6",
              "width": 0.5
             },
             "pattern": {
              "fillmode": "overlay",
              "size": 10,
              "solidity": 0.2
             }
            },
            "type": "bar"
           }
          ],
          "barpolar": [
           {
            "marker": {
             "line": {
              "color": "#E5ECF6",
              "width": 0.5
             },
             "pattern": {
              "fillmode": "overlay",
              "size": 10,
              "solidity": 0.2
             }
            },
            "type": "barpolar"
           }
          ],
          "carpet": [
           {
            "aaxis": {
             "endlinecolor": "#2a3f5f",
             "gridcolor": "white",
             "linecolor": "white",
             "minorgridcolor": "white",
             "startlinecolor": "#2a3f5f"
            },
            "baxis": {
             "endlinecolor": "#2a3f5f",
             "gridcolor": "white",
             "linecolor": "white",
             "minorgridcolor": "white",
             "startlinecolor": "#2a3f5f"
            },
            "type": "carpet"
           }
          ],
          "choropleth": [
           {
            "colorbar": {
             "outlinewidth": 0,
             "ticks": ""
            },
            "type": "choropleth"
           }
          ],
          "contour": [
           {
            "colorbar": {
             "outlinewidth": 0,
             "ticks": ""
            },
            "colorscale": [
             [
              0,
              "#0d0887"
             ],
             [
              0.1111111111111111,
              "#46039f"
             ],
             [
              0.2222222222222222,
              "#7201a8"
             ],
             [
              0.3333333333333333,
              "#9c179e"
             ],
             [
              0.4444444444444444,
              "#bd3786"
             ],
             [
              0.5555555555555556,
              "#d8576b"
             ],
             [
              0.6666666666666666,
              "#ed7953"
             ],
             [
              0.7777777777777778,
              "#fb9f3a"
             ],
             [
              0.8888888888888888,
              "#fdca26"
             ],
             [
              1,
              "#f0f921"
             ]
            ],
            "type": "contour"
           }
          ],
          "contourcarpet": [
           {
            "colorbar": {
             "outlinewidth": 0,
             "ticks": ""
            },
            "type": "contourcarpet"
           }
          ],
          "heatmap": [
           {
            "colorbar": {
             "outlinewidth": 0,
             "ticks": ""
            },
            "colorscale": [
             [
              0,
              "#0d0887"
             ],
             [
              0.1111111111111111,
              "#46039f"
             ],
             [
              0.2222222222222222,
              "#7201a8"
             ],
             [
              0.3333333333333333,
              "#9c179e"
             ],
             [
              0.4444444444444444,
              "#bd3786"
             ],
             [
              0.5555555555555556,
              "#d8576b"
             ],
             [
              0.6666666666666666,
              "#ed7953"
             ],
             [
              0.7777777777777778,
              "#fb9f3a"
             ],
             [
              0.8888888888888888,
              "#fdca26"
             ],
             [
              1,
              "#f0f921"
             ]
            ],
            "type": "heatmap"
           }
          ],
          "heatmapgl": [
           {
            "colorbar": {
             "outlinewidth": 0,
             "ticks": ""
            },
            "colorscale": [
             [
              0,
              "#0d0887"
             ],
             [
              0.1111111111111111,
              "#46039f"
             ],
             [
              0.2222222222222222,
              "#7201a8"
             ],
             [
              0.3333333333333333,
              "#9c179e"
             ],
             [
              0.4444444444444444,
              "#bd3786"
             ],
             [
              0.5555555555555556,
              "#d8576b"
             ],
             [
              0.6666666666666666,
              "#ed7953"
             ],
             [
              0.7777777777777778,
              "#fb9f3a"
             ],
             [
              0.8888888888888888,
              "#fdca26"
             ],
             [
              1,
              "#f0f921"
             ]
            ],
            "type": "heatmapgl"
           }
          ],
          "histogram": [
           {
            "marker": {
             "pattern": {
              "fillmode": "overlay",
              "size": 10,
              "solidity": 0.2
             }
            },
            "type": "histogram"
           }
          ],
          "histogram2d": [
           {
            "colorbar": {
             "outlinewidth": 0,
             "ticks": ""
            },
            "colorscale": [
             [
              0,
              "#0d0887"
             ],
             [
              0.1111111111111111,
              "#46039f"
             ],
             [
              0.2222222222222222,
              "#7201a8"
             ],
             [
              0.3333333333333333,
              "#9c179e"
             ],
             [
              0.4444444444444444,
              "#bd3786"
             ],
             [
              0.5555555555555556,
              "#d8576b"
             ],
             [
              0.6666666666666666,
              "#ed7953"
             ],
             [
              0.7777777777777778,
              "#fb9f3a"
             ],
             [
              0.8888888888888888,
              "#fdca26"
             ],
             [
              1,
              "#f0f921"
             ]
            ],
            "type": "histogram2d"
           }
          ],
          "histogram2dcontour": [
           {
            "colorbar": {
             "outlinewidth": 0,
             "ticks": ""
            },
            "colorscale": [
             [
              0,
              "#0d0887"
             ],
             [
              0.1111111111111111,
              "#46039f"
             ],
             [
              0.2222222222222222,
              "#7201a8"
             ],
             [
              0.3333333333333333,
              "#9c179e"
             ],
             [
              0.4444444444444444,
              "#bd3786"
             ],
             [
              0.5555555555555556,
              "#d8576b"
             ],
             [
              0.6666666666666666,
              "#ed7953"
             ],
             [
              0.7777777777777778,
              "#fb9f3a"
             ],
             [
              0.8888888888888888,
              "#fdca26"
             ],
             [
              1,
              "#f0f921"
             ]
            ],
            "type": "histogram2dcontour"
           }
          ],
          "mesh3d": [
           {
            "colorbar": {
             "outlinewidth": 0,
             "ticks": ""
            },
            "type": "mesh3d"
           }
          ],
          "parcoords": [
           {
            "line": {
             "colorbar": {
              "outlinewidth": 0,
              "ticks": ""
             }
            },
            "type": "parcoords"
           }
          ],
          "pie": [
           {
            "automargin": true,
            "type": "pie"
           }
          ],
          "scatter": [
           {
            "marker": {
             "colorbar": {
              "outlinewidth": 0,
              "ticks": ""
             }
            },
            "type": "scatter"
           }
          ],
          "scatter3d": [
           {
            "line": {
             "colorbar": {
              "outlinewidth": 0,
              "ticks": ""
             }
            },
            "marker": {
             "colorbar": {
              "outlinewidth": 0,
              "ticks": ""
             }
            },
            "type": "scatter3d"
           }
          ],
          "scattercarpet": [
           {
            "marker": {
             "colorbar": {
              "outlinewidth": 0,
              "ticks": ""
             }
            },
            "type": "scattercarpet"
           }
          ],
          "scattergeo": [
           {
            "marker": {
             "colorbar": {
              "outlinewidth": 0,
              "ticks": ""
             }
            },
            "type": "scattergeo"
           }
          ],
          "scattergl": [
           {
            "marker": {
             "colorbar": {
              "outlinewidth": 0,
              "ticks": ""
             }
            },
            "type": "scattergl"
           }
          ],
          "scattermapbox": [
           {
            "marker": {
             "colorbar": {
              "outlinewidth": 0,
              "ticks": ""
             }
            },
            "type": "scattermapbox"
           }
          ],
          "scatterpolar": [
           {
            "marker": {
             "colorbar": {
              "outlinewidth": 0,
              "ticks": ""
             }
            },
            "type": "scatterpolar"
           }
          ],
          "scatterpolargl": [
           {
            "marker": {
             "colorbar": {
              "outlinewidth": 0,
              "ticks": ""
             }
            },
            "type": "scatterpolargl"
           }
          ],
          "scatterternary": [
           {
            "marker": {
             "colorbar": {
              "outlinewidth": 0,
              "ticks": ""
             }
            },
            "type": "scatterternary"
           }
          ],
          "surface": [
           {
            "colorbar": {
             "outlinewidth": 0,
             "ticks": ""
            },
            "colorscale": [
             [
              0,
              "#0d0887"
             ],
             [
              0.1111111111111111,
              "#46039f"
             ],
             [
              0.2222222222222222,
              "#7201a8"
             ],
             [
              0.3333333333333333,
              "#9c179e"
             ],
             [
              0.4444444444444444,
              "#bd3786"
             ],
             [
              0.5555555555555556,
              "#d8576b"
             ],
             [
              0.6666666666666666,
              "#ed7953"
             ],
             [
              0.7777777777777778,
              "#fb9f3a"
             ],
             [
              0.8888888888888888,
              "#fdca26"
             ],
             [
              1,
              "#f0f921"
             ]
            ],
            "type": "surface"
           }
          ],
          "table": [
           {
            "cells": {
             "fill": {
              "color": "#EBF0F8"
             },
             "line": {
              "color": "white"
             }
            },
            "header": {
             "fill": {
              "color": "#C8D4E3"
             },
             "line": {
              "color": "white"
             }
            },
            "type": "table"
           }
          ]
         },
         "layout": {
          "annotationdefaults": {
           "arrowcolor": "#2a3f5f",
           "arrowhead": 0,
           "arrowwidth": 1
          },
          "autotypenumbers": "strict",
          "coloraxis": {
           "colorbar": {
            "outlinewidth": 0,
            "ticks": ""
           }
          },
          "colorscale": {
           "diverging": [
            [
             0,
             "#8e0152"
            ],
            [
             0.1,
             "#c51b7d"
            ],
            [
             0.2,
             "#de77ae"
            ],
            [
             0.3,
             "#f1b6da"
            ],
            [
             0.4,
             "#fde0ef"
            ],
            [
             0.5,
             "#f7f7f7"
            ],
            [
             0.6,
             "#e6f5d0"
            ],
            [
             0.7,
             "#b8e186"
            ],
            [
             0.8,
             "#7fbc41"
            ],
            [
             0.9,
             "#4d9221"
            ],
            [
             1,
             "#276419"
            ]
           ],
           "sequential": [
            [
             0,
             "#0d0887"
            ],
            [
             0.1111111111111111,
             "#46039f"
            ],
            [
             0.2222222222222222,
             "#7201a8"
            ],
            [
             0.3333333333333333,
             "#9c179e"
            ],
            [
             0.4444444444444444,
             "#bd3786"
            ],
            [
             0.5555555555555556,
             "#d8576b"
            ],
            [
             0.6666666666666666,
             "#ed7953"
            ],
            [
             0.7777777777777778,
             "#fb9f3a"
            ],
            [
             0.8888888888888888,
             "#fdca26"
            ],
            [
             1,
             "#f0f921"
            ]
           ],
           "sequentialminus": [
            [
             0,
             "#0d0887"
            ],
            [
             0.1111111111111111,
             "#46039f"
            ],
            [
             0.2222222222222222,
             "#7201a8"
            ],
            [
             0.3333333333333333,
             "#9c179e"
            ],
            [
             0.4444444444444444,
             "#bd3786"
            ],
            [
             0.5555555555555556,
             "#d8576b"
            ],
            [
             0.6666666666666666,
             "#ed7953"
            ],
            [
             0.7777777777777778,
             "#fb9f3a"
            ],
            [
             0.8888888888888888,
             "#fdca26"
            ],
            [
             1,
             "#f0f921"
            ]
           ]
          },
          "colorway": [
           "#636efa",
           "#EF553B",
           "#00cc96",
           "#ab63fa",
           "#FFA15A",
           "#19d3f3",
           "#FF6692",
           "#B6E880",
           "#FF97FF",
           "#FECB52"
          ],
          "font": {
           "color": "#2a3f5f"
          },
          "geo": {
           "bgcolor": "white",
           "lakecolor": "white",
           "landcolor": "#E5ECF6",
           "showlakes": true,
           "showland": true,
           "subunitcolor": "white"
          },
          "hoverlabel": {
           "align": "left"
          },
          "hovermode": "closest",
          "mapbox": {
           "style": "light"
          },
          "paper_bgcolor": "white",
          "plot_bgcolor": "#E5ECF6",
          "polar": {
           "angularaxis": {
            "gridcolor": "white",
            "linecolor": "white",
            "ticks": ""
           },
           "bgcolor": "#E5ECF6",
           "radialaxis": {
            "gridcolor": "white",
            "linecolor": "white",
            "ticks": ""
           }
          },
          "scene": {
           "xaxis": {
            "backgroundcolor": "#E5ECF6",
            "gridcolor": "white",
            "gridwidth": 2,
            "linecolor": "white",
            "showbackground": true,
            "ticks": "",
            "zerolinecolor": "white"
           },
           "yaxis": {
            "backgroundcolor": "#E5ECF6",
            "gridcolor": "white",
            "gridwidth": 2,
            "linecolor": "white",
            "showbackground": true,
            "ticks": "",
            "zerolinecolor": "white"
           },
           "zaxis": {
            "backgroundcolor": "#E5ECF6",
            "gridcolor": "white",
            "gridwidth": 2,
            "linecolor": "white",
            "showbackground": true,
            "ticks": "",
            "zerolinecolor": "white"
           }
          },
          "shapedefaults": {
           "line": {
            "color": "#2a3f5f"
           }
          },
          "ternary": {
           "aaxis": {
            "gridcolor": "white",
            "linecolor": "white",
            "ticks": ""
           },
           "baxis": {
            "gridcolor": "white",
            "linecolor": "white",
            "ticks": ""
           },
           "bgcolor": "#E5ECF6",
           "caxis": {
            "gridcolor": "white",
            "linecolor": "white",
            "ticks": ""
           }
          },
          "title": {
           "x": 0.05
          },
          "xaxis": {
           "automargin": true,
           "gridcolor": "white",
           "linecolor": "white",
           "ticks": "",
           "title": {
            "standoff": 15
           },
           "zerolinecolor": "white",
           "zerolinewidth": 2
          },
          "yaxis": {
           "automargin": true,
           "gridcolor": "white",
           "linecolor": "white",
           "ticks": "",
           "title": {
            "standoff": 15
           },
           "zerolinecolor": "white",
           "zerolinewidth": 2
          }
         }
        },
        "title": {
         "text": "PCA BBC Sport news"
        },
        "xaxis": {
         "anchor": "y",
         "domain": [
          0,
          1
         ],
         "title": {
          "text": "x"
         }
        },
        "yaxis": {
         "anchor": "x",
         "domain": [
          0,
          1
         ],
         "title": {
          "text": "y"
         }
        }
       }
      }
     },
     "metadata": {},
     "output_type": "display_data"
    }
   ],
   "source": [
    "hero.scatterplot(df, 'pca', color='topic', title=\"PCA BBC Sport news\")"
   ]
  },
  {
   "cell_type": "markdown",
   "metadata": {},
   "source": [
    "##  2. Text preprocessing, TF-IDF, K-means and Visualization"
   ]
  },
  {
   "cell_type": "code",
   "execution_count": 9,
   "metadata": {},
   "outputs": [
    {
     "data": {
      "text/html": [
       "<div>\n",
       "<style scoped>\n",
       "    .dataframe tbody tr th:only-of-type {\n",
       "        vertical-align: middle;\n",
       "    }\n",
       "\n",
       "    .dataframe tbody tr th {\n",
       "        vertical-align: top;\n",
       "    }\n",
       "\n",
       "    .dataframe thead th {\n",
       "        text-align: right;\n",
       "    }\n",
       "</style>\n",
       "<table border=\"1\" class=\"dataframe\">\n",
       "  <thead>\n",
       "    <tr style=\"text-align: right;\">\n",
       "      <th></th>\n",
       "      <th>text</th>\n",
       "      <th>topic</th>\n",
       "      <th>pca</th>\n",
       "    </tr>\n",
       "  </thead>\n",
       "  <tbody>\n",
       "    <tr>\n",
       "      <th>0</th>\n",
       "      <td>Claxton hunting first major medal\\n\\nBritish h...</td>\n",
       "      <td>athletics</td>\n",
       "      <td>[-0.09105733733066608, 0.10360599366234843]</td>\n",
       "    </tr>\n",
       "    <tr>\n",
       "      <th>1</th>\n",
       "      <td>O'Sullivan could run in Worlds\\n\\nSonia O'Sull...</td>\n",
       "      <td>athletics</td>\n",
       "      <td>[-0.0004371584247874354, 0.024738139271001356]</td>\n",
       "    </tr>\n",
       "    <tr>\n",
       "      <th>2</th>\n",
       "      <td>Greene sets sights on world title\\n\\nMaurice G...</td>\n",
       "      <td>athletics</td>\n",
       "      <td>[-0.1176391579253836, 0.1287019004109567]</td>\n",
       "    </tr>\n",
       "    <tr>\n",
       "      <th>3</th>\n",
       "      <td>IAAF launches fight against drugs\\n\\nThe IAAF ...</td>\n",
       "      <td>athletics</td>\n",
       "      <td>[-0.09138142482470915, 0.15399980421261966]</td>\n",
       "    </tr>\n",
       "    <tr>\n",
       "      <th>4</th>\n",
       "      <td>Dibaba breaks 5,000m world record\\n\\nEthiopia'...</td>\n",
       "      <td>athletics</td>\n",
       "      <td>[-0.09132047685437644, 0.1350702137675282]</td>\n",
       "    </tr>\n",
       "    <tr>\n",
       "      <th>...</th>\n",
       "      <td>...</td>\n",
       "      <td>...</td>\n",
       "      <td>...</td>\n",
       "    </tr>\n",
       "    <tr>\n",
       "      <th>732</th>\n",
       "      <td>Agassi into second round in Dubai\\n\\nFourth se...</td>\n",
       "      <td>tennis</td>\n",
       "      <td>[-0.06665893083618599, 0.10876574123204553]</td>\n",
       "    </tr>\n",
       "    <tr>\n",
       "      <th>733</th>\n",
       "      <td>Mauresmo fights back to win title\\n\\nWorld num...</td>\n",
       "      <td>tennis</td>\n",
       "      <td>[-0.0481179189792036, 0.05297771682325013]</td>\n",
       "    </tr>\n",
       "    <tr>\n",
       "      <th>734</th>\n",
       "      <td>Federer wins title in Rotterdam\\n\\nWorld numbe...</td>\n",
       "      <td>tennis</td>\n",
       "      <td>[-0.04976470048072759, 0.060216712804802154]</td>\n",
       "    </tr>\n",
       "    <tr>\n",
       "      <th>735</th>\n",
       "      <td>GB players warned over security\\n\\nBritain's D...</td>\n",
       "      <td>tennis</td>\n",
       "      <td>[-0.04881470874824559, 0.013783728499715231]</td>\n",
       "    </tr>\n",
       "    <tr>\n",
       "      <th>736</th>\n",
       "      <td>Sharapova overcomes tough Molik\\n\\nWimbledon c...</td>\n",
       "      <td>tennis</td>\n",
       "      <td>[-0.02911057590515425, 0.07147453130155156]</td>\n",
       "    </tr>\n",
       "  </tbody>\n",
       "</table>\n",
       "<p>737 rows × 3 columns</p>\n",
       "</div>"
      ],
      "text/plain": [
       "                                                  text      topic  \\\n",
       "0    Claxton hunting first major medal\\n\\nBritish h...  athletics   \n",
       "1    O'Sullivan could run in Worlds\\n\\nSonia O'Sull...  athletics   \n",
       "2    Greene sets sights on world title\\n\\nMaurice G...  athletics   \n",
       "3    IAAF launches fight against drugs\\n\\nThe IAAF ...  athletics   \n",
       "4    Dibaba breaks 5,000m world record\\n\\nEthiopia'...  athletics   \n",
       "..                                                 ...        ...   \n",
       "732  Agassi into second round in Dubai\\n\\nFourth se...     tennis   \n",
       "733  Mauresmo fights back to win title\\n\\nWorld num...     tennis   \n",
       "734  Federer wins title in Rotterdam\\n\\nWorld numbe...     tennis   \n",
       "735  GB players warned over security\\n\\nBritain's D...     tennis   \n",
       "736  Sharapova overcomes tough Molik\\n\\nWimbledon c...     tennis   \n",
       "\n",
       "                                                pca  \n",
       "0       [-0.09105733733066608, 0.10360599366234843]  \n",
       "1    [-0.0004371584247874354, 0.024738139271001356]  \n",
       "2         [-0.1176391579253836, 0.1287019004109567]  \n",
       "3       [-0.09138142482470915, 0.15399980421261966]  \n",
       "4        [-0.09132047685437644, 0.1350702137675282]  \n",
       "..                                              ...  \n",
       "732     [-0.06665893083618599, 0.10876574123204553]  \n",
       "733      [-0.0481179189792036, 0.05297771682325013]  \n",
       "734    [-0.04976470048072759, 0.060216712804802154]  \n",
       "735    [-0.04881470874824559, 0.013783728499715231]  \n",
       "736     [-0.02911057590515425, 0.07147453130155156]  \n",
       "\n",
       "[737 rows x 3 columns]"
      ]
     },
     "execution_count": 9,
     "metadata": {},
     "output_type": "execute_result"
    }
   ],
   "source": [
    "df"
   ]
  },
  {
   "cell_type": "code",
   "execution_count": 11,
   "metadata": {},
   "outputs": [],
   "source": [
    "df['tfidf'] = (\n",
    "    df['text']\n",
    "    .pipe(hero.clean)\n",
    "    .pipe(hero.tfidf)\n",
    ")\n"
   ]
  },
  {
   "cell_type": "code",
   "execution_count": 12,
   "metadata": {},
   "outputs": [
    {
     "data": {
      "text/html": [
       "<div>\n",
       "<style scoped>\n",
       "    .dataframe tbody tr th:only-of-type {\n",
       "        vertical-align: middle;\n",
       "    }\n",
       "\n",
       "    .dataframe tbody tr th {\n",
       "        vertical-align: top;\n",
       "    }\n",
       "\n",
       "    .dataframe thead th {\n",
       "        text-align: right;\n",
       "    }\n",
       "</style>\n",
       "<table border=\"1\" class=\"dataframe\">\n",
       "  <thead>\n",
       "    <tr style=\"text-align: right;\">\n",
       "      <th></th>\n",
       "      <th>text</th>\n",
       "      <th>topic</th>\n",
       "      <th>pca</th>\n",
       "      <th>tfidf</th>\n",
       "    </tr>\n",
       "  </thead>\n",
       "  <tbody>\n",
       "    <tr>\n",
       "      <th>0</th>\n",
       "      <td>Claxton hunting first major medal\\n\\nBritish h...</td>\n",
       "      <td>athletics</td>\n",
       "      <td>[-0.09105733733066608, 0.10360599366234843]</td>\n",
       "      <td>[0.0, 0.0, 0.0, 0.0, 0.0, 0.0, 0.0, 0.0, 0.0, ...</td>\n",
       "    </tr>\n",
       "    <tr>\n",
       "      <th>1</th>\n",
       "      <td>O'Sullivan could run in Worlds\\n\\nSonia O'Sull...</td>\n",
       "      <td>athletics</td>\n",
       "      <td>[-0.0004371584247874354, 0.024738139271001356]</td>\n",
       "      <td>[0.0, 0.0, 0.0, 0.0, 0.0, 0.0, 0.0, 0.0, 0.0, ...</td>\n",
       "    </tr>\n",
       "    <tr>\n",
       "      <th>2</th>\n",
       "      <td>Greene sets sights on world title\\n\\nMaurice G...</td>\n",
       "      <td>athletics</td>\n",
       "      <td>[-0.1176391579253836, 0.1287019004109567]</td>\n",
       "      <td>[0.0, 0.0, 0.0, 0.0, 0.0, 0.0, 0.0533678197008...</td>\n",
       "    </tr>\n",
       "    <tr>\n",
       "      <th>3</th>\n",
       "      <td>IAAF launches fight against drugs\\n\\nThe IAAF ...</td>\n",
       "      <td>athletics</td>\n",
       "      <td>[-0.09138142482470915, 0.15399980421261966]</td>\n",
       "      <td>[0.0, 0.0, 0.0, 0.0, 0.0, 0.0, 0.0, 0.0, 0.0, ...</td>\n",
       "    </tr>\n",
       "    <tr>\n",
       "      <th>4</th>\n",
       "      <td>Dibaba breaks 5,000m world record\\n\\nEthiopia'...</td>\n",
       "      <td>athletics</td>\n",
       "      <td>[-0.09132047685437644, 0.1350702137675282]</td>\n",
       "      <td>[0.24734311047947527, 0.0, 0.0, 0.0, 0.0, 0.0,...</td>\n",
       "    </tr>\n",
       "    <tr>\n",
       "      <th>...</th>\n",
       "      <td>...</td>\n",
       "      <td>...</td>\n",
       "      <td>...</td>\n",
       "      <td>...</td>\n",
       "    </tr>\n",
       "    <tr>\n",
       "      <th>732</th>\n",
       "      <td>Agassi into second round in Dubai\\n\\nFourth se...</td>\n",
       "      <td>tennis</td>\n",
       "      <td>[-0.06665893083618599, 0.10876574123204553]</td>\n",
       "      <td>[0.0, 0.0, 0.0, 0.0, 0.0, 0.0, 0.0, 0.0, 0.0, ...</td>\n",
       "    </tr>\n",
       "    <tr>\n",
       "      <th>733</th>\n",
       "      <td>Mauresmo fights back to win title\\n\\nWorld num...</td>\n",
       "      <td>tennis</td>\n",
       "      <td>[-0.0481179189792036, 0.05297771682325013]</td>\n",
       "      <td>[0.0, 0.0, 0.0, 0.0, 0.0, 0.0, 0.0, 0.0, 0.0, ...</td>\n",
       "    </tr>\n",
       "    <tr>\n",
       "      <th>734</th>\n",
       "      <td>Federer wins title in Rotterdam\\n\\nWorld numbe...</td>\n",
       "      <td>tennis</td>\n",
       "      <td>[-0.04976470048072759, 0.060216712804802154]</td>\n",
       "      <td>[0.0, 0.0, 0.0, 0.0, 0.0, 0.0, 0.0, 0.0, 0.0, ...</td>\n",
       "    </tr>\n",
       "    <tr>\n",
       "      <th>735</th>\n",
       "      <td>GB players warned over security\\n\\nBritain's D...</td>\n",
       "      <td>tennis</td>\n",
       "      <td>[-0.04881470874824559, 0.013783728499715231]</td>\n",
       "      <td>[0.0, 0.0, 0.0, 0.0, 0.0, 0.0, 0.0, 0.0, 0.0, ...</td>\n",
       "    </tr>\n",
       "    <tr>\n",
       "      <th>736</th>\n",
       "      <td>Sharapova overcomes tough Molik\\n\\nWimbledon c...</td>\n",
       "      <td>tennis</td>\n",
       "      <td>[-0.02911057590515425, 0.07147453130155156]</td>\n",
       "      <td>[0.0, 0.0, 0.0, 0.0, 0.0, 0.0, 0.0, 0.0, 0.0, ...</td>\n",
       "    </tr>\n",
       "  </tbody>\n",
       "</table>\n",
       "<p>737 rows × 4 columns</p>\n",
       "</div>"
      ],
      "text/plain": [
       "                                                  text      topic  \\\n",
       "0    Claxton hunting first major medal\\n\\nBritish h...  athletics   \n",
       "1    O'Sullivan could run in Worlds\\n\\nSonia O'Sull...  athletics   \n",
       "2    Greene sets sights on world title\\n\\nMaurice G...  athletics   \n",
       "3    IAAF launches fight against drugs\\n\\nThe IAAF ...  athletics   \n",
       "4    Dibaba breaks 5,000m world record\\n\\nEthiopia'...  athletics   \n",
       "..                                                 ...        ...   \n",
       "732  Agassi into second round in Dubai\\n\\nFourth se...     tennis   \n",
       "733  Mauresmo fights back to win title\\n\\nWorld num...     tennis   \n",
       "734  Federer wins title in Rotterdam\\n\\nWorld numbe...     tennis   \n",
       "735  GB players warned over security\\n\\nBritain's D...     tennis   \n",
       "736  Sharapova overcomes tough Molik\\n\\nWimbledon c...     tennis   \n",
       "\n",
       "                                                pca  \\\n",
       "0       [-0.09105733733066608, 0.10360599366234843]   \n",
       "1    [-0.0004371584247874354, 0.024738139271001356]   \n",
       "2         [-0.1176391579253836, 0.1287019004109567]   \n",
       "3       [-0.09138142482470915, 0.15399980421261966]   \n",
       "4        [-0.09132047685437644, 0.1350702137675282]   \n",
       "..                                              ...   \n",
       "732     [-0.06665893083618599, 0.10876574123204553]   \n",
       "733      [-0.0481179189792036, 0.05297771682325013]   \n",
       "734    [-0.04976470048072759, 0.060216712804802154]   \n",
       "735    [-0.04881470874824559, 0.013783728499715231]   \n",
       "736     [-0.02911057590515425, 0.07147453130155156]   \n",
       "\n",
       "                                                 tfidf  \n",
       "0    [0.0, 0.0, 0.0, 0.0, 0.0, 0.0, 0.0, 0.0, 0.0, ...  \n",
       "1    [0.0, 0.0, 0.0, 0.0, 0.0, 0.0, 0.0, 0.0, 0.0, ...  \n",
       "2    [0.0, 0.0, 0.0, 0.0, 0.0, 0.0, 0.0533678197008...  \n",
       "3    [0.0, 0.0, 0.0, 0.0, 0.0, 0.0, 0.0, 0.0, 0.0, ...  \n",
       "4    [0.24734311047947527, 0.0, 0.0, 0.0, 0.0, 0.0,...  \n",
       "..                                                 ...  \n",
       "732  [0.0, 0.0, 0.0, 0.0, 0.0, 0.0, 0.0, 0.0, 0.0, ...  \n",
       "733  [0.0, 0.0, 0.0, 0.0, 0.0, 0.0, 0.0, 0.0, 0.0, ...  \n",
       "734  [0.0, 0.0, 0.0, 0.0, 0.0, 0.0, 0.0, 0.0, 0.0, ...  \n",
       "735  [0.0, 0.0, 0.0, 0.0, 0.0, 0.0, 0.0, 0.0, 0.0, ...  \n",
       "736  [0.0, 0.0, 0.0, 0.0, 0.0, 0.0, 0.0, 0.0, 0.0, ...  \n",
       "\n",
       "[737 rows x 4 columns]"
      ]
     },
     "execution_count": 12,
     "metadata": {},
     "output_type": "execute_result"
    }
   ],
   "source": [
    "df"
   ]
  },
  {
   "cell_type": "code",
   "execution_count": 13,
   "metadata": {},
   "outputs": [
    {
     "name": "stderr",
     "output_type": "stream",
     "text": [
      "c:\\Users\\aniket.itankar\\Anaconda3\\lib\\site-packages\\sklearn\\cluster\\_kmeans.py:786: FutureWarning:\n",
      "\n",
      "'precompute_distances' was deprecated in version 0.23 and will be removed in 1.0 (renaming of 0.25). It has no effect\n",
      "\n",
      "c:\\Users\\aniket.itankar\\Anaconda3\\lib\\site-packages\\sklearn\\cluster\\_kmeans.py:792: FutureWarning:\n",
      "\n",
      "'n_jobs' was deprecated in version 0.23 and will be removed in 1.0 (renaming of 0.25).\n",
      "\n"
     ]
    }
   ],
   "source": [
    "df['kmeans_labels'] = (\n",
    "    df['tfidf']\n",
    "    .pipe(hero.kmeans, n_clusters=5)\n",
    "    .astype(str)\n",
    ")"
   ]
  },
  {
   "cell_type": "code",
   "execution_count": 14,
   "metadata": {},
   "outputs": [
    {
     "data": {
      "text/html": [
       "<div>\n",
       "<style scoped>\n",
       "    .dataframe tbody tr th:only-of-type {\n",
       "        vertical-align: middle;\n",
       "    }\n",
       "\n",
       "    .dataframe tbody tr th {\n",
       "        vertical-align: top;\n",
       "    }\n",
       "\n",
       "    .dataframe thead th {\n",
       "        text-align: right;\n",
       "    }\n",
       "</style>\n",
       "<table border=\"1\" class=\"dataframe\">\n",
       "  <thead>\n",
       "    <tr style=\"text-align: right;\">\n",
       "      <th></th>\n",
       "      <th>text</th>\n",
       "      <th>topic</th>\n",
       "      <th>pca</th>\n",
       "      <th>tfidf</th>\n",
       "      <th>kmeans_labels</th>\n",
       "    </tr>\n",
       "  </thead>\n",
       "  <tbody>\n",
       "    <tr>\n",
       "      <th>0</th>\n",
       "      <td>Claxton hunting first major medal\\n\\nBritish h...</td>\n",
       "      <td>athletics</td>\n",
       "      <td>[-0.09105733733066608, 0.10360599366234843]</td>\n",
       "      <td>[0.0, 0.0, 0.0, 0.0, 0.0, 0.0, 0.0, 0.0, 0.0, ...</td>\n",
       "      <td>4</td>\n",
       "    </tr>\n",
       "    <tr>\n",
       "      <th>1</th>\n",
       "      <td>O'Sullivan could run in Worlds\\n\\nSonia O'Sull...</td>\n",
       "      <td>athletics</td>\n",
       "      <td>[-0.0004371584247874354, 0.024738139271001356]</td>\n",
       "      <td>[0.0, 0.0, 0.0, 0.0, 0.0, 0.0, 0.0, 0.0, 0.0, ...</td>\n",
       "      <td>4</td>\n",
       "    </tr>\n",
       "    <tr>\n",
       "      <th>2</th>\n",
       "      <td>Greene sets sights on world title\\n\\nMaurice G...</td>\n",
       "      <td>athletics</td>\n",
       "      <td>[-0.1176391579253836, 0.1287019004109567]</td>\n",
       "      <td>[0.0, 0.0, 0.0, 0.0, 0.0, 0.0, 0.0533678197008...</td>\n",
       "      <td>4</td>\n",
       "    </tr>\n",
       "    <tr>\n",
       "      <th>3</th>\n",
       "      <td>IAAF launches fight against drugs\\n\\nThe IAAF ...</td>\n",
       "      <td>athletics</td>\n",
       "      <td>[-0.09138142482470915, 0.15399980421261966]</td>\n",
       "      <td>[0.0, 0.0, 0.0, 0.0, 0.0, 0.0, 0.0, 0.0, 0.0, ...</td>\n",
       "      <td>4</td>\n",
       "    </tr>\n",
       "    <tr>\n",
       "      <th>4</th>\n",
       "      <td>Dibaba breaks 5,000m world record\\n\\nEthiopia'...</td>\n",
       "      <td>athletics</td>\n",
       "      <td>[-0.09132047685437644, 0.1350702137675282]</td>\n",
       "      <td>[0.24734311047947527, 0.0, 0.0, 0.0, 0.0, 0.0,...</td>\n",
       "      <td>4</td>\n",
       "    </tr>\n",
       "    <tr>\n",
       "      <th>...</th>\n",
       "      <td>...</td>\n",
       "      <td>...</td>\n",
       "      <td>...</td>\n",
       "      <td>...</td>\n",
       "      <td>...</td>\n",
       "    </tr>\n",
       "    <tr>\n",
       "      <th>732</th>\n",
       "      <td>Agassi into second round in Dubai\\n\\nFourth se...</td>\n",
       "      <td>tennis</td>\n",
       "      <td>[-0.06665893083618599, 0.10876574123204553]</td>\n",
       "      <td>[0.0, 0.0, 0.0, 0.0, 0.0, 0.0, 0.0, 0.0, 0.0, ...</td>\n",
       "      <td>3</td>\n",
       "    </tr>\n",
       "    <tr>\n",
       "      <th>733</th>\n",
       "      <td>Mauresmo fights back to win title\\n\\nWorld num...</td>\n",
       "      <td>tennis</td>\n",
       "      <td>[-0.0481179189792036, 0.05297771682325013]</td>\n",
       "      <td>[0.0, 0.0, 0.0, 0.0, 0.0, 0.0, 0.0, 0.0, 0.0, ...</td>\n",
       "      <td>3</td>\n",
       "    </tr>\n",
       "    <tr>\n",
       "      <th>734</th>\n",
       "      <td>Federer wins title in Rotterdam\\n\\nWorld numbe...</td>\n",
       "      <td>tennis</td>\n",
       "      <td>[-0.04976470048072759, 0.060216712804802154]</td>\n",
       "      <td>[0.0, 0.0, 0.0, 0.0, 0.0, 0.0, 0.0, 0.0, 0.0, ...</td>\n",
       "      <td>3</td>\n",
       "    </tr>\n",
       "    <tr>\n",
       "      <th>735</th>\n",
       "      <td>GB players warned over security\\n\\nBritain's D...</td>\n",
       "      <td>tennis</td>\n",
       "      <td>[-0.04881470874824559, 0.013783728499715231]</td>\n",
       "      <td>[0.0, 0.0, 0.0, 0.0, 0.0, 0.0, 0.0, 0.0, 0.0, ...</td>\n",
       "      <td>1</td>\n",
       "    </tr>\n",
       "    <tr>\n",
       "      <th>736</th>\n",
       "      <td>Sharapova overcomes tough Molik\\n\\nWimbledon c...</td>\n",
       "      <td>tennis</td>\n",
       "      <td>[-0.02911057590515425, 0.07147453130155156]</td>\n",
       "      <td>[0.0, 0.0, 0.0, 0.0, 0.0, 0.0, 0.0, 0.0, 0.0, ...</td>\n",
       "      <td>3</td>\n",
       "    </tr>\n",
       "  </tbody>\n",
       "</table>\n",
       "<p>737 rows × 5 columns</p>\n",
       "</div>"
      ],
      "text/plain": [
       "                                                  text      topic  \\\n",
       "0    Claxton hunting first major medal\\n\\nBritish h...  athletics   \n",
       "1    O'Sullivan could run in Worlds\\n\\nSonia O'Sull...  athletics   \n",
       "2    Greene sets sights on world title\\n\\nMaurice G...  athletics   \n",
       "3    IAAF launches fight against drugs\\n\\nThe IAAF ...  athletics   \n",
       "4    Dibaba breaks 5,000m world record\\n\\nEthiopia'...  athletics   \n",
       "..                                                 ...        ...   \n",
       "732  Agassi into second round in Dubai\\n\\nFourth se...     tennis   \n",
       "733  Mauresmo fights back to win title\\n\\nWorld num...     tennis   \n",
       "734  Federer wins title in Rotterdam\\n\\nWorld numbe...     tennis   \n",
       "735  GB players warned over security\\n\\nBritain's D...     tennis   \n",
       "736  Sharapova overcomes tough Molik\\n\\nWimbledon c...     tennis   \n",
       "\n",
       "                                                pca  \\\n",
       "0       [-0.09105733733066608, 0.10360599366234843]   \n",
       "1    [-0.0004371584247874354, 0.024738139271001356]   \n",
       "2         [-0.1176391579253836, 0.1287019004109567]   \n",
       "3       [-0.09138142482470915, 0.15399980421261966]   \n",
       "4        [-0.09132047685437644, 0.1350702137675282]   \n",
       "..                                              ...   \n",
       "732     [-0.06665893083618599, 0.10876574123204553]   \n",
       "733      [-0.0481179189792036, 0.05297771682325013]   \n",
       "734    [-0.04976470048072759, 0.060216712804802154]   \n",
       "735    [-0.04881470874824559, 0.013783728499715231]   \n",
       "736     [-0.02911057590515425, 0.07147453130155156]   \n",
       "\n",
       "                                                 tfidf kmeans_labels  \n",
       "0    [0.0, 0.0, 0.0, 0.0, 0.0, 0.0, 0.0, 0.0, 0.0, ...             4  \n",
       "1    [0.0, 0.0, 0.0, 0.0, 0.0, 0.0, 0.0, 0.0, 0.0, ...             4  \n",
       "2    [0.0, 0.0, 0.0, 0.0, 0.0, 0.0, 0.0533678197008...             4  \n",
       "3    [0.0, 0.0, 0.0, 0.0, 0.0, 0.0, 0.0, 0.0, 0.0, ...             4  \n",
       "4    [0.24734311047947527, 0.0, 0.0, 0.0, 0.0, 0.0,...             4  \n",
       "..                                                 ...           ...  \n",
       "732  [0.0, 0.0, 0.0, 0.0, 0.0, 0.0, 0.0, 0.0, 0.0, ...             3  \n",
       "733  [0.0, 0.0, 0.0, 0.0, 0.0, 0.0, 0.0, 0.0, 0.0, ...             3  \n",
       "734  [0.0, 0.0, 0.0, 0.0, 0.0, 0.0, 0.0, 0.0, 0.0, ...             3  \n",
       "735  [0.0, 0.0, 0.0, 0.0, 0.0, 0.0, 0.0, 0.0, 0.0, ...             1  \n",
       "736  [0.0, 0.0, 0.0, 0.0, 0.0, 0.0, 0.0, 0.0, 0.0, ...             3  \n",
       "\n",
       "[737 rows x 5 columns]"
      ]
     },
     "execution_count": 14,
     "metadata": {},
     "output_type": "execute_result"
    }
   ],
   "source": [
    "df"
   ]
  },
  {
   "cell_type": "code",
   "execution_count": 15,
   "metadata": {},
   "outputs": [
    {
     "data": {
      "application/vnd.plotly.v1+json": {
       "config": {
        "plotlyServerURL": "https://plot.ly"
       },
       "data": [
        {
         "hovertemplate": "kmeans_labels=4<br>x=%{x}<br>y=%{y}<extra></extra>",
         "legendgroup": "4",
         "marker": {
          "color": "#636efa",
          "symbol": "circle"
         },
         "mode": "markers",
         "name": "4",
         "orientation": "v",
         "showlegend": true,
         "type": "scatter",
         "x": [
          -0.09105733733066608,
          -0.0004371584247874354,
          -0.1176391579253836,
          -0.09138142482470915,
          -0.09132047685437644,
          -0.11034417253201949,
          -0.02905213592671906,
          -0.12893821602638472,
          -0.1575160605250382,
          -0.09588207078374737,
          -0.10788095757587421,
          -0.08973196015612632,
          -0.0805724678994018,
          -0.07798235267321181,
          -0.12049592551745666,
          -0.14088185933443673,
          -0.10529545555447245,
          -0.11142678697543726,
          -0.10788095757587421,
          -0.09700925707373591,
          -0.10706627425869272,
          -0.14570744482303935,
          -0.0747376085238237,
          -0.10886729343396016,
          -0.0859257859834237,
          -0.09924688887543602,
          -0.11472771911513638,
          -0.10913965148713578,
          -0.0744080525197845,
          -0.049745426634610915,
          -0.13235688259253875,
          -0.1510604750532678,
          -0.1317021618290124,
          -0.08931048453446398,
          -0.05478129802691454,
          -0.10214129521014884,
          -0.10206980811962171,
          -0.05796671606381252,
          -0.07947062503170481,
          -0.06950696250641711,
          -0.09035673233313321,
          -0.06176445410648351,
          -0.05644157519263535,
          -0.09423029254704193,
          -0.08174458870457164,
          -0.11258620077801072,
          -0.1270392185164388,
          -0.054829718364799294,
          -0.1212100651152963,
          -0.12810736597628575,
          -0.09388437482621911,
          -0.09631029592099019,
          -0.14346589793120382,
          -0.09680533411898826,
          -0.104576098674582,
          -0.1281612596019241,
          -0.13845520733860314,
          -0.11371812068054647,
          -0.10019295310164945,
          -0.11216790293405404,
          -0.06183024475407478,
          -0.12158681473066842,
          -0.06483048964965125,
          -0.11022607138005439,
          -0.16008954052068472,
          -0.11223957713466018,
          -0.03021270810364399,
          -0.17674263023437328,
          -0.10723472481233878,
          -0.10579753045276621,
          -0.059242739833260546,
          -0.10770970239761647,
          -0.10511972388205504,
          -0.10488031407831595,
          -0.06418899181456945,
          -0.014976227356911957,
          -0.08105607233855777,
          -0.1353513078631139,
          -0.13043881575322458,
          -0.146429478906846,
          -0.1278578760823666,
          -0.06373178928089475,
          -0.09388437482621911,
          -0.0747228085506572,
          -0.08022779388893964,
          -0.08369432979334737,
          -0.054829718364799294,
          -0.1319904357207167,
          -0.09233757344005822,
          -0.07001063237792166,
          -0.07753581134062172,
          -0.08826721770336018,
          -0.15267712154661556,
          -0.11294890915914245,
          -0.10713783744935694,
          -0.1378816955041818,
          -0.05845918797891417
         ],
         "xaxis": "x",
         "y": [
          0.10360599366234843,
          0.024738139271001356,
          0.1287019004109567,
          0.15399980421261966,
          0.1350702137675282,
          0.15765551744834477,
          0.07036431539846566,
          0.1707878918688204,
          0.2403756928065786,
          0.1150366279871653,
          0.10887500242818232,
          0.11688302497564441,
          0.04880483272734137,
          0.13012213151517177,
          0.33156044997536316,
          0.33401802899357885,
          0.1770321763027968,
          0.13481838604235982,
          0.10887500242818232,
          0.15726873949962772,
          0.13108450252188014,
          0.3346163157544462,
          0.11097270753999817,
          0.15277128706352505,
          0.17999175048219795,
          0.15877043328342486,
          0.13619888664587265,
          0.16126233573498566,
          0.10381572938738964,
          0.07709941324405466,
          0.2084106232734704,
          0.3368436036431731,
          0.15863512004988578,
          0.1691437565637956,
          0.12910455421989947,
          0.13610035140344032,
          0.08914981688454993,
          0.12285617690421656,
          0.0834773304154556,
          0.09687681328333476,
          0.12523529135080494,
          0.12044304333393975,
          0.0793695328660752,
          0.15985641824644975,
          0.11323264660715159,
          0.25884882330667375,
          0.3035686840547907,
          0.13457347339069006,
          0.3225059588701636,
          0.34405383393728234,
          0.15325797589509227,
          0.11275423667192223,
          0.3147030505504267,
          0.13854546429410783,
          0.1337706499099394,
          0.15071441937832877,
          0.1641434904850804,
          0.0892331485930024,
          0.13712784352635646,
          0.15025453176192546,
          0.08605400672611715,
          0.15624734527342957,
          0.10154309819183123,
          0.13132008962208025,
          0.29474579849534577,
          0.15633088154386485,
          0.08156677922595919,
          0.24988142606082978,
          0.08383142586884286,
          0.11839882690148254,
          0.06541659411865137,
          0.08483451234684031,
          0.12842332788251104,
          0.1855291717782366,
          0.10160520703668224,
          0.0502928116292071,
          0.11161755385138354,
          0.3271362943527632,
          0.27806491107346754,
          0.34305535262885345,
          0.3381451224945314,
          0.107554113794628,
          0.15325797589509227,
          0.10391865435231029,
          0.09764124548424027,
          0.12010689857700178,
          0.13457347339069006,
          0.30841842911620543,
          0.0976910353485744,
          0.1341702985623612,
          0.10336145574807873,
          0.11308901991462438,
          0.2210020900278803,
          0.12452289664792165,
          0.15219605099072037,
          0.1798926386668796,
          0.1154942567381628
         ],
         "yaxis": "y"
        },
        {
         "hovertemplate": "kmeans_labels=1<br>x=%{x}<br>y=%{y}<extra></extra>",
         "legendgroup": "1",
         "marker": {
          "color": "#EF553B",
          "symbol": "circle"
         },
         "mode": "markers",
         "name": "1",
         "orientation": "v",
         "showlegend": true,
         "type": "scatter",
         "x": [
          -0.042943969009869076,
          -0.022617862967174048,
          -0.044316556428553755,
          -0.06297459229217363,
          -0.02618262784312497,
          -0.033497247984517454,
          0.028390843039943162,
          -0.046937321751156016,
          -0.11362401958303221,
          -0.08356882582806252,
          -0.0968743435288866,
          0.07296656241811231,
          -0.033746460838323604,
          -0.07624131616603416,
          -0.1987381913211683,
          -0.10023011564244837,
          -0.12673199718653116,
          -0.006058586673984437,
          -0.01638106435644382,
          -0.011318612793609953,
          -0.0019120002949325923,
          -0.005051596880444627,
          -0.05492004176093512,
          -0.12322986601575844,
          -0.17115114333276868,
          -0.004561436637493392,
          -0.04140065834525549,
          -0.03799963615267457,
          -0.04708851273130783,
          -0.05170007086439373,
          -0.13819342003307028,
          -0.023979150802607336,
          -0.011023414799440254,
          -0.17127321740773846,
          -0.10744607859933378,
          0.004979158143333586,
          -0.06753076816254407,
          -0.1375386097691905,
          -0.0645999580852119,
          -0.017084144306617106,
          0.016423809321540948,
          0.006878176924798976,
          -0.059934071109359915,
          -0.04320089237332333,
          0.0029032667639013457,
          0.0149247210295066,
          0.021626892960241798,
          -0.03137180728930545,
          -0.05997894693757495,
          -0.07747219481727026,
          -0.06594251465568031,
          -0.06371273251403134,
          -0.10993089115312972,
          -0.1485811530115713,
          -0.04861110586402188,
          -0.05644879876800604,
          -0.08692607912842298,
          -0.02425283038361719,
          -0.026917433594536373,
          -0.040256714377901216,
          -0.05401553868200317,
          -0.04766007309332805,
          -0.04751303443156624,
          -0.05516280292959241,
          -0.1067634726397303,
          -0.06069401053672832,
          -0.1269255804814054,
          -0.08854296792297651,
          -0.07391028991598521,
          -0.11310730004487038,
          -0.0967417902887333,
          -0.1850172874455304,
          -0.05513212129871793,
          -0.08310750478090409,
          -0.050080184969179535,
          -0.0707796347175161,
          -0.059429854864963765,
          -0.08762608519433107,
          -0.06603302762095203,
          -0.10995066663163632,
          -0.1324663770677309,
          -0.20226482764084755,
          -0.08618628568535766,
          -0.03329119030006932,
          -0.07569057107812455,
          -0.00855175713970846,
          -0.1273253160786517,
          -0.07636674064256532,
          -0.07527559735475103,
          -0.18261321045225506,
          -0.0867788799329443,
          -0.05189377412331306,
          -0.07309382794703706,
          -0.13049267957103525,
          -0.13049267957103525,
          -0.14948392338647024,
          -0.11787010973808001,
          -0.03604311890054772,
          -0.07998548694019174,
          -0.07808995941414941,
          -0.10678181546951195,
          -0.0757567067707801,
          0.022005222168226694,
          -0.038383894194275125,
          -0.09017228562879186,
          -0.10601162458800167,
          -0.05027400898960482,
          -0.0760657467439215,
          -0.118060603902637,
          -0.09971334692661864,
          -0.11968965909415473,
          -0.14084040994604438,
          -0.06873566105416205,
          -0.1277510579974273,
          -0.051195076850127405,
          -0.0708937408489332,
          -0.0492647191100807,
          -0.05967695328560552,
          -0.11687078825420176,
          -0.04539127154893044,
          -0.054582285239720064,
          -0.16303647945307442,
          -0.04033778947614631,
          -0.11224731419931575,
          -0.031961915635784606,
          -0.025464284276396666,
          -0.000034355008498402,
          -0.01416717710763624,
          -0.03244927930247175,
          -0.02191513107198532,
          -0.1750601173148977,
          0.01701813154556029,
          -0.061718706657852625,
          -0.051554893894724334,
          -0.0463674409589638,
          -0.09486560740855224,
          -0.020879137667118432,
          0.005145601822188047,
          -0.038911870672008596,
          -0.11316338359605943,
          -0.11355017392476864,
          -0.060507423347344894,
          -0.05453453510771819,
          -0.13240879889535684,
          -0.03254158201704423,
          -0.0576307721992671,
          -0.06950335183496774,
          -0.13109960254434663,
          -0.10564596700033618,
          -0.11641066359965992,
          -0.09565340565154722,
          -0.13094933588685728,
          -0.017993033937652777,
          -0.06383769041149483,
          -0.1008626792662563,
          -0.19352545471113422,
          -0.06321148274213269,
          -0.05284914888726565,
          -0.11600723374154492,
          -0.051095079662164075,
          -0.09780917674948177,
          -0.07207612699562461,
          -0.05687939844840233,
          -0.07895054846039042,
          -0.1466144643814984,
          -0.04454050763470827,
          -0.11365943245293057,
          -0.1466144643814984,
          -0.06707430434595815,
          -0.06850831636834444,
          -0.06850831636834444,
          -0.09288010636758037,
          -0.06932205469065493,
          -0.060303156712301784,
          -0.051764147892656535,
          -0.036167885044164266,
          -0.06016640722828173,
          -0.0872026868681959,
          -0.13332705694900096,
          -0.07244593500895094,
          -0.04064657304521431,
          -0.040020876488642346,
          -0.06033029274311884,
          -0.07183172315531886,
          -0.15649895912139133,
          -0.07456281981464782,
          -0.16983292776855363,
          -0.09023147468902697,
          -0.055175896976178786,
          -0.04012811277443139,
          -0.06171177387021939,
          -0.08166161734572012,
          -0.12841556138046076,
          -0.08673105916099252,
          -0.09583603616646695,
          -0.07977587594663595,
          -0.16121261539691578,
          -0.15695278573978644,
          -0.1192486891661338,
          -0.078989197284244,
          -0.07277225107437518,
          -0.05903133301454697,
          0.005099480444052247,
          -0.03689278427613471,
          -0.10092956601168046,
          -0.07661723555605614,
          -0.0676506023748501,
          -0.05358877929228634,
          -0.19570456214028525,
          -0.05518060133284713,
          -0.06538377515560348,
          -0.0768332889326765,
          -0.0427276696325873,
          -0.20020327873129357,
          -0.05197694931433617,
          -0.14451695362679423,
          -0.08356882582806252,
          -0.06631379939670926,
          -0.07780278597961021,
          -0.03540194243501126,
          -0.04738520159777253,
          -0.12164980507337572,
          -0.07010617164519126,
          -0.030182337219990675,
          -0.0599708075926144,
          -0.022903145117254498,
          0.0024773494371260556,
          -0.1338644157526506,
          -0.005716093770539189,
          -0.10062405355999704,
          -0.03263002133979884,
          -0.042296101052502234,
          -0.09711146837225072,
          -0.032312522879965125,
          -0.08200870656387454,
          -0.18140518962993712,
          -0.12590817311660754,
          -0.06026367541711314,
          -0.08688735851266044,
          -0.09170076515742973,
          -0.060350370504505944,
          -0.048810134565014984,
          -0.024515079735652718,
          -0.08932654772356605,
          -0.06683416881372607,
          -0.1856448671072391,
          -0.11395130872185247,
          -0.12262823801653865,
          -0.06403327658901549,
          -0.17265965794768073,
          -0.08049470967581426,
          -0.13006314832556792,
          -0.07570828812013937,
          -0.025319030710645715,
          -0.045445568060806324,
          -0.05793258975827137,
          -0.14924403522479912,
          -0.07932749316683795,
          -0.12632738269223887,
          -0.07904554522456599,
          -0.04085718377222431,
          -0.039924971090965634,
          -0.054925105442626104,
          -0.10146972640565241,
          -0.009506692657492611,
          -0.05170343422303747,
          -0.0830166613179513,
          -0.021691198992990296,
          -0.09842054130487307,
          -0.06484214536312347,
          -0.035698220610855765,
          -0.0028493303478725252,
          0.02732326258176704,
          -0.009002862930262099,
          -0.007439766732193776,
          0.03470642359734494,
          0.02532043749174093,
          0.03651012473014241,
          0.047093542279685624,
          -0.024853006202713288,
          0.004137249705337546,
          -0.002093631978147799,
          0.025055803538600624,
          -0.016537502599250176,
          0.02109029593683076,
          0.06372245324350756,
          0.015140561236599006,
          0.04460780332240696,
          -0.05513450676060984,
          -0.053952670296417905,
          0.028838805340539408,
          0.027140336060137885,
          -0.04075888009825399,
          0.06379045015303317,
          -0.0021479421792505384,
          -0.03129184779642065,
          -0.021918679919367624,
          -0.04801115048632826,
          -0.06653011835767943,
          -0.0578734314092851,
          0.017119969326506744,
          -0.04881470874824559
         ],
         "xaxis": "x",
         "y": [
          0.034739168182531206,
          0.01324028241303091,
          0.056533544976510905,
          0.017585930338545927,
          0.06443605195101246,
          0.06289627598195083,
          -0.004306874749869236,
          -0.08581397609918127,
          -0.11600586344707335,
          -0.06951865144751689,
          -0.06803783620614128,
          -0.06195966927074073,
          -0.009037369778328901,
          -0.09513812073323445,
          -0.2181143127633155,
          -0.11989562323781451,
          -0.1666248707295328,
          -0.056285794669112515,
          -0.045971924420579784,
          -0.04301969328930771,
          -0.027138399647049852,
          -0.018076060552989014,
          -0.05828117897315073,
          -0.19929586674073596,
          -0.17070209904801015,
          -0.045289122102989764,
          -0.04326265252240211,
          -0.10399752818134461,
          -0.03354855318124414,
          -0.015522346931264157,
          -0.12719880855180368,
          -0.1285077215908108,
          -0.07951402092296657,
          -0.17042781401018292,
          -0.12203372632757531,
          -0.07081580292247167,
          -0.032900876373329765,
          -0.14203629341603313,
          -0.0784262649532088,
          -0.014423156241180951,
          -0.042645716812093275,
          -0.049227831186751676,
          -0.009005933738679655,
          0.014944360810380142,
          -0.02011089554108026,
          -0.11208057757595591,
          -0.009773309205519479,
          -0.020285783932422023,
          0.03677315595277997,
          -0.07444012836931381,
          -0.05794355971308097,
          -0.08284432617854018,
          -0.10106939285854148,
          -0.17347678950419584,
          -0.14266994792425533,
          -0.03393225065187634,
          -0.08130391951718281,
          -0.05150708218578563,
          -0.01879600075040709,
          -0.031539356558206735,
          -0.0074569557538039745,
          0.006426129005304547,
          -0.08577290526335943,
          -0.11056906664223087,
          -0.11062598651803955,
          -0.013251904562943645,
          -0.08877684907807114,
          -0.11327305564269032,
          -0.0776726072380494,
          -0.11369810590259304,
          -0.0694905245028896,
          -0.24120827700441166,
          -0.11230976689012104,
          -0.057047007987474266,
          -0.058244867143261894,
          -0.07282254606590267,
          -0.028246519270786037,
          -0.07390251958584518,
          -0.03498346113742345,
          -0.09054638387531289,
          -0.08534731014945471,
          -0.1825703392183851,
          -0.005791693069645811,
          -0.005049311633824808,
          -0.06791283340429702,
          0.013648664296268972,
          -0.08146267228683744,
          -0.018963813170707104,
          -0.07483081092847269,
          -0.16546334775904345,
          -0.06488432072590762,
          -0.06251772192493964,
          -0.1042242975124762,
          -0.14141341779293048,
          -0.14141341779293048,
          -0.15580021607842048,
          -0.12292018081449817,
          -0.03897155289410755,
          -0.06128267210012508,
          -0.04747485409934642,
          -0.08025383933228211,
          -0.06000414873041849,
          0.03814500386446357,
          -0.005964650993535835,
          -0.09581067331494063,
          -0.05609281232684276,
          -0.013197851718842555,
          -0.06935507702676035,
          -0.10492320827087857,
          -0.06979964169316082,
          -0.0972008029754379,
          -0.0008778830753365727,
          -0.08908001207582188,
          -0.05051616822720993,
          -0.020867977217211266,
          -0.016752419180094864,
          0.004678646170503005,
          -0.0673690422977823,
          -0.08670370202688206,
          -0.025513005118940606,
          -0.07612055329192739,
          -0.1723266481897422,
          -0.005499359230934818,
          -0.06925913886858304,
          -0.04687854897720527,
          -0.007803368123250892,
          0.01009429435725024,
          0.0018081435586057516,
          -0.07637998871520792,
          -0.08132999875089075,
          -0.19995492331542045,
          -0.00641673017753347,
          -0.02994590516025217,
          -0.04169748193796941,
          -0.0672843654056986,
          -0.13569884161157525,
          0.011057414256707596,
          0.00028897409813148574,
          -0.05573092993928736,
          -0.12256144879842809,
          -0.14447938861906195,
          -0.06895148428599374,
          -0.026351800085713938,
          -0.14881041909445283,
          -0.055781085496717626,
          -0.033839800706480905,
          -0.004097941373533552,
          -0.14989355618859362,
          -0.15943229480618445,
          -0.09426318703555406,
          -0.11981697452188993,
          -0.13237568875242992,
          -0.05355856005046657,
          0.043101877690498794,
          -0.0890189312207532,
          -0.19783932831832068,
          -0.05055432646517704,
          -0.03721690929211741,
          -0.13663740340600627,
          -0.06687571108259112,
          -0.1107747807908955,
          -0.035335525466308026,
          -0.06463939831424975,
          -0.03975783486884429,
          -0.16711309758046475,
          0.0017612118957710356,
          -0.09192836576519904,
          -0.16711309758046475,
          -0.05489996239914037,
          -0.014101420878665229,
          -0.014101420878665229,
          -0.09709411821579034,
          -0.06492980613170694,
          -0.03248494689420411,
          -0.0011955120863041174,
          -0.051869344614391646,
          -0.03350348642964383,
          -0.028970850673864082,
          -0.10625547764860112,
          -0.0921150205623817,
          -0.08681554389574782,
          -0.06602358590551188,
          -0.07168779766034442,
          0.018224353920592306,
          -0.09442060918725044,
          -0.0476417529363122,
          -0.19766269905223416,
          -0.06688700738525798,
          -0.03070879913604853,
          -0.020327538019684205,
          -0.09011917735008725,
          -0.06357110296362986,
          -0.13689752005544892,
          -0.12919856545926367,
          -0.11142348728761652,
          -0.11868834772559206,
          -0.1316111309095243,
          -0.19380711520806224,
          -0.16881401454135161,
          -0.09039999371725906,
          -0.0927641405730667,
          -0.03388617467549946,
          -0.03758473064117926,
          0.005449115409908723,
          -0.14911244080712183,
          -0.1776310658355328,
          -0.1500199530734658,
          -0.062114727825713666,
          -0.2483672371842165,
          -0.0728926596196972,
          -0.0656882430682942,
          -0.1170868501803918,
          -0.02699763559106283,
          -0.2181725770188422,
          -0.043092978906138835,
          -0.17269011392244557,
          -0.06951865144751689,
          -0.12637170053731764,
          -0.12793105096553353,
          -0.029527702684086016,
          -0.05573792236190898,
          -0.13725387185588142,
          -0.09133330747110786,
          -0.010786718828241075,
          -0.061718097298948164,
          -0.010142706175326007,
          0.009076713529660933,
          -0.18634821109450248,
          -0.05298143350687932,
          -0.06311381793874081,
          -0.0003567937985673601,
          -0.008286900783876606,
          -0.11873694598914675,
          -0.012757196713837059,
          -0.05824417290780636,
          -0.1883313694108298,
          -0.1015070089810888,
          0.05193631178210434,
          -0.057418269493043524,
          -0.06491564165422722,
          -0.03864650379176882,
          -0.01490901916416759,
          -0.08419488197922739,
          -0.09268672172686018,
          -0.0846391272494939,
          -0.1688393266153591,
          -0.1317867035623748,
          -0.10799876259445002,
          -0.024314056659078414,
          -0.20338370243954737,
          -0.03521519716644573,
          -0.11493755761574671,
          -0.06438942380707541,
          -0.07029189096879569,
          0.023576228753010856,
          -0.09696296623631191,
          -0.1524565382658639,
          -0.09429833146170757,
          -0.12254088577100261,
          -0.09489167686302304,
          -0.053440644052023735,
          -0.010890763583569017,
          0.023220842312375315,
          -0.006733243175750485,
          0.03102313593952978,
          -0.0436836105870456,
          -0.11117073141185628,
          -0.023011120244953116,
          -0.1088292575934131,
          -0.028518445317665963,
          -0.02218218639819959,
          -0.02111760878943409,
          -0.09801225698331692,
          -0.012562890587777807,
          0.01931111681032623,
          -0.054372644935331824,
          0.006636497502816807,
          0.008004961470006693,
          -0.024583756512186805,
          -0.026543100911915616,
          -0.025914134009907663,
          -0.05016823636616818,
          -0.02747869962173665,
          -0.024980444874703505,
          -0.008137031239493478,
          -0.01892997710596602,
          -0.01618140803357844,
          0.008161394953605218,
          -0.030557183335527965,
          -0.031591343337925744,
          -0.025757092865573036,
          -0.019686930879935827,
          -0.05774196523478813,
          -0.013499673640848935,
          -0.06521029504544322,
          -0.05506450883521728,
          -0.07857374035055867,
          -0.04063469191671437,
          0.011642138716444114,
          0.02715463693905255,
          0.04689093189867245,
          0.013783728499715231
         ],
         "yaxis": "y"
        },
        {
         "hovertemplate": "kmeans_labels=0<br>x=%{x}<br>y=%{y}<extra></extra>",
         "legendgroup": "0",
         "marker": {
          "color": "#00cc96",
          "symbol": "circle"
         },
         "mode": "markers",
         "name": "0",
         "orientation": "v",
         "showlegend": true,
         "type": "scatter",
         "x": [
          0.25348461800992944,
          0.21412935304418818,
          0.22596190364479501,
          0.21740007373812584,
          0.11987116458608986,
          0.13979877482269906,
          0.12121142219597411,
          0.10655825007516274,
          0.14944535064259096,
          0.1017645527579584,
          0.12016411006926436,
          0.0525565365012753,
          0.313305071183833,
          0.06329032008111513,
          0.20991478180230405,
          0.032198184113458074,
          0.06174571072043881,
          0.14884793039063327,
          0.2255804185021354,
          0.17599058623239183,
          0.06174571072043881,
          0.1891133697381101,
          0.13947121932178044,
          0.16202226823792226,
          0.07283477035851284,
          0.21479037760663497,
          0.23007080396000582,
          0.21149320848419456,
          0.13964556326791486,
          0.10526280539129403,
          0.25210349751843886,
          0.16202226823792226,
          0.07283477035851284,
          0.1921767933236382,
          0.09284627052499769,
          0.11191456660611275,
          0.08186087717765757,
          0.16455182243665956,
          0.11109887723594981,
          0.18275595788472784,
          0.1295798265056853,
          0.24579212514237475,
          0.2507620366023225,
          0.21438682690913632,
          0.26283674615204966,
          0.16641447147658409,
          0.061474872831807435,
          0.19766194443453727,
          0.13315441889868002,
          0.18830326141246348,
          0.030988631272966315,
          0.2656121290637542,
          0.26612450711627633,
          0.23017436324456164,
          0.1280313866022391,
          0.2241248570497542,
          0.11946800407546246,
          0.05630509683130121,
          0.2062021044815312,
          0.16744605416190347,
          0.16732227435710906,
          0.22974743283487495,
          0.29784749067023747,
          0.20874912517888736,
          0.1574698272825675,
          0.1286372802052977,
          0.1926544059484807,
          0.37101628818721183,
          0.13081853419601222,
          0.25745480071120813,
          0.34171110217253237,
          0.1554194196976479,
          0.30493937447019137,
          0.24928884837577012,
          0.3512969192344646,
          0.19599763833948386,
          0.1688786813501756,
          0.0619088031680935,
          0.18965791892702435,
          0.24686488382511068,
          0.17396054326138105,
          0.27548177044684513,
          0.32688200562061714,
          0.32735747412513094,
          0.10488264033417372,
          0.266409825984027,
          0.27974278007255915,
          0.2830335988037796,
          0.27693343366136525,
          0.13887069734180674,
          0.0898293914745046,
          0.20740306365602318,
          0.03117622393566708,
          0.1453313678480313,
          0.17699675987229546,
          0.11109430611441547,
          0.1778659330841829,
          0.10033117468048626,
          0.16848696753566073,
          0.08765467897616301,
          0.01744631482662621,
          0.08971676213848731,
          0.09368102110042716,
          0.06733064005445569,
          0.04713249661374964,
          0.2053522180537083,
          0.038978743430258575,
          0.2860954409841314,
          0.20412186840411525,
          0.11369929039716836,
          0.1663205648102501,
          0.12976004340702268,
          0.10115048706622033,
          0.2086579635271393,
          0.11373014305917215,
          0.23117530582563878,
          0.10374934712276014,
          0.1349353728070385,
          0.08427065543932104,
          0.11011701590094072,
          0.11957165705193525
         ],
         "xaxis": "x",
         "y": [
          0.11868364587640741,
          0.057191940861248,
          0.09693421939203513,
          0.17773350321197653,
          0.009002087089141493,
          0.028626013873724404,
          0.10696032293668971,
          0.07302379952145516,
          0.14669084580835587,
          0.059225210255734545,
          0.10379343623961211,
          -0.006198081717508805,
          0.07155963404054311,
          0.02851316936840037,
          0.07506014814437544,
          0.0019132982555759197,
          0.06407501580187279,
          0.04712847717814953,
          0.06425653526210685,
          0.03178571222536885,
          0.06407501580187279,
          0.17128353325585435,
          0.11022003740592909,
          0.14029436112048327,
          0.11255221401532886,
          0.17342907891871112,
          0.09093177265944274,
          0.13303738505153836,
          0.1099450989854783,
          0.03179168409480023,
          0.0744674679836027,
          0.14029436112048327,
          0.11255221401532886,
          0.17633634625195682,
          0.07636371742601612,
          0.04353794634610713,
          0.09430055621677999,
          0.0945174638712649,
          0.061019984953604896,
          0.04127007486450969,
          0.12260055970774143,
          0.030940819124939973,
          0.05996591905402025,
          0.16253844461752942,
          0.17555142972979637,
          0.09034288494281612,
          0.07788685125000622,
          0.035124530148592494,
          0.06958448317157638,
          0.05027151515237733,
          0.00841251726364099,
          0.11464854409995841,
          0.1157270597483292,
          0.15637345663473654,
          0.11084604975854641,
          0.11048480518245106,
          0.10213414337141974,
          0.08062824377190676,
          0.11227430384832622,
          0.1623511186414621,
          0.16184741176055667,
          0.1654675793249691,
          0.017417460219056408,
          0.05454305742440984,
          0.15520219493331347,
          0.07706138956880478,
          0.027038353101147473,
          0.06907794731391693,
          0.02861727177893999,
          0.20617720823594482,
          0.016588940719560685,
          0.09792959959381227,
          0.07112104955097516,
          0.2028722283454306,
          0.06687039437246993,
          -0.000285944393007436,
          0.1390364530372459,
          0.05951721004127324,
          0.038894011579519785,
          0.06026162544386001,
          0.12884797065616604,
          0.17855398396564334,
          0.06341298254305767,
          0.06612564531171614,
          0.09670192105232114,
          0.2141237098529911,
          0.20427858842868413,
          0.2058741348301784,
          0.018937197988078944,
          0.11353064015350807,
          0.05060678406776543,
          0.0602321054355628,
          0.07024403862128882,
          0.015936922490828922,
          0.028867174793602336,
          -0.01931861734345496,
          0.12815045030754985,
          0.053728407637400256,
          0.13676370942752758,
          0.07633443195506807,
          0.06501045893012423,
          0.06619875274844575,
          0.12327668537449935,
          0.06453118883841336,
          0.05725011075973338,
          0.03134011904893725,
          0.011992973951635786,
          0.022369709955899646,
          0.12203169555273578,
          0.10754830078982511,
          0.11723573177390867,
          0.1229384821500633,
          0.07434546058031445,
          0.027671031637227356,
          0.049560438085610836,
          0.02153666340957448,
          0.07460957923565154,
          0.10336474546372636,
          -0.002068078735611229,
          -0.041744248731369185,
          0.0819925468738516
         ],
         "yaxis": "y"
        },
        {
         "hovertemplate": "kmeans_labels=2<br>x=%{x}<br>y=%{y}<extra></extra>",
         "legendgroup": "2",
         "marker": {
          "color": "#ab63fa",
          "symbol": "circle"
         },
         "mode": "markers",
         "name": "2",
         "orientation": "v",
         "showlegend": true,
         "type": "scatter",
         "x": [
          0.1316295540531445,
          0.1913752522752733,
          0.13730253917125995,
          0.057148341236054716,
          0.06665754235742863,
          0.1515877428583986,
          0.13507657916079588,
          0.1286983113095884,
          0.10035207768332484,
          0.04006618508758638,
          0.009725535438904392,
          0.060456359458115415,
          0.08264072296228225,
          0.030479235373244446,
          0.03817075991122978,
          0.1579872562993547,
          0.19680210717730656,
          0.08504311209331178,
          0.15880991182532278,
          0.15243135061937002,
          0.16238861528154316,
          0.09140203128151592,
          0.06235526439893991,
          0.09358969298827803,
          0.14884012371551367,
          0.13541531664620726,
          0.18684190336244297,
          0.22285295933848162,
          0.10959602953982582,
          0.15596298116747756,
          0.21115776171395942,
          0.061958412307189646,
          0.04048528728439889,
          0.2116744326130033,
          0.1823761353457259,
          0.27890430650137915,
          0.13901757031429074,
          0.04422409373568679,
          0.12261775884823832,
          0.12129810267445801,
          0.13730481177863893,
          0.2395909129787807,
          0.10405072544165644,
          0.13271047078586048,
          0.18325768910764545,
          0.0950565565620747,
          0.12658262137450407,
          0.11121643509584843,
          0.13422171091820115,
          0.2687246129964512,
          0.1277198772329149,
          0.0700613818172687,
          0.207387884108191,
          0.10944018104390614,
          0.10405072544165644,
          0.1411118487108363,
          0.06402421953066638,
          0.10095995358280149,
          0.10409842050552168,
          0.15168501691422848,
          0.21202650941287976,
          0.10301995210849359,
          0.04509213176551149,
          0.03880562173557317,
          0.11945478067257091,
          0.14639215558777846,
          0.0671802407659973,
          0.08643862666784707,
          0.058800656421149504,
          0.057313393722312166,
          0.05330441775774942,
          0.09006012785592564,
          0.0576875733028331,
          0.1729715826337023,
          0.09527010846752096,
          0.11909741268325456,
          0.17184951622111289,
          0.20450334794630576,
          0.11878797614720076,
          0.0512700811730046,
          0.176239340020516,
          0.1092234473836182,
          0.05778982112054149,
          0.06593601967514308,
          0.09397434747853056,
          0.16284371583162,
          0.13207469364065091,
          0.13174381851776215,
          0.12989770761275649,
          0.11244716489203645,
          0.03561000818277031,
          0.04509704689665809,
          0.08216784151155183,
          0.022461202856769384,
          0.0020685525331039377,
          0.18431520389813877,
          0.05241065755210121,
          0.1302947456945191,
          0.13856729931425465,
          0.0966644176295169,
          0.110273504647186,
          0.11753906987930289,
          0.1437744177372447,
          0.18063775474515223,
          0.15127983102598042,
          0.26274137323421887,
          0.15164812244791187,
          0.15173980970807305,
          0.0950565565620747,
          0.11908735442902507,
          0.11905350506158353,
          0.03639671231442917,
          0.12712382932727034,
          0.0698043879854899,
          0.22535550149286232,
          0.1406539441250755,
          0.22354233921558989,
          0.12427644989728082,
          0.13711418612270515,
          0.08029381499697982,
          0.04599634255429864
         ],
         "xaxis": "x",
         "y": [
          -0.18046973451273993,
          -0.20508440665954814,
          -0.1653367755906575,
          -0.04914082525086838,
          -0.10318676053123434,
          -0.2012398225274908,
          -0.1769017878305898,
          -0.14537230682812902,
          -0.12927443989364826,
          -0.04250820296778836,
          -0.05584893223731105,
          -0.03407415778257215,
          -0.10258452236129065,
          -0.08580617182553968,
          -0.039942723433865575,
          -0.1597703083966134,
          -0.16134160320522054,
          -0.1069888145232838,
          -0.11305190193717829,
          -0.15786612041240852,
          -0.14652387881680046,
          -0.09937452605749915,
          -0.04822851073542993,
          -0.08049846656185149,
          -0.15835470607855054,
          -0.09722504440514108,
          -0.12517240122854267,
          -0.11734003796768723,
          -0.14795101629623286,
          -0.11068585492310382,
          -0.16123701835975554,
          -0.1249077758569276,
          -0.06462263590837006,
          -0.12393455272633729,
          -0.08241754231578767,
          -0.21973691144772686,
          -0.17845973387989703,
          -0.1166239180445734,
          -0.07822127444503006,
          -0.07716370980924936,
          -0.14960086406360706,
          -0.13998687012180625,
          -0.08409037449470053,
          -0.08971483163669107,
          -0.1553649890275675,
          -0.08946737322393779,
          -0.1501594143117518,
          -0.0916221979996927,
          -0.16719856487435267,
          -0.09793113842482629,
          -0.12891167418096092,
          -0.06779551712340522,
          -0.18701018675218248,
          -0.10800085081937677,
          -0.08409037449470053,
          -0.11698242095346112,
          -0.10162748471091299,
          -0.11747910101720216,
          -0.12693436737744107,
          -0.15484248345201812,
          -0.16038994203327492,
          -0.11438439410006483,
          -0.018375340670899323,
          -0.0873393874391677,
          -0.09955853927375351,
          -0.14488225040694214,
          -0.11401301466605403,
          -0.14202159241627332,
          -0.09305869251478109,
          -0.12661957772905613,
          -0.04226815540290156,
          -0.10704573341251244,
          -0.0573601393770456,
          -0.0935810883171179,
          -0.017847886881177666,
          -0.08260988113441968,
          -0.06822785789394752,
          -0.1594928438921241,
          -0.07665097789184945,
          -0.09769556384823733,
          -0.09710354324639167,
          -0.05557070985329943,
          -0.021500755250009777,
          -0.06754773113589572,
          -0.03849451893887553,
          -0.14104456276921903,
          -0.09210764213002297,
          -0.09175080050191343,
          -0.08054460036001791,
          -0.06337127231690654,
          -0.08659609318359122,
          -0.09447395132882155,
          -0.004335703313190804,
          -0.08111390148054075,
          -0.0723806043015392,
          -0.1882753112539426,
          -0.0835736322168206,
          -0.11680530178958193,
          -0.12154897261492953,
          -0.109305746044361,
          -0.04785756197372154,
          -0.11141979629633166,
          0.004500162814754054,
          -0.15750426999185946,
          -0.18857236462565838,
          -0.21710044606844595,
          -0.20100228955533095,
          -0.07592986634524795,
          -0.08946737322393779,
          -0.14265722948504733,
          -0.04860292604349846,
          -0.061309557909717996,
          -0.1332892235915926,
          -0.10611656442160643,
          -0.1593458076121122,
          -0.1618879152733531,
          -0.11724313396183564,
          -0.08286094699988662,
          -0.07392752986288118,
          -0.04384118175119022,
          -0.04330638217545178
         ],
         "yaxis": "y"
        },
        {
         "hovertemplate": "kmeans_labels=3<br>x=%{x}<br>y=%{y}<extra></extra>",
         "legendgroup": "3",
         "marker": {
          "color": "#FFA15A",
          "symbol": "circle"
         },
         "mode": "markers",
         "name": "3",
         "orientation": "v",
         "showlegend": true,
         "type": "scatter",
         "x": [
          -0.0427402149266308,
          -0.054938573205058565,
          -0.05574604621982981,
          -0.0692359107534209,
          -0.038017793324510975,
          -0.05441616355368174,
          -0.059782985749811925,
          -0.04885151360804415,
          -0.05569918185544083,
          -0.05134096597715333,
          -0.027551564269017434,
          -0.07348890729551971,
          -0.038137071759809724,
          -0.04017803572944489,
          -0.0467152473795449,
          -0.05134096597715333,
          -0.06422606071989126,
          -0.07348890729551971,
          -0.04062309983766371,
          -0.04656273492980663,
          -0.06792495941483695,
          -0.060373304771841205,
          -0.0556391733416342,
          -0.07349661520731178,
          -0.04480179517185848,
          -0.04184567567996439,
          -0.02240999104488781,
          -0.06057738503593081,
          -0.05802520963371982,
          -0.061034273898984574,
          -0.04144622917498694,
          -0.0562693849704329,
          -0.0623281363656016,
          -0.04819984051559107,
          -0.03353036279066329,
          -0.02587492346599704,
          -0.06884678959374659,
          -0.07582120325624198,
          -0.05151211261544936,
          -0.05575521253718829,
          -0.0514406326023915,
          -0.043266176057909174,
          -0.06589363750175117,
          -0.04816521323611376,
          -0.07045914291729094,
          -0.05460644936076012,
          -0.05662787785644346,
          -0.07579951092887174,
          -0.07579951092887174,
          -0.058207251917104595,
          -0.05621924441900641,
          -0.04831644322891497,
          -0.03186356499387688,
          -0.04931106716035436,
          -0.08160808262717252,
          -0.06957223229744121,
          -0.040958900286330036,
          -0.03988601229754897,
          -0.06206474316392939,
          -0.06272322446444037,
          -0.03872074465466205,
          -0.04619258081164282,
          -0.10003677626607638,
          -0.0539658282945228,
          -0.06487455765405435,
          -0.05460475514263705,
          -0.025309188328709188,
          -0.08046607886492749,
          -0.08055420721547894,
          -0.05119827711537203,
          -0.07720704117412994,
          -0.0482187474115949,
          -0.10310255357628512,
          -0.035892732636482544,
          -0.029701987035294582,
          -0.047262790440165035,
          -0.08005679031514495,
          -0.0721722136792751,
          -0.041855991321699794,
          -0.07206046308550772,
          -0.06630433137917867,
          -0.0323313034708638,
          -0.051040764350228106,
          -0.027652348798030576,
          -0.06094207177868799,
          -0.020843037119292203,
          -0.06216429168764187,
          -0.03775609575842816,
          -0.07892696942581165,
          -0.031718589738251826,
          -0.06337009681974132,
          -0.041601620228422155,
          -0.06665893083618599,
          -0.0481179189792036,
          -0.04976470048072759,
          -0.02911057590515425
         ],
         "xaxis": "x",
         "y": [
          0.07811472308370465,
          0.10539073280121707,
          0.04832207190509393,
          0.06966511773170721,
          0.08916931399037403,
          0.08611538744423372,
          0.07916392539206075,
          0.0959213543210939,
          0.0799964758855566,
          0.11599605805801931,
          0.03330026616033595,
          0.05496730770079426,
          0.08718226277131999,
          0.09620899024931585,
          0.08775243725538864,
          0.11599605805801931,
          0.051566100379018535,
          0.05496730770079426,
          0.0893435033298418,
          0.1060828958592968,
          0.1424579172808306,
          0.0598261814616275,
          0.0655861524604764,
          0.11755929225363214,
          0.031154002356148423,
          0.09658591931478276,
          0.07492881174980036,
          0.11580044202367398,
          0.03901524232323882,
          0.1075319977238262,
          0.05951663861666214,
          0.07155831596507327,
          0.09264867539376659,
          0.07223009452424946,
          0.03596408363285149,
          0.041980698718019425,
          0.13560022930670354,
          0.11948779412803379,
          0.10179692001426534,
          0.048533577998765856,
          0.06791184710991478,
          0.06680856095861452,
          0.09690514717331557,
          0.10560721039419983,
          0.059290735271275714,
          0.13900261973185915,
          0.07904831490584938,
          0.022441664112480598,
          0.022441664112480598,
          0.14551279508354695,
          0.03369464038802754,
          0.05274134216781949,
          0.042849844669113464,
          0.08005265552574817,
          0.15129299467524956,
          0.11055822015606724,
          0.07567468198996544,
          0.07349368637095442,
          0.09707972887376995,
          0.06318611768892347,
          0.012724761830081373,
          0.09349851863549263,
          0.14911916844782594,
          0.1139981259936262,
          0.0812309647333098,
          0.07481984887405639,
          0.036490993169005906,
          0.04473698286173523,
          0.04492685884899488,
          0.05441241897091327,
          0.11018758453531889,
          0.08259837508148278,
          0.1345601712139869,
          0.044986669179965785,
          0.03828663107261478,
          0.07834722102326888,
          0.036244886242128155,
          0.04744607816968271,
          0.06917453667337095,
          0.06399409056756375,
          0.04586842842761971,
          0.02854032192763068,
          0.06759872308651609,
          0.1061456196117625,
          0.07070862398967949,
          0.06845976999658737,
          0.07768417006934328,
          0.07592318937690024,
          0.07621401646590097,
          0.06725234865525902,
          0.07963722681898272,
          0.10525732652059938,
          0.10876574123204553,
          0.05297771682325013,
          0.060216712804802154,
          0.07147453130155156
         ],
         "yaxis": "y"
        }
       ],
       "layout": {
        "legend": {
         "title": {
          "text": "kmeans_labels"
         },
         "tracegroupgap": 0
        },
        "template": {
         "data": {
          "bar": [
           {
            "error_x": {
             "color": "#2a3f5f"
            },
            "error_y": {
             "color": "#2a3f5f"
            },
            "marker": {
             "line": {
              "color": "#E5ECF6",
              "width": 0.5
             },
             "pattern": {
              "fillmode": "overlay",
              "size": 10,
              "solidity": 0.2
             }
            },
            "type": "bar"
           }
          ],
          "barpolar": [
           {
            "marker": {
             "line": {
              "color": "#E5ECF6",
              "width": 0.5
             },
             "pattern": {
              "fillmode": "overlay",
              "size": 10,
              "solidity": 0.2
             }
            },
            "type": "barpolar"
           }
          ],
          "carpet": [
           {
            "aaxis": {
             "endlinecolor": "#2a3f5f",
             "gridcolor": "white",
             "linecolor": "white",
             "minorgridcolor": "white",
             "startlinecolor": "#2a3f5f"
            },
            "baxis": {
             "endlinecolor": "#2a3f5f",
             "gridcolor": "white",
             "linecolor": "white",
             "minorgridcolor": "white",
             "startlinecolor": "#2a3f5f"
            },
            "type": "carpet"
           }
          ],
          "choropleth": [
           {
            "colorbar": {
             "outlinewidth": 0,
             "ticks": ""
            },
            "type": "choropleth"
           }
          ],
          "contour": [
           {
            "colorbar": {
             "outlinewidth": 0,
             "ticks": ""
            },
            "colorscale": [
             [
              0,
              "#0d0887"
             ],
             [
              0.1111111111111111,
              "#46039f"
             ],
             [
              0.2222222222222222,
              "#7201a8"
             ],
             [
              0.3333333333333333,
              "#9c179e"
             ],
             [
              0.4444444444444444,
              "#bd3786"
             ],
             [
              0.5555555555555556,
              "#d8576b"
             ],
             [
              0.6666666666666666,
              "#ed7953"
             ],
             [
              0.7777777777777778,
              "#fb9f3a"
             ],
             [
              0.8888888888888888,
              "#fdca26"
             ],
             [
              1,
              "#f0f921"
             ]
            ],
            "type": "contour"
           }
          ],
          "contourcarpet": [
           {
            "colorbar": {
             "outlinewidth": 0,
             "ticks": ""
            },
            "type": "contourcarpet"
           }
          ],
          "heatmap": [
           {
            "colorbar": {
             "outlinewidth": 0,
             "ticks": ""
            },
            "colorscale": [
             [
              0,
              "#0d0887"
             ],
             [
              0.1111111111111111,
              "#46039f"
             ],
             [
              0.2222222222222222,
              "#7201a8"
             ],
             [
              0.3333333333333333,
              "#9c179e"
             ],
             [
              0.4444444444444444,
              "#bd3786"
             ],
             [
              0.5555555555555556,
              "#d8576b"
             ],
             [
              0.6666666666666666,
              "#ed7953"
             ],
             [
              0.7777777777777778,
              "#fb9f3a"
             ],
             [
              0.8888888888888888,
              "#fdca26"
             ],
             [
              1,
              "#f0f921"
             ]
            ],
            "type": "heatmap"
           }
          ],
          "heatmapgl": [
           {
            "colorbar": {
             "outlinewidth": 0,
             "ticks": ""
            },
            "colorscale": [
             [
              0,
              "#0d0887"
             ],
             [
              0.1111111111111111,
              "#46039f"
             ],
             [
              0.2222222222222222,
              "#7201a8"
             ],
             [
              0.3333333333333333,
              "#9c179e"
             ],
             [
              0.4444444444444444,
              "#bd3786"
             ],
             [
              0.5555555555555556,
              "#d8576b"
             ],
             [
              0.6666666666666666,
              "#ed7953"
             ],
             [
              0.7777777777777778,
              "#fb9f3a"
             ],
             [
              0.8888888888888888,
              "#fdca26"
             ],
             [
              1,
              "#f0f921"
             ]
            ],
            "type": "heatmapgl"
           }
          ],
          "histogram": [
           {
            "marker": {
             "pattern": {
              "fillmode": "overlay",
              "size": 10,
              "solidity": 0.2
             }
            },
            "type": "histogram"
           }
          ],
          "histogram2d": [
           {
            "colorbar": {
             "outlinewidth": 0,
             "ticks": ""
            },
            "colorscale": [
             [
              0,
              "#0d0887"
             ],
             [
              0.1111111111111111,
              "#46039f"
             ],
             [
              0.2222222222222222,
              "#7201a8"
             ],
             [
              0.3333333333333333,
              "#9c179e"
             ],
             [
              0.4444444444444444,
              "#bd3786"
             ],
             [
              0.5555555555555556,
              "#d8576b"
             ],
             [
              0.6666666666666666,
              "#ed7953"
             ],
             [
              0.7777777777777778,
              "#fb9f3a"
             ],
             [
              0.8888888888888888,
              "#fdca26"
             ],
             [
              1,
              "#f0f921"
             ]
            ],
            "type": "histogram2d"
           }
          ],
          "histogram2dcontour": [
           {
            "colorbar": {
             "outlinewidth": 0,
             "ticks": ""
            },
            "colorscale": [
             [
              0,
              "#0d0887"
             ],
             [
              0.1111111111111111,
              "#46039f"
             ],
             [
              0.2222222222222222,
              "#7201a8"
             ],
             [
              0.3333333333333333,
              "#9c179e"
             ],
             [
              0.4444444444444444,
              "#bd3786"
             ],
             [
              0.5555555555555556,
              "#d8576b"
             ],
             [
              0.6666666666666666,
              "#ed7953"
             ],
             [
              0.7777777777777778,
              "#fb9f3a"
             ],
             [
              0.8888888888888888,
              "#fdca26"
             ],
             [
              1,
              "#f0f921"
             ]
            ],
            "type": "histogram2dcontour"
           }
          ],
          "mesh3d": [
           {
            "colorbar": {
             "outlinewidth": 0,
             "ticks": ""
            },
            "type": "mesh3d"
           }
          ],
          "parcoords": [
           {
            "line": {
             "colorbar": {
              "outlinewidth": 0,
              "ticks": ""
             }
            },
            "type": "parcoords"
           }
          ],
          "pie": [
           {
            "automargin": true,
            "type": "pie"
           }
          ],
          "scatter": [
           {
            "marker": {
             "colorbar": {
              "outlinewidth": 0,
              "ticks": ""
             }
            },
            "type": "scatter"
           }
          ],
          "scatter3d": [
           {
            "line": {
             "colorbar": {
              "outlinewidth": 0,
              "ticks": ""
             }
            },
            "marker": {
             "colorbar": {
              "outlinewidth": 0,
              "ticks": ""
             }
            },
            "type": "scatter3d"
           }
          ],
          "scattercarpet": [
           {
            "marker": {
             "colorbar": {
              "outlinewidth": 0,
              "ticks": ""
             }
            },
            "type": "scattercarpet"
           }
          ],
          "scattergeo": [
           {
            "marker": {
             "colorbar": {
              "outlinewidth": 0,
              "ticks": ""
             }
            },
            "type": "scattergeo"
           }
          ],
          "scattergl": [
           {
            "marker": {
             "colorbar": {
              "outlinewidth": 0,
              "ticks": ""
             }
            },
            "type": "scattergl"
           }
          ],
          "scattermapbox": [
           {
            "marker": {
             "colorbar": {
              "outlinewidth": 0,
              "ticks": ""
             }
            },
            "type": "scattermapbox"
           }
          ],
          "scatterpolar": [
           {
            "marker": {
             "colorbar": {
              "outlinewidth": 0,
              "ticks": ""
             }
            },
            "type": "scatterpolar"
           }
          ],
          "scatterpolargl": [
           {
            "marker": {
             "colorbar": {
              "outlinewidth": 0,
              "ticks": ""
             }
            },
            "type": "scatterpolargl"
           }
          ],
          "scatterternary": [
           {
            "marker": {
             "colorbar": {
              "outlinewidth": 0,
              "ticks": ""
             }
            },
            "type": "scatterternary"
           }
          ],
          "surface": [
           {
            "colorbar": {
             "outlinewidth": 0,
             "ticks": ""
            },
            "colorscale": [
             [
              0,
              "#0d0887"
             ],
             [
              0.1111111111111111,
              "#46039f"
             ],
             [
              0.2222222222222222,
              "#7201a8"
             ],
             [
              0.3333333333333333,
              "#9c179e"
             ],
             [
              0.4444444444444444,
              "#bd3786"
             ],
             [
              0.5555555555555556,
              "#d8576b"
             ],
             [
              0.6666666666666666,
              "#ed7953"
             ],
             [
              0.7777777777777778,
              "#fb9f3a"
             ],
             [
              0.8888888888888888,
              "#fdca26"
             ],
             [
              1,
              "#f0f921"
             ]
            ],
            "type": "surface"
           }
          ],
          "table": [
           {
            "cells": {
             "fill": {
              "color": "#EBF0F8"
             },
             "line": {
              "color": "white"
             }
            },
            "header": {
             "fill": {
              "color": "#C8D4E3"
             },
             "line": {
              "color": "white"
             }
            },
            "type": "table"
           }
          ]
         },
         "layout": {
          "annotationdefaults": {
           "arrowcolor": "#2a3f5f",
           "arrowhead": 0,
           "arrowwidth": 1
          },
          "autotypenumbers": "strict",
          "coloraxis": {
           "colorbar": {
            "outlinewidth": 0,
            "ticks": ""
           }
          },
          "colorscale": {
           "diverging": [
            [
             0,
             "#8e0152"
            ],
            [
             0.1,
             "#c51b7d"
            ],
            [
             0.2,
             "#de77ae"
            ],
            [
             0.3,
             "#f1b6da"
            ],
            [
             0.4,
             "#fde0ef"
            ],
            [
             0.5,
             "#f7f7f7"
            ],
            [
             0.6,
             "#e6f5d0"
            ],
            [
             0.7,
             "#b8e186"
            ],
            [
             0.8,
             "#7fbc41"
            ],
            [
             0.9,
             "#4d9221"
            ],
            [
             1,
             "#276419"
            ]
           ],
           "sequential": [
            [
             0,
             "#0d0887"
            ],
            [
             0.1111111111111111,
             "#46039f"
            ],
            [
             0.2222222222222222,
             "#7201a8"
            ],
            [
             0.3333333333333333,
             "#9c179e"
            ],
            [
             0.4444444444444444,
             "#bd3786"
            ],
            [
             0.5555555555555556,
             "#d8576b"
            ],
            [
             0.6666666666666666,
             "#ed7953"
            ],
            [
             0.7777777777777778,
             "#fb9f3a"
            ],
            [
             0.8888888888888888,
             "#fdca26"
            ],
            [
             1,
             "#f0f921"
            ]
           ],
           "sequentialminus": [
            [
             0,
             "#0d0887"
            ],
            [
             0.1111111111111111,
             "#46039f"
            ],
            [
             0.2222222222222222,
             "#7201a8"
            ],
            [
             0.3333333333333333,
             "#9c179e"
            ],
            [
             0.4444444444444444,
             "#bd3786"
            ],
            [
             0.5555555555555556,
             "#d8576b"
            ],
            [
             0.6666666666666666,
             "#ed7953"
            ],
            [
             0.7777777777777778,
             "#fb9f3a"
            ],
            [
             0.8888888888888888,
             "#fdca26"
            ],
            [
             1,
             "#f0f921"
            ]
           ]
          },
          "colorway": [
           "#636efa",
           "#EF553B",
           "#00cc96",
           "#ab63fa",
           "#FFA15A",
           "#19d3f3",
           "#FF6692",
           "#B6E880",
           "#FF97FF",
           "#FECB52"
          ],
          "font": {
           "color": "#2a3f5f"
          },
          "geo": {
           "bgcolor": "white",
           "lakecolor": "white",
           "landcolor": "#E5ECF6",
           "showlakes": true,
           "showland": true,
           "subunitcolor": "white"
          },
          "hoverlabel": {
           "align": "left"
          },
          "hovermode": "closest",
          "mapbox": {
           "style": "light"
          },
          "paper_bgcolor": "white",
          "plot_bgcolor": "#E5ECF6",
          "polar": {
           "angularaxis": {
            "gridcolor": "white",
            "linecolor": "white",
            "ticks": ""
           },
           "bgcolor": "#E5ECF6",
           "radialaxis": {
            "gridcolor": "white",
            "linecolor": "white",
            "ticks": ""
           }
          },
          "scene": {
           "xaxis": {
            "backgroundcolor": "#E5ECF6",
            "gridcolor": "white",
            "gridwidth": 2,
            "linecolor": "white",
            "showbackground": true,
            "ticks": "",
            "zerolinecolor": "white"
           },
           "yaxis": {
            "backgroundcolor": "#E5ECF6",
            "gridcolor": "white",
            "gridwidth": 2,
            "linecolor": "white",
            "showbackground": true,
            "ticks": "",
            "zerolinecolor": "white"
           },
           "zaxis": {
            "backgroundcolor": "#E5ECF6",
            "gridcolor": "white",
            "gridwidth": 2,
            "linecolor": "white",
            "showbackground": true,
            "ticks": "",
            "zerolinecolor": "white"
           }
          },
          "shapedefaults": {
           "line": {
            "color": "#2a3f5f"
           }
          },
          "ternary": {
           "aaxis": {
            "gridcolor": "white",
            "linecolor": "white",
            "ticks": ""
           },
           "baxis": {
            "gridcolor": "white",
            "linecolor": "white",
            "ticks": ""
           },
           "bgcolor": "#E5ECF6",
           "caxis": {
            "gridcolor": "white",
            "linecolor": "white",
            "ticks": ""
           }
          },
          "title": {
           "x": 0.05
          },
          "xaxis": {
           "automargin": true,
           "gridcolor": "white",
           "linecolor": "white",
           "ticks": "",
           "title": {
            "standoff": 15
           },
           "zerolinecolor": "white",
           "zerolinewidth": 2
          },
          "yaxis": {
           "automargin": true,
           "gridcolor": "white",
           "linecolor": "white",
           "ticks": "",
           "title": {
            "standoff": 15
           },
           "zerolinecolor": "white",
           "zerolinewidth": 2
          }
         }
        },
        "title": {
         "text": "K-means BBC Sport news"
        },
        "xaxis": {
         "anchor": "y",
         "domain": [
          0,
          1
         ],
         "title": {
          "text": "x"
         }
        },
        "yaxis": {
         "anchor": "x",
         "domain": [
          0,
          1
         ],
         "title": {
          "text": "y"
         }
        }
       }
      }
     },
     "metadata": {},
     "output_type": "display_data"
    }
   ],
   "source": [
    "hero.scatterplot(df, 'pca', color='kmeans_labels', title=\"K-means BBC Sport news\")"
   ]
  },
  {
   "cell_type": "markdown",
   "metadata": {},
   "source": [
    "##  3. Simple pipeline for text cleaning"
   ]
  },
  {
   "cell_type": "code",
   "execution_count": 16,
   "metadata": {},
   "outputs": [],
   "source": [
    "text = \"This sèntencé    (123 /) needs to [OK!] be cleaned!   \""
   ]
  },
  {
   "cell_type": "code",
   "execution_count": 18,
   "metadata": {},
   "outputs": [
    {
     "data": {
      "text/plain": [
       "0    This sèntencé    (123 /) needs to [OK!] be cle...\n",
       "dtype: object"
      ]
     },
     "execution_count": 18,
     "metadata": {},
     "output_type": "execute_result"
    }
   ],
   "source": [
    "s = pd.Series(text)\n",
    "s"
   ]
  },
  {
   "cell_type": "markdown",
   "metadata": {},
   "source": [
    "**Remove all digits from text**"
   ]
  },
  {
   "cell_type": "code",
   "execution_count": 19,
   "metadata": {},
   "outputs": [
    {
     "data": {
      "text/plain": [
       "0    This sèntencé    (  /) needs to [OK!] be clean...\n",
       "dtype: object"
      ]
     },
     "execution_count": 19,
     "metadata": {},
     "output_type": "execute_result"
    }
   ],
   "source": [
    "s = hero.remove_digits(s)\n",
    "s"
   ]
  },
  {
   "cell_type": "markdown",
   "metadata": {},
   "source": [
    "**Remove all types of brackets and their content.**"
   ]
  },
  {
   "cell_type": "code",
   "execution_count": 20,
   "metadata": {},
   "outputs": [
    {
     "data": {
      "text/plain": [
       "0    This sèntencé     needs to  be cleaned!   \n",
       "dtype: object"
      ]
     },
     "execution_count": 20,
     "metadata": {},
     "output_type": "execute_result"
    }
   ],
   "source": [
    "s = hero.remove_brackets(s)\n",
    "s"
   ]
  },
  {
   "cell_type": "markdown",
   "metadata": {},
   "source": [
    "**Remove diacritics.**"
   ]
  },
  {
   "cell_type": "code",
   "execution_count": 22,
   "metadata": {},
   "outputs": [
    {
     "data": {
      "text/plain": [
       "0    This sentence     needs to  be cleaned!   \n",
       "dtype: object"
      ]
     },
     "execution_count": 22,
     "metadata": {},
     "output_type": "execute_result"
    }
   ],
   "source": [
    "s = hero.remove_diacritics(s)\n",
    "s"
   ]
  },
  {
   "cell_type": "markdown",
   "metadata": {},
   "source": [
    "**Remove extra white-spaces.**"
   ]
  },
  {
   "cell_type": "code",
   "execution_count": 23,
   "metadata": {},
   "outputs": [
    {
     "data": {
      "text/plain": [
       "0    This sentence needs to be cleaned!\n",
       "dtype: object"
      ]
     },
     "execution_count": 23,
     "metadata": {},
     "output_type": "execute_result"
    }
   ],
   "source": [
    "s = hero.remove_whitespace(s)\n",
    "s"
   ]
  },
  {
   "cell_type": "markdown",
   "metadata": {},
   "source": [
    "**Remove Stop Words**"
   ]
  },
  {
   "cell_type": "code",
   "execution_count": 24,
   "metadata": {},
   "outputs": [
    {
     "data": {
      "text/plain": [
       "0    This sentence needs   cleaned!\n",
       "dtype: object"
      ]
     },
     "execution_count": 24,
     "metadata": {},
     "output_type": "execute_result"
    }
   ],
   "source": [
    "s = hero.remove_stopwords(s)\n",
    "s"
   ]
  },
  {
   "cell_type": "markdown",
   "metadata": {},
   "source": [
    "**Remove Punctuations**"
   ]
  },
  {
   "cell_type": "code",
   "execution_count": 25,
   "metadata": {},
   "outputs": [
    {
     "data": {
      "text/plain": [
       "0    This sentence needs   cleaned \n",
       "dtype: object"
      ]
     },
     "execution_count": 25,
     "metadata": {},
     "output_type": "execute_result"
    }
   ],
   "source": [
    "s = hero.remove_punctuation(s)\n",
    "s"
   ]
  },
  {
   "cell_type": "markdown",
   "metadata": {},
   "source": [
    "**Tokenize the dataset**"
   ]
  },
  {
   "cell_type": "code",
   "execution_count": 26,
   "metadata": {},
   "outputs": [
    {
     "data": {
      "text/plain": [
       "0    [This, sentence, needs, cleaned]\n",
       "dtype: object"
      ]
     },
     "execution_count": 26,
     "metadata": {},
     "output_type": "execute_result"
    }
   ],
   "source": [
    "hero.tokenize(s)"
   ]
  },
  {
   "cell_type": "markdown",
   "metadata": {},
   "source": [
    "### NLP Named Entity Recoginition using Text Hero"
   ]
  },
  {
   "cell_type": "code",
   "execution_count": 30,
   "metadata": {},
   "outputs": [],
   "source": [
    "text1 = \"Hello this is Rahul from India working in MNC.\""
   ]
  },
  {
   "cell_type": "code",
   "execution_count": 32,
   "metadata": {},
   "outputs": [
    {
     "data": {
      "text/plain": [
       "0    Hello this is Rahul from India working in MNC.\n",
       "dtype: object"
      ]
     },
     "execution_count": 32,
     "metadata": {},
     "output_type": "execute_result"
    }
   ],
   "source": [
    "s1 = pd.Series(text1)\n",
    "s1"
   ]
  },
  {
   "cell_type": "code",
   "execution_count": 33,
   "metadata": {},
   "outputs": [
    {
     "data": {
      "text/plain": [
       "0    [(Rahul, PERSON, 14, 19), (India, GPE, 25, 30)...\n",
       "dtype: object"
      ]
     },
     "execution_count": 33,
     "metadata": {},
     "output_type": "execute_result"
    }
   ],
   "source": [
    "hero.named_entities(s1,package='spacy')"
   ]
  },
  {
   "cell_type": "markdown",
   "metadata": {},
   "source": [
    "### NLP Noun CHunks (group of consecutive words that belong together.)"
   ]
  },
  {
   "cell_type": "code",
   "execution_count": 38,
   "metadata": {},
   "outputs": [
    {
     "data": {
      "text/plain": [
       "[('Rahul', 'NP', 14, 19), ('India', 'NP', 25, 30), ('MNC', 'NP', 42, 45)]"
      ]
     },
     "execution_count": 38,
     "metadata": {},
     "output_type": "execute_result"
    }
   ],
   "source": [
    "hero.noun_chunks(s1)[0]"
   ]
  },
  {
   "cell_type": "markdown",
   "metadata": {},
   "source": [
    "##  Represtation\n",
    "Map words into vectors using different algorithms such as TF-IDF, word2vec or GloVe.\n",
    "*   dbscan  -   Perform DBSCAN clustering.\n",
    "*   kmeans  -   Perform K-means clustering algorithm.\n",
    "*   meanshift   -   Perform mean shift clustering.\n",
    "*   nmf -   Perform non-negative matrix factorization.\n",
    "*   pca -   \t\n",
    "Perform principal component analysis on the given Pandas Series.\n",
    "*   term_frequency  -   Represent a text-based Pandas Series using term_frequency.\n",
    "*   tfidf   -   \t\n",
    "Represent a text-based Pandas Series using TF-IDF.\n",
    "*   tsne    -   \t\n",
    "Perform TSNE on the given pandas series."
   ]
  },
  {
   "cell_type": "code",
   "execution_count": 40,
   "metadata": {},
   "outputs": [
    {
     "data": {
      "text/plain": [
       "0    Sentence one\n",
       "1    Sentence two\n",
       "dtype: object"
      ]
     },
     "execution_count": 40,
     "metadata": {},
     "output_type": "execute_result"
    }
   ],
   "source": [
    "s = pd.Series([\"Sentence one\", \"Sentence two\"])\n",
    "s"
   ]
  },
  {
   "cell_type": "code",
   "execution_count": 42,
   "metadata": {},
   "outputs": [
    {
     "data": {
      "text/plain": [
       "0    [0.5797386715376657, 0.8148024746671689, 0.0]\n",
       "1    [0.5797386715376657, 0.0, 0.8148024746671689]\n",
       "dtype: object"
      ]
     },
     "execution_count": 42,
     "metadata": {},
     "output_type": "execute_result"
    }
   ],
   "source": [
    "hero.tfidf(s)"
   ]
  },
  {
   "cell_type": "code",
   "execution_count": 44,
   "metadata": {},
   "outputs": [
    {
     "data": {
      "text/plain": [
       "0    [1, 1, 0]\n",
       "1    [1, 0, 1]\n",
       "dtype: object"
      ]
     },
     "execution_count": 44,
     "metadata": {},
     "output_type": "execute_result"
    }
   ],
   "source": [
    "hero.term_frequency(s)"
   ]
  },
  {
   "cell_type": "markdown",
   "metadata": {},
   "source": [
    "### Visualization"
   ]
  },
  {
   "cell_type": "markdown",
   "metadata": {},
   "source": [
    "**Scatterplot**"
   ]
  },
  {
   "cell_type": "code",
   "execution_count": 47,
   "metadata": {},
   "outputs": [
    {
     "data": {
      "application/vnd.plotly.v1+json": {
       "config": {
        "plotlyServerURL": "https://plot.ly"
       },
       "data": [
        {
         "hovertemplate": "topic=athletics<br>x=%{x}<br>y=%{y}<extra></extra>",
         "legendgroup": "athletics",
         "marker": {
          "color": "#636efa",
          "symbol": "circle"
         },
         "mode": "markers",
         "name": "athletics",
         "orientation": "v",
         "showlegend": true,
         "type": "scatter",
         "x": [
          -0.09105733733066608,
          -0.0004371584247874354,
          -0.1176391579253836,
          -0.09138142482470915,
          -0.09132047685437644,
          -0.11034417253201949,
          -0.02905213592671906,
          -0.042943969009869076,
          -0.12893821602638472,
          -0.1575160605250382,
          -0.09588207078374737,
          -0.10788095757587421,
          -0.08973196015612632,
          -0.0805724678994018,
          -0.07798235267321181,
          -0.12049592551745666,
          -0.14088185933443673,
          -0.10529545555447245,
          -0.11142678697543726,
          -0.10788095757587421,
          -0.09700925707373591,
          -0.10706627425869272,
          -0.14570744482303935,
          -0.0747376085238237,
          -0.10886729343396016,
          -0.0859257859834237,
          -0.09924688887543602,
          -0.11472771911513638,
          -0.10913965148713578,
          -0.0744080525197845,
          -0.049745426634610915,
          -0.13235688259253875,
          -0.1510604750532678,
          -0.1317021618290124,
          -0.08931048453446398,
          -0.05478129802691454,
          -0.10214129521014884,
          -0.10206980811962171,
          -0.05796671606381252,
          -0.07947062503170481,
          -0.06950696250641711,
          -0.09035673233313321,
          -0.06176445410648351,
          -0.05644157519263535,
          -0.09423029254704193,
          -0.08174458870457164,
          -0.11258620077801072,
          -0.1270392185164388,
          -0.054829718364799294,
          -0.1212100651152963,
          -0.12810736597628575,
          -0.09388437482621911,
          -0.09631029592099019,
          -0.14346589793120382,
          -0.09680533411898826,
          -0.104576098674582,
          -0.1281612596019241,
          -0.13845520733860314,
          -0.11371812068054647,
          -0.10019295310164945,
          -0.11216790293405404,
          -0.06183024475407478,
          -0.12158681473066842,
          -0.06483048964965125,
          -0.11022607138005439,
          -0.16008954052068472,
          -0.11223957713466018,
          -0.03021270810364399,
          -0.17674263023437328,
          -0.10723472481233878,
          -0.10579753045276621,
          -0.059242739833260546,
          -0.10770970239761647,
          -0.10511972388205504,
          -0.10488031407831595,
          -0.06418899181456945,
          -0.014976227356911957,
          -0.08105607233855777,
          -0.1353513078631139,
          -0.13043881575322458,
          -0.146429478906846,
          -0.1278578760823666,
          -0.06373178928089475,
          -0.09388437482621911,
          -0.0747228085506572,
          -0.08022779388893964,
          -0.08369432979334737,
          -0.054829718364799294,
          -0.1319904357207167,
          -0.09233757344005822,
          -0.07001063237792166,
          -0.07753581134062172,
          -0.022617862967174048,
          -0.08826721770336018,
          -0.15267712154661556,
          -0.11294890915914245,
          -0.044316556428553755,
          -0.10713783744935694,
          -0.1378816955041818,
          -0.06297459229217363,
          -0.05845918797891417
         ],
         "xaxis": "x",
         "y": [
          0.10360599366234843,
          0.024738139271001356,
          0.1287019004109567,
          0.15399980421261966,
          0.1350702137675282,
          0.15765551744834477,
          0.07036431539846566,
          0.034739168182531206,
          0.1707878918688204,
          0.2403756928065786,
          0.1150366279871653,
          0.10887500242818232,
          0.11688302497564441,
          0.04880483272734137,
          0.13012213151517177,
          0.33156044997536316,
          0.33401802899357885,
          0.1770321763027968,
          0.13481838604235982,
          0.10887500242818232,
          0.15726873949962772,
          0.13108450252188014,
          0.3346163157544462,
          0.11097270753999817,
          0.15277128706352505,
          0.17999175048219795,
          0.15877043328342486,
          0.13619888664587265,
          0.16126233573498566,
          0.10381572938738964,
          0.07709941324405466,
          0.2084106232734704,
          0.3368436036431731,
          0.15863512004988578,
          0.1691437565637956,
          0.12910455421989947,
          0.13610035140344032,
          0.08914981688454993,
          0.12285617690421656,
          0.0834773304154556,
          0.09687681328333476,
          0.12523529135080494,
          0.12044304333393975,
          0.0793695328660752,
          0.15985641824644975,
          0.11323264660715159,
          0.25884882330667375,
          0.3035686840547907,
          0.13457347339069006,
          0.3225059588701636,
          0.34405383393728234,
          0.15325797589509227,
          0.11275423667192223,
          0.3147030505504267,
          0.13854546429410783,
          0.1337706499099394,
          0.15071441937832877,
          0.1641434904850804,
          0.0892331485930024,
          0.13712784352635646,
          0.15025453176192546,
          0.08605400672611715,
          0.15624734527342957,
          0.10154309819183123,
          0.13132008962208025,
          0.29474579849534577,
          0.15633088154386485,
          0.08156677922595919,
          0.24988142606082978,
          0.08383142586884286,
          0.11839882690148254,
          0.06541659411865137,
          0.08483451234684031,
          0.12842332788251104,
          0.1855291717782366,
          0.10160520703668224,
          0.0502928116292071,
          0.11161755385138354,
          0.3271362943527632,
          0.27806491107346754,
          0.34305535262885345,
          0.3381451224945314,
          0.107554113794628,
          0.15325797589509227,
          0.10391865435231029,
          0.09764124548424027,
          0.12010689857700178,
          0.13457347339069006,
          0.30841842911620543,
          0.0976910353485744,
          0.1341702985623612,
          0.10336145574807873,
          0.01324028241303091,
          0.11308901991462438,
          0.2210020900278803,
          0.12452289664792165,
          0.056533544976510905,
          0.15219605099072037,
          0.1798926386668796,
          0.017585930338545927,
          0.1154942567381628
         ],
         "yaxis": "y"
        },
        {
         "hovertemplate": "topic=cricket<br>x=%{x}<br>y=%{y}<extra></extra>",
         "legendgroup": "cricket",
         "marker": {
          "color": "#EF553B",
          "symbol": "circle"
         },
         "mode": "markers",
         "name": "cricket",
         "orientation": "v",
         "showlegend": true,
         "type": "scatter",
         "x": [
          0.25348461800992944,
          0.21412935304418818,
          0.22596190364479501,
          0.21740007373812584,
          0.11987116458608986,
          0.13979877482269906,
          0.12121142219597411,
          0.10655825007516274,
          0.14944535064259096,
          0.1017645527579584,
          0.12016411006926436,
          0.0525565365012753,
          0.313305071183833,
          0.06329032008111513,
          0.20991478180230405,
          0.032198184113458074,
          0.06174571072043881,
          0.14884793039063327,
          0.2255804185021354,
          0.17599058623239183,
          0.06174571072043881,
          0.1891133697381101,
          0.13947121932178044,
          0.16202226823792226,
          0.07283477035851284,
          0.21479037760663497,
          0.23007080396000582,
          0.21149320848419456,
          0.13964556326791486,
          0.10526280539129403,
          0.25210349751843886,
          0.16202226823792226,
          0.07283477035851284,
          0.1921767933236382,
          0.09284627052499769,
          0.11191456660611275,
          0.08186087717765757,
          0.16455182243665956,
          0.11109887723594981,
          0.18275595788472784,
          0.1295798265056853,
          0.24579212514237475,
          0.2507620366023225,
          0.21438682690913632,
          0.26283674615204966,
          0.16641447147658409,
          0.061474872831807435,
          0.19766194443453727,
          0.13315441889868002,
          0.18830326141246348,
          0.030988631272966315,
          0.2656121290637542,
          0.26612450711627633,
          0.23017436324456164,
          0.1280313866022391,
          0.2241248570497542,
          0.11946800407546246,
          0.05630509683130121,
          0.2062021044815312,
          0.16744605416190347,
          0.16732227435710906,
          0.22974743283487495,
          0.29784749067023747,
          0.20874912517888736,
          0.1574698272825675,
          0.1286372802052977,
          0.1926544059484807,
          0.37101628818721183,
          0.13081853419601222,
          0.25745480071120813,
          0.34171110217253237,
          0.1554194196976479,
          0.30493937447019137,
          0.24928884837577012,
          0.3512969192344646,
          0.19599763833948386,
          0.1688786813501756,
          0.0619088031680935,
          0.18965791892702435,
          0.24686488382511068,
          0.17396054326138105,
          0.27548177044684513,
          0.32688200562061714,
          0.32735747412513094,
          0.10488264033417372,
          0.266409825984027,
          0.27974278007255915,
          0.2830335988037796,
          0.27693343366136525,
          0.13887069734180674,
          -0.02618262784312497,
          0.0898293914745046,
          0.20740306365602318,
          0.03117622393566708,
          0.1453313678480313,
          0.17699675987229546,
          0.11109430611441547,
          0.1778659330841829,
          0.10033117468048626,
          0.16848696753566073,
          0.08765467897616301,
          0.01744631482662621,
          0.08971676213848731,
          0.09368102110042716,
          0.06733064005445569,
          0.04713249661374964,
          0.2053522180537083,
          0.038978743430258575,
          0.2860954409841314,
          0.20412186840411525,
          0.11369929039716836,
          -0.033497247984517454,
          0.1663205648102501,
          0.12976004340702268,
          0.10115048706622033,
          0.028390843039943162,
          0.2086579635271393,
          0.11373014305917215,
          0.23117530582563878,
          0.10374934712276014,
          0.1349353728070385,
          0.08427065543932104,
          0.11011701590094072,
          0.11957165705193525
         ],
         "xaxis": "x",
         "y": [
          0.11868364587640741,
          0.057191940861248,
          0.09693421939203513,
          0.17773350321197653,
          0.009002087089141493,
          0.028626013873724404,
          0.10696032293668971,
          0.07302379952145516,
          0.14669084580835587,
          0.059225210255734545,
          0.10379343623961211,
          -0.006198081717508805,
          0.07155963404054311,
          0.02851316936840037,
          0.07506014814437544,
          0.0019132982555759197,
          0.06407501580187279,
          0.04712847717814953,
          0.06425653526210685,
          0.03178571222536885,
          0.06407501580187279,
          0.17128353325585435,
          0.11022003740592909,
          0.14029436112048327,
          0.11255221401532886,
          0.17342907891871112,
          0.09093177265944274,
          0.13303738505153836,
          0.1099450989854783,
          0.03179168409480023,
          0.0744674679836027,
          0.14029436112048327,
          0.11255221401532886,
          0.17633634625195682,
          0.07636371742601612,
          0.04353794634610713,
          0.09430055621677999,
          0.0945174638712649,
          0.061019984953604896,
          0.04127007486450969,
          0.12260055970774143,
          0.030940819124939973,
          0.05996591905402025,
          0.16253844461752942,
          0.17555142972979637,
          0.09034288494281612,
          0.07788685125000622,
          0.035124530148592494,
          0.06958448317157638,
          0.05027151515237733,
          0.00841251726364099,
          0.11464854409995841,
          0.1157270597483292,
          0.15637345663473654,
          0.11084604975854641,
          0.11048480518245106,
          0.10213414337141974,
          0.08062824377190676,
          0.11227430384832622,
          0.1623511186414621,
          0.16184741176055667,
          0.1654675793249691,
          0.017417460219056408,
          0.05454305742440984,
          0.15520219493331347,
          0.07706138956880478,
          0.027038353101147473,
          0.06907794731391693,
          0.02861727177893999,
          0.20617720823594482,
          0.016588940719560685,
          0.09792959959381227,
          0.07112104955097516,
          0.2028722283454306,
          0.06687039437246993,
          -0.000285944393007436,
          0.1390364530372459,
          0.05951721004127324,
          0.038894011579519785,
          0.06026162544386001,
          0.12884797065616604,
          0.17855398396564334,
          0.06341298254305767,
          0.06612564531171614,
          0.09670192105232114,
          0.2141237098529911,
          0.20427858842868413,
          0.2058741348301784,
          0.018937197988078944,
          0.11353064015350807,
          0.06443605195101246,
          0.05060678406776543,
          0.0602321054355628,
          0.07024403862128882,
          0.015936922490828922,
          0.028867174793602336,
          -0.01931861734345496,
          0.12815045030754985,
          0.053728407637400256,
          0.13676370942752758,
          0.07633443195506807,
          0.06501045893012423,
          0.06619875274844575,
          0.12327668537449935,
          0.06453118883841336,
          0.05725011075973338,
          0.03134011904893725,
          0.011992973951635786,
          0.022369709955899646,
          0.12203169555273578,
          0.10754830078982511,
          0.06289627598195083,
          0.11723573177390867,
          0.1229384821500633,
          0.07434546058031445,
          -0.004306874749869236,
          0.027671031637227356,
          0.049560438085610836,
          0.02153666340957448,
          0.07460957923565154,
          0.10336474546372636,
          -0.002068078735611229,
          -0.041744248731369185,
          0.0819925468738516
         ],
         "yaxis": "y"
        },
        {
         "hovertemplate": "topic=football<br>x=%{x}<br>y=%{y}<extra></extra>",
         "legendgroup": "football",
         "marker": {
          "color": "#00cc96",
          "symbol": "circle"
         },
         "mode": "markers",
         "name": "football",
         "orientation": "v",
         "showlegend": true,
         "type": "scatter",
         "x": [
          -0.046937321751156016,
          -0.11362401958303221,
          -0.08356882582806252,
          -0.0968743435288866,
          0.07296656241811231,
          -0.033746460838323604,
          -0.07624131616603416,
          -0.1987381913211683,
          -0.10023011564244837,
          -0.12673199718653116,
          -0.006058586673984437,
          -0.01638106435644382,
          -0.011318612793609953,
          -0.0019120002949325923,
          -0.005051596880444627,
          -0.05492004176093512,
          -0.12322986601575844,
          -0.17115114333276868,
          -0.004561436637493392,
          -0.04140065834525549,
          -0.03799963615267457,
          -0.04708851273130783,
          -0.05170007086439373,
          -0.13819342003307028,
          -0.023979150802607336,
          -0.011023414799440254,
          -0.17127321740773846,
          -0.10744607859933378,
          0.004979158143333586,
          -0.06753076816254407,
          -0.1375386097691905,
          -0.0645999580852119,
          -0.017084144306617106,
          0.016423809321540948,
          0.006878176924798976,
          -0.059934071109359915,
          -0.04320089237332333,
          0.0029032667639013457,
          0.0149247210295066,
          0.021626892960241798,
          -0.03137180728930545,
          -0.05997894693757495,
          -0.07747219481727026,
          -0.06594251465568031,
          -0.06371273251403134,
          -0.10993089115312972,
          -0.1485811530115713,
          -0.04861110586402188,
          -0.05644879876800604,
          -0.08692607912842298,
          -0.02425283038361719,
          -0.026917433594536373,
          -0.040256714377901216,
          -0.05401553868200317,
          -0.04766007309332805,
          -0.04751303443156624,
          -0.05516280292959241,
          -0.1067634726397303,
          -0.06069401053672832,
          -0.1269255804814054,
          -0.08854296792297651,
          -0.07391028991598521,
          -0.11310730004487038,
          -0.0967417902887333,
          -0.1850172874455304,
          -0.05513212129871793,
          -0.08310750478090409,
          -0.050080184969179535,
          -0.0707796347175161,
          -0.059429854864963765,
          -0.08762608519433107,
          -0.06603302762095203,
          -0.10995066663163632,
          -0.1324663770677309,
          -0.20226482764084755,
          -0.08618628568535766,
          -0.03329119030006932,
          -0.07569057107812455,
          -0.00855175713970846,
          -0.1273253160786517,
          -0.07636674064256532,
          -0.07527559735475103,
          -0.18261321045225506,
          -0.0867788799329443,
          -0.05189377412331306,
          -0.07309382794703706,
          -0.13049267957103525,
          -0.13049267957103525,
          -0.14948392338647024,
          -0.11787010973808001,
          -0.03604311890054772,
          -0.07998548694019174,
          -0.07808995941414941,
          -0.10678181546951195,
          -0.0757567067707801,
          0.022005222168226694,
          -0.038383894194275125,
          -0.09017228562879186,
          -0.10601162458800167,
          -0.05027400898960482,
          -0.0760657467439215,
          -0.118060603902637,
          -0.09971334692661864,
          -0.11968965909415473,
          -0.14084040994604438,
          -0.06873566105416205,
          -0.1277510579974273,
          -0.051195076850127405,
          -0.0708937408489332,
          -0.0492647191100807,
          -0.05967695328560552,
          -0.11687078825420176,
          -0.04539127154893044,
          -0.054582285239720064,
          -0.16303647945307442,
          -0.04033778947614631,
          -0.11224731419931575,
          -0.031961915635784606,
          -0.025464284276396666,
          -0.000034355008498402,
          -0.01416717710763624,
          -0.03244927930247175,
          -0.02191513107198532,
          -0.1750601173148977,
          0.01701813154556029,
          -0.061718706657852625,
          -0.051554893894724334,
          -0.0463674409589638,
          -0.09486560740855224,
          -0.020879137667118432,
          0.005145601822188047,
          -0.038911870672008596,
          -0.11316338359605943,
          -0.11355017392476864,
          -0.060507423347344894,
          -0.05453453510771819,
          -0.13240879889535684,
          -0.03254158201704423,
          -0.0576307721992671,
          -0.06950335183496774,
          -0.13109960254434663,
          -0.10564596700033618,
          -0.11641066359965992,
          -0.09565340565154722,
          -0.13094933588685728,
          -0.017993033937652777,
          -0.06383769041149483,
          -0.1008626792662563,
          -0.19352545471113422,
          -0.06321148274213269,
          -0.05284914888726565,
          -0.11600723374154492,
          -0.051095079662164075,
          -0.09780917674948177,
          -0.07207612699562461,
          -0.05687939844840233,
          -0.07895054846039042,
          -0.1466144643814984,
          -0.04454050763470827,
          -0.11365943245293057,
          -0.1466144643814984,
          -0.06707430434595815,
          -0.06850831636834444,
          -0.06850831636834444,
          -0.09288010636758037,
          -0.06932205469065493,
          -0.060303156712301784,
          -0.051764147892656535,
          -0.036167885044164266,
          -0.06016640722828173,
          -0.0872026868681959,
          -0.13332705694900096,
          -0.07244593500895094,
          -0.04064657304521431,
          -0.040020876488642346,
          -0.06033029274311884,
          -0.07183172315531886,
          -0.15649895912139133,
          -0.07456281981464782,
          -0.16983292776855363,
          -0.09023147468902697,
          -0.055175896976178786,
          -0.04012811277443139,
          -0.06171177387021939,
          -0.08166161734572012,
          -0.12841556138046076,
          -0.08673105916099252,
          -0.09583603616646695,
          -0.07977587594663595,
          -0.16121261539691578,
          -0.15695278573978644,
          -0.1192486891661338,
          -0.078989197284244,
          -0.07277225107437518,
          -0.05903133301454697,
          0.005099480444052247,
          -0.03689278427613471,
          -0.10092956601168046,
          -0.07661723555605614,
          -0.0676506023748501,
          -0.05358877929228634,
          -0.19570456214028525,
          -0.05518060133284713,
          -0.06538377515560348,
          -0.0768332889326765,
          -0.0427276696325873,
          -0.20020327873129357,
          -0.05197694931433617,
          -0.14451695362679423,
          -0.08356882582806252,
          -0.06631379939670926,
          -0.07780278597961021,
          -0.03540194243501126,
          -0.04738520159777253,
          -0.12164980507337572,
          -0.07010617164519126,
          -0.030182337219990675,
          -0.0599708075926144,
          -0.022903145117254498,
          0.0024773494371260556,
          -0.1338644157526506,
          -0.005716093770539189,
          -0.10062405355999704,
          -0.03263002133979884,
          -0.042296101052502234,
          -0.09711146837225072,
          -0.032312522879965125,
          -0.08200870656387454,
          -0.18140518962993712,
          -0.12590817311660754,
          -0.06026367541711314,
          -0.08688735851266044,
          -0.09170076515742973,
          -0.060350370504505944,
          -0.048810134565014984,
          -0.024515079735652718,
          -0.08932654772356605,
          -0.06683416881372607,
          -0.1856448671072391,
          -0.11395130872185247,
          -0.12262823801653865,
          -0.06403327658901549,
          -0.17265965794768073,
          -0.08049470967581426,
          -0.13006314832556792,
          -0.07570828812013937,
          -0.025319030710645715,
          -0.045445568060806324,
          -0.05793258975827137,
          -0.14924403522479912,
          -0.07932749316683795,
          -0.12632738269223887,
          -0.07904554522456599,
          -0.04085718377222431,
          -0.039924971090965634,
          -0.054925105442626104,
          -0.10146972640565241,
          -0.009506692657492611,
          -0.05170343422303747,
          -0.0830166613179513,
          -0.021691198992990296,
          -0.09842054130487307,
          -0.06484214536312347,
          -0.035698220610855765,
          -0.0028493303478725252
         ],
         "xaxis": "x",
         "y": [
          -0.08581397609918127,
          -0.11600586344707335,
          -0.06951865144751689,
          -0.06803783620614128,
          -0.06195966927074073,
          -0.009037369778328901,
          -0.09513812073323445,
          -0.2181143127633155,
          -0.11989562323781451,
          -0.1666248707295328,
          -0.056285794669112515,
          -0.045971924420579784,
          -0.04301969328930771,
          -0.027138399647049852,
          -0.018076060552989014,
          -0.05828117897315073,
          -0.19929586674073596,
          -0.17070209904801015,
          -0.045289122102989764,
          -0.04326265252240211,
          -0.10399752818134461,
          -0.03354855318124414,
          -0.015522346931264157,
          -0.12719880855180368,
          -0.1285077215908108,
          -0.07951402092296657,
          -0.17042781401018292,
          -0.12203372632757531,
          -0.07081580292247167,
          -0.032900876373329765,
          -0.14203629341603313,
          -0.0784262649532088,
          -0.014423156241180951,
          -0.042645716812093275,
          -0.049227831186751676,
          -0.009005933738679655,
          0.014944360810380142,
          -0.02011089554108026,
          -0.11208057757595591,
          -0.009773309205519479,
          -0.020285783932422023,
          0.03677315595277997,
          -0.07444012836931381,
          -0.05794355971308097,
          -0.08284432617854018,
          -0.10106939285854148,
          -0.17347678950419584,
          -0.14266994792425533,
          -0.03393225065187634,
          -0.08130391951718281,
          -0.05150708218578563,
          -0.01879600075040709,
          -0.031539356558206735,
          -0.0074569557538039745,
          0.006426129005304547,
          -0.08577290526335943,
          -0.11056906664223087,
          -0.11062598651803955,
          -0.013251904562943645,
          -0.08877684907807114,
          -0.11327305564269032,
          -0.0776726072380494,
          -0.11369810590259304,
          -0.0694905245028896,
          -0.24120827700441166,
          -0.11230976689012104,
          -0.057047007987474266,
          -0.058244867143261894,
          -0.07282254606590267,
          -0.028246519270786037,
          -0.07390251958584518,
          -0.03498346113742345,
          -0.09054638387531289,
          -0.08534731014945471,
          -0.1825703392183851,
          -0.005791693069645811,
          -0.005049311633824808,
          -0.06791283340429702,
          0.013648664296268972,
          -0.08146267228683744,
          -0.018963813170707104,
          -0.07483081092847269,
          -0.16546334775904345,
          -0.06488432072590762,
          -0.06251772192493964,
          -0.1042242975124762,
          -0.14141341779293048,
          -0.14141341779293048,
          -0.15580021607842048,
          -0.12292018081449817,
          -0.03897155289410755,
          -0.06128267210012508,
          -0.04747485409934642,
          -0.08025383933228211,
          -0.06000414873041849,
          0.03814500386446357,
          -0.005964650993535835,
          -0.09581067331494063,
          -0.05609281232684276,
          -0.013197851718842555,
          -0.06935507702676035,
          -0.10492320827087857,
          -0.06979964169316082,
          -0.0972008029754379,
          -0.0008778830753365727,
          -0.08908001207582188,
          -0.05051616822720993,
          -0.020867977217211266,
          -0.016752419180094864,
          0.004678646170503005,
          -0.0673690422977823,
          -0.08670370202688206,
          -0.025513005118940606,
          -0.07612055329192739,
          -0.1723266481897422,
          -0.005499359230934818,
          -0.06925913886858304,
          -0.04687854897720527,
          -0.007803368123250892,
          0.01009429435725024,
          0.0018081435586057516,
          -0.07637998871520792,
          -0.08132999875089075,
          -0.19995492331542045,
          -0.00641673017753347,
          -0.02994590516025217,
          -0.04169748193796941,
          -0.0672843654056986,
          -0.13569884161157525,
          0.011057414256707596,
          0.00028897409813148574,
          -0.05573092993928736,
          -0.12256144879842809,
          -0.14447938861906195,
          -0.06895148428599374,
          -0.026351800085713938,
          -0.14881041909445283,
          -0.055781085496717626,
          -0.033839800706480905,
          -0.004097941373533552,
          -0.14989355618859362,
          -0.15943229480618445,
          -0.09426318703555406,
          -0.11981697452188993,
          -0.13237568875242992,
          -0.05355856005046657,
          0.043101877690498794,
          -0.0890189312207532,
          -0.19783932831832068,
          -0.05055432646517704,
          -0.03721690929211741,
          -0.13663740340600627,
          -0.06687571108259112,
          -0.1107747807908955,
          -0.035335525466308026,
          -0.06463939831424975,
          -0.03975783486884429,
          -0.16711309758046475,
          0.0017612118957710356,
          -0.09192836576519904,
          -0.16711309758046475,
          -0.05489996239914037,
          -0.014101420878665229,
          -0.014101420878665229,
          -0.09709411821579034,
          -0.06492980613170694,
          -0.03248494689420411,
          -0.0011955120863041174,
          -0.051869344614391646,
          -0.03350348642964383,
          -0.028970850673864082,
          -0.10625547764860112,
          -0.0921150205623817,
          -0.08681554389574782,
          -0.06602358590551188,
          -0.07168779766034442,
          0.018224353920592306,
          -0.09442060918725044,
          -0.0476417529363122,
          -0.19766269905223416,
          -0.06688700738525798,
          -0.03070879913604853,
          -0.020327538019684205,
          -0.09011917735008725,
          -0.06357110296362986,
          -0.13689752005544892,
          -0.12919856545926367,
          -0.11142348728761652,
          -0.11868834772559206,
          -0.1316111309095243,
          -0.19380711520806224,
          -0.16881401454135161,
          -0.09039999371725906,
          -0.0927641405730667,
          -0.03388617467549946,
          -0.03758473064117926,
          0.005449115409908723,
          -0.14911244080712183,
          -0.1776310658355328,
          -0.1500199530734658,
          -0.062114727825713666,
          -0.2483672371842165,
          -0.0728926596196972,
          -0.0656882430682942,
          -0.1170868501803918,
          -0.02699763559106283,
          -0.2181725770188422,
          -0.043092978906138835,
          -0.17269011392244557,
          -0.06951865144751689,
          -0.12637170053731764,
          -0.12793105096553353,
          -0.029527702684086016,
          -0.05573792236190898,
          -0.13725387185588142,
          -0.09133330747110786,
          -0.010786718828241075,
          -0.061718097298948164,
          -0.010142706175326007,
          0.009076713529660933,
          -0.18634821109450248,
          -0.05298143350687932,
          -0.06311381793874081,
          -0.0003567937985673601,
          -0.008286900783876606,
          -0.11873694598914675,
          -0.012757196713837059,
          -0.05824417290780636,
          -0.1883313694108298,
          -0.1015070089810888,
          0.05193631178210434,
          -0.057418269493043524,
          -0.06491564165422722,
          -0.03864650379176882,
          -0.01490901916416759,
          -0.08419488197922739,
          -0.09268672172686018,
          -0.0846391272494939,
          -0.1688393266153591,
          -0.1317867035623748,
          -0.10799876259445002,
          -0.024314056659078414,
          -0.20338370243954737,
          -0.03521519716644573,
          -0.11493755761574671,
          -0.06438942380707541,
          -0.07029189096879569,
          0.023576228753010856,
          -0.09696296623631191,
          -0.1524565382658639,
          -0.09429833146170757,
          -0.12254088577100261,
          -0.09489167686302304,
          -0.053440644052023735,
          -0.010890763583569017,
          0.023220842312375315,
          -0.006733243175750485,
          0.03102313593952978,
          -0.0436836105870456,
          -0.11117073141185628,
          -0.023011120244953116,
          -0.1088292575934131,
          -0.028518445317665963,
          -0.02218218639819959,
          -0.02111760878943409
         ],
         "yaxis": "y"
        },
        {
         "hovertemplate": "topic=rugby<br>x=%{x}<br>y=%{y}<extra></extra>",
         "legendgroup": "rugby",
         "marker": {
          "color": "#ab63fa",
          "symbol": "circle"
         },
         "mode": "markers",
         "name": "rugby",
         "orientation": "v",
         "showlegend": true,
         "type": "scatter",
         "x": [
          0.1316295540531445,
          0.1913752522752733,
          0.13730253917125995,
          0.057148341236054716,
          0.06665754235742863,
          0.1515877428583986,
          0.13507657916079588,
          0.1286983113095884,
          0.10035207768332484,
          0.04006618508758638,
          0.009725535438904392,
          0.060456359458115415,
          0.08264072296228225,
          0.030479235373244446,
          0.03817075991122978,
          0.1579872562993547,
          0.19680210717730656,
          0.08504311209331178,
          0.15880991182532278,
          0.15243135061937002,
          0.16238861528154316,
          0.09140203128151592,
          0.06235526439893991,
          0.09358969298827803,
          0.14884012371551367,
          0.02732326258176704,
          0.13541531664620726,
          0.18684190336244297,
          0.22285295933848162,
          0.10959602953982582,
          0.15596298116747756,
          0.21115776171395942,
          0.061958412307189646,
          -0.009002862930262099,
          0.04048528728439889,
          -0.007439766732193776,
          0.2116744326130033,
          0.03470642359734494,
          0.1823761353457259,
          0.27890430650137915,
          0.02532043749174093,
          0.03651012473014241,
          0.13901757031429074,
          0.04422409373568679,
          0.12261775884823832,
          0.12129810267445801,
          0.13730481177863893,
          0.2395909129787807,
          0.10405072544165644,
          0.13271047078586048,
          0.18325768910764545,
          0.0950565565620747,
          0.12658262137450407,
          0.11121643509584843,
          0.13422171091820115,
          0.2687246129964512,
          0.1277198772329149,
          0.0700613818172687,
          0.207387884108191,
          0.10944018104390614,
          0.10405072544165644,
          0.1411118487108363,
          0.06402421953066638,
          0.10095995358280149,
          0.10409842050552168,
          0.15168501691422848,
          0.047093542279685624,
          0.21202650941287976,
          0.10301995210849359,
          0.04509213176551149,
          0.03880562173557317,
          0.11945478067257091,
          0.14639215558777846,
          0.0671802407659973,
          0.08643862666784707,
          0.058800656421149504,
          0.057313393722312166,
          -0.024853006202713288,
          0.05330441775774942,
          0.004137249705337546,
          0.09006012785592564,
          -0.002093631978147799,
          0.025055803538600624,
          0.0576875733028331,
          0.1729715826337023,
          0.09527010846752096,
          0.11909741268325456,
          0.17184951622111289,
          -0.016537502599250176,
          0.20450334794630576,
          0.02109029593683076,
          0.11878797614720076,
          0.0512700811730046,
          0.176239340020516,
          0.1092234473836182,
          0.05778982112054149,
          0.06593601967514308,
          0.09397434747853056,
          0.06372245324350756,
          0.16284371583162,
          0.015140561236599006,
          0.13207469364065091,
          0.04460780332240696,
          0.13174381851776215,
          0.12989770761275649,
          0.11244716489203645,
          0.03561000818277031,
          0.04509704689665809,
          0.08216784151155183,
          0.022461202856769384,
          0.0020685525331039377,
          -0.05513450676060984,
          -0.053952670296417905,
          0.028838805340539408,
          0.027140336060137885,
          -0.04075888009825399,
          0.18431520389813877,
          0.06379045015303317,
          0.05241065755210121,
          -0.0021479421792505384,
          0.1302947456945191,
          0.13856729931425465,
          0.0966644176295169,
          -0.03129184779642065,
          -0.021918679919367624,
          -0.04801115048632826,
          0.110273504647186,
          0.11753906987930289,
          0.1437744177372447,
          0.18063775474515223,
          0.15127983102598042,
          0.26274137323421887,
          0.15164812244791187,
          0.15173980970807305,
          0.0950565565620747,
          0.11908735442902507,
          0.11905350506158353,
          0.03639671231442917,
          0.12712382932727034,
          0.0698043879854899,
          0.22535550149286232,
          0.1406539441250755,
          0.22354233921558989,
          0.12427644989728082,
          0.13711418612270515,
          0.08029381499697982,
          0.04599634255429864
         ],
         "xaxis": "x",
         "y": [
          -0.18046973451273993,
          -0.20508440665954814,
          -0.1653367755906575,
          -0.04914082525086838,
          -0.10318676053123434,
          -0.2012398225274908,
          -0.1769017878305898,
          -0.14537230682812902,
          -0.12927443989364826,
          -0.04250820296778836,
          -0.05584893223731105,
          -0.03407415778257215,
          -0.10258452236129065,
          -0.08580617182553968,
          -0.039942723433865575,
          -0.1597703083966134,
          -0.16134160320522054,
          -0.1069888145232838,
          -0.11305190193717829,
          -0.15786612041240852,
          -0.14652387881680046,
          -0.09937452605749915,
          -0.04822851073542993,
          -0.08049846656185149,
          -0.15835470607855054,
          -0.09801225698331692,
          -0.09722504440514108,
          -0.12517240122854267,
          -0.11734003796768723,
          -0.14795101629623286,
          -0.11068585492310382,
          -0.16123701835975554,
          -0.1249077758569276,
          -0.012562890587777807,
          -0.06462263590837006,
          0.01931111681032623,
          -0.12393455272633729,
          -0.054372644935331824,
          -0.08241754231578767,
          -0.21973691144772686,
          0.006636497502816807,
          0.008004961470006693,
          -0.17845973387989703,
          -0.1166239180445734,
          -0.07822127444503006,
          -0.07716370980924936,
          -0.14960086406360706,
          -0.13998687012180625,
          -0.08409037449470053,
          -0.08971483163669107,
          -0.1553649890275675,
          -0.08946737322393779,
          -0.1501594143117518,
          -0.0916221979996927,
          -0.16719856487435267,
          -0.09793113842482629,
          -0.12891167418096092,
          -0.06779551712340522,
          -0.18701018675218248,
          -0.10800085081937677,
          -0.08409037449470053,
          -0.11698242095346112,
          -0.10162748471091299,
          -0.11747910101720216,
          -0.12693436737744107,
          -0.15484248345201812,
          -0.024583756512186805,
          -0.16038994203327492,
          -0.11438439410006483,
          -0.018375340670899323,
          -0.0873393874391677,
          -0.09955853927375351,
          -0.14488225040694214,
          -0.11401301466605403,
          -0.14202159241627332,
          -0.09305869251478109,
          -0.12661957772905613,
          -0.026543100911915616,
          -0.04226815540290156,
          -0.025914134009907663,
          -0.10704573341251244,
          -0.05016823636616818,
          -0.02747869962173665,
          -0.0573601393770456,
          -0.0935810883171179,
          -0.017847886881177666,
          -0.08260988113441968,
          -0.06822785789394752,
          -0.024980444874703505,
          -0.1594928438921241,
          -0.008137031239493478,
          -0.07665097789184945,
          -0.09769556384823733,
          -0.09710354324639167,
          -0.05557070985329943,
          -0.021500755250009777,
          -0.06754773113589572,
          -0.03849451893887553,
          -0.01892997710596602,
          -0.14104456276921903,
          -0.01618140803357844,
          -0.09210764213002297,
          0.008161394953605218,
          -0.09175080050191343,
          -0.08054460036001791,
          -0.06337127231690654,
          -0.08659609318359122,
          -0.09447395132882155,
          -0.004335703313190804,
          -0.08111390148054075,
          -0.0723806043015392,
          -0.030557183335527965,
          -0.031591343337925744,
          -0.025757092865573036,
          -0.019686930879935827,
          -0.05774196523478813,
          -0.1882753112539426,
          -0.013499673640848935,
          -0.0835736322168206,
          -0.06521029504544322,
          -0.11680530178958193,
          -0.12154897261492953,
          -0.109305746044361,
          -0.05506450883521728,
          -0.07857374035055867,
          -0.04063469191671437,
          -0.04785756197372154,
          -0.11141979629633166,
          0.004500162814754054,
          -0.15750426999185946,
          -0.18857236462565838,
          -0.21710044606844595,
          -0.20100228955533095,
          -0.07592986634524795,
          -0.08946737322393779,
          -0.14265722948504733,
          -0.04860292604349846,
          -0.061309557909717996,
          -0.1332892235915926,
          -0.10611656442160643,
          -0.1593458076121122,
          -0.1618879152733531,
          -0.11724313396183564,
          -0.08286094699988662,
          -0.07392752986288118,
          -0.04384118175119022,
          -0.04330638217545178
         ],
         "yaxis": "y"
        },
        {
         "hovertemplate": "topic=tennis<br>x=%{x}<br>y=%{y}<extra></extra>",
         "legendgroup": "tennis",
         "marker": {
          "color": "#FFA15A",
          "symbol": "circle"
         },
         "mode": "markers",
         "name": "tennis",
         "orientation": "v",
         "showlegend": true,
         "type": "scatter",
         "x": [
          -0.0427402149266308,
          -0.054938573205058565,
          -0.05574604621982981,
          -0.0692359107534209,
          -0.038017793324510975,
          -0.05441616355368174,
          -0.059782985749811925,
          -0.04885151360804415,
          -0.05569918185544083,
          -0.05134096597715333,
          -0.027551564269017434,
          -0.07348890729551971,
          -0.038137071759809724,
          -0.04017803572944489,
          -0.0467152473795449,
          -0.05134096597715333,
          -0.06422606071989126,
          -0.07348890729551971,
          -0.04062309983766371,
          -0.04656273492980663,
          -0.06792495941483695,
          -0.060373304771841205,
          -0.0556391733416342,
          -0.07349661520731178,
          -0.04480179517185848,
          -0.04184567567996439,
          -0.02240999104488781,
          -0.06057738503593081,
          -0.05802520963371982,
          -0.061034273898984574,
          -0.04144622917498694,
          -0.0562693849704329,
          -0.0623281363656016,
          -0.04819984051559107,
          -0.03353036279066329,
          -0.02587492346599704,
          -0.06884678959374659,
          -0.07582120325624198,
          -0.05151211261544936,
          -0.05575521253718829,
          -0.0514406326023915,
          -0.043266176057909174,
          -0.06589363750175117,
          -0.06653011835767943,
          -0.04816521323611376,
          -0.07045914291729094,
          -0.05460644936076012,
          -0.05662787785644346,
          -0.07579951092887174,
          -0.07579951092887174,
          -0.058207251917104595,
          -0.05621924441900641,
          -0.04831644322891497,
          -0.03186356499387688,
          -0.04931106716035436,
          -0.08160808262717252,
          -0.06957223229744121,
          -0.040958900286330036,
          -0.03988601229754897,
          -0.06206474316392939,
          -0.06272322446444037,
          -0.03872074465466205,
          -0.04619258081164282,
          -0.10003677626607638,
          -0.0539658282945228,
          -0.06487455765405435,
          -0.05460475514263705,
          -0.025309188328709188,
          -0.08046607886492749,
          -0.08055420721547894,
          -0.05119827711537203,
          -0.07720704117412994,
          -0.0578734314092851,
          -0.0482187474115949,
          -0.10310255357628512,
          -0.035892732636482544,
          -0.029701987035294582,
          -0.047262790440165035,
          -0.08005679031514495,
          -0.0721722136792751,
          -0.041855991321699794,
          -0.07206046308550772,
          -0.06630433137917867,
          -0.0323313034708638,
          -0.051040764350228106,
          -0.027652348798030576,
          -0.06094207177868799,
          -0.020843037119292203,
          -0.06216429168764187,
          -0.03775609575842816,
          -0.07892696942581165,
          0.017119969326506744,
          -0.031718589738251826,
          -0.06337009681974132,
          -0.041601620228422155,
          -0.06665893083618599,
          -0.0481179189792036,
          -0.04976470048072759,
          -0.04881470874824559,
          -0.02911057590515425
         ],
         "xaxis": "x",
         "y": [
          0.07811472308370465,
          0.10539073280121707,
          0.04832207190509393,
          0.06966511773170721,
          0.08916931399037403,
          0.08611538744423372,
          0.07916392539206075,
          0.0959213543210939,
          0.0799964758855566,
          0.11599605805801931,
          0.03330026616033595,
          0.05496730770079426,
          0.08718226277131999,
          0.09620899024931585,
          0.08775243725538864,
          0.11599605805801931,
          0.051566100379018535,
          0.05496730770079426,
          0.0893435033298418,
          0.1060828958592968,
          0.1424579172808306,
          0.0598261814616275,
          0.0655861524604764,
          0.11755929225363214,
          0.031154002356148423,
          0.09658591931478276,
          0.07492881174980036,
          0.11580044202367398,
          0.03901524232323882,
          0.1075319977238262,
          0.05951663861666214,
          0.07155831596507327,
          0.09264867539376659,
          0.07223009452424946,
          0.03596408363285149,
          0.041980698718019425,
          0.13560022930670354,
          0.11948779412803379,
          0.10179692001426534,
          0.048533577998765856,
          0.06791184710991478,
          0.06680856095861452,
          0.09690514717331557,
          0.011642138716444114,
          0.10560721039419983,
          0.059290735271275714,
          0.13900261973185915,
          0.07904831490584938,
          0.022441664112480598,
          0.022441664112480598,
          0.14551279508354695,
          0.03369464038802754,
          0.05274134216781949,
          0.042849844669113464,
          0.08005265552574817,
          0.15129299467524956,
          0.11055822015606724,
          0.07567468198996544,
          0.07349368637095442,
          0.09707972887376995,
          0.06318611768892347,
          0.012724761830081373,
          0.09349851863549263,
          0.14911916844782594,
          0.1139981259936262,
          0.0812309647333098,
          0.07481984887405639,
          0.036490993169005906,
          0.04473698286173523,
          0.04492685884899488,
          0.05441241897091327,
          0.11018758453531889,
          0.02715463693905255,
          0.08259837508148278,
          0.1345601712139869,
          0.044986669179965785,
          0.03828663107261478,
          0.07834722102326888,
          0.036244886242128155,
          0.04744607816968271,
          0.06917453667337095,
          0.06399409056756375,
          0.04586842842761971,
          0.02854032192763068,
          0.06759872308651609,
          0.1061456196117625,
          0.07070862398967949,
          0.06845976999658737,
          0.07768417006934328,
          0.07592318937690024,
          0.07621401646590097,
          0.04689093189867245,
          0.06725234865525902,
          0.07963722681898272,
          0.10525732652059938,
          0.10876574123204553,
          0.05297771682325013,
          0.060216712804802154,
          0.013783728499715231,
          0.07147453130155156
         ],
         "yaxis": "y"
        }
       ],
       "layout": {
        "legend": {
         "title": {
          "text": "topic"
         },
         "tracegroupgap": 0
        },
        "margin": {
         "t": 60
        },
        "template": {
         "data": {
          "bar": [
           {
            "error_x": {
             "color": "#2a3f5f"
            },
            "error_y": {
             "color": "#2a3f5f"
            },
            "marker": {
             "line": {
              "color": "#E5ECF6",
              "width": 0.5
             },
             "pattern": {
              "fillmode": "overlay",
              "size": 10,
              "solidity": 0.2
             }
            },
            "type": "bar"
           }
          ],
          "barpolar": [
           {
            "marker": {
             "line": {
              "color": "#E5ECF6",
              "width": 0.5
             },
             "pattern": {
              "fillmode": "overlay",
              "size": 10,
              "solidity": 0.2
             }
            },
            "type": "barpolar"
           }
          ],
          "carpet": [
           {
            "aaxis": {
             "endlinecolor": "#2a3f5f",
             "gridcolor": "white",
             "linecolor": "white",
             "minorgridcolor": "white",
             "startlinecolor": "#2a3f5f"
            },
            "baxis": {
             "endlinecolor": "#2a3f5f",
             "gridcolor": "white",
             "linecolor": "white",
             "minorgridcolor": "white",
             "startlinecolor": "#2a3f5f"
            },
            "type": "carpet"
           }
          ],
          "choropleth": [
           {
            "colorbar": {
             "outlinewidth": 0,
             "ticks": ""
            },
            "type": "choropleth"
           }
          ],
          "contour": [
           {
            "colorbar": {
             "outlinewidth": 0,
             "ticks": ""
            },
            "colorscale": [
             [
              0,
              "#0d0887"
             ],
             [
              0.1111111111111111,
              "#46039f"
             ],
             [
              0.2222222222222222,
              "#7201a8"
             ],
             [
              0.3333333333333333,
              "#9c179e"
             ],
             [
              0.4444444444444444,
              "#bd3786"
             ],
             [
              0.5555555555555556,
              "#d8576b"
             ],
             [
              0.6666666666666666,
              "#ed7953"
             ],
             [
              0.7777777777777778,
              "#fb9f3a"
             ],
             [
              0.8888888888888888,
              "#fdca26"
             ],
             [
              1,
              "#f0f921"
             ]
            ],
            "type": "contour"
           }
          ],
          "contourcarpet": [
           {
            "colorbar": {
             "outlinewidth": 0,
             "ticks": ""
            },
            "type": "contourcarpet"
           }
          ],
          "heatmap": [
           {
            "colorbar": {
             "outlinewidth": 0,
             "ticks": ""
            },
            "colorscale": [
             [
              0,
              "#0d0887"
             ],
             [
              0.1111111111111111,
              "#46039f"
             ],
             [
              0.2222222222222222,
              "#7201a8"
             ],
             [
              0.3333333333333333,
              "#9c179e"
             ],
             [
              0.4444444444444444,
              "#bd3786"
             ],
             [
              0.5555555555555556,
              "#d8576b"
             ],
             [
              0.6666666666666666,
              "#ed7953"
             ],
             [
              0.7777777777777778,
              "#fb9f3a"
             ],
             [
              0.8888888888888888,
              "#fdca26"
             ],
             [
              1,
              "#f0f921"
             ]
            ],
            "type": "heatmap"
           }
          ],
          "heatmapgl": [
           {
            "colorbar": {
             "outlinewidth": 0,
             "ticks": ""
            },
            "colorscale": [
             [
              0,
              "#0d0887"
             ],
             [
              0.1111111111111111,
              "#46039f"
             ],
             [
              0.2222222222222222,
              "#7201a8"
             ],
             [
              0.3333333333333333,
              "#9c179e"
             ],
             [
              0.4444444444444444,
              "#bd3786"
             ],
             [
              0.5555555555555556,
              "#d8576b"
             ],
             [
              0.6666666666666666,
              "#ed7953"
             ],
             [
              0.7777777777777778,
              "#fb9f3a"
             ],
             [
              0.8888888888888888,
              "#fdca26"
             ],
             [
              1,
              "#f0f921"
             ]
            ],
            "type": "heatmapgl"
           }
          ],
          "histogram": [
           {
            "marker": {
             "pattern": {
              "fillmode": "overlay",
              "size": 10,
              "solidity": 0.2
             }
            },
            "type": "histogram"
           }
          ],
          "histogram2d": [
           {
            "colorbar": {
             "outlinewidth": 0,
             "ticks": ""
            },
            "colorscale": [
             [
              0,
              "#0d0887"
             ],
             [
              0.1111111111111111,
              "#46039f"
             ],
             [
              0.2222222222222222,
              "#7201a8"
             ],
             [
              0.3333333333333333,
              "#9c179e"
             ],
             [
              0.4444444444444444,
              "#bd3786"
             ],
             [
              0.5555555555555556,
              "#d8576b"
             ],
             [
              0.6666666666666666,
              "#ed7953"
             ],
             [
              0.7777777777777778,
              "#fb9f3a"
             ],
             [
              0.8888888888888888,
              "#fdca26"
             ],
             [
              1,
              "#f0f921"
             ]
            ],
            "type": "histogram2d"
           }
          ],
          "histogram2dcontour": [
           {
            "colorbar": {
             "outlinewidth": 0,
             "ticks": ""
            },
            "colorscale": [
             [
              0,
              "#0d0887"
             ],
             [
              0.1111111111111111,
              "#46039f"
             ],
             [
              0.2222222222222222,
              "#7201a8"
             ],
             [
              0.3333333333333333,
              "#9c179e"
             ],
             [
              0.4444444444444444,
              "#bd3786"
             ],
             [
              0.5555555555555556,
              "#d8576b"
             ],
             [
              0.6666666666666666,
              "#ed7953"
             ],
             [
              0.7777777777777778,
              "#fb9f3a"
             ],
             [
              0.8888888888888888,
              "#fdca26"
             ],
             [
              1,
              "#f0f921"
             ]
            ],
            "type": "histogram2dcontour"
           }
          ],
          "mesh3d": [
           {
            "colorbar": {
             "outlinewidth": 0,
             "ticks": ""
            },
            "type": "mesh3d"
           }
          ],
          "parcoords": [
           {
            "line": {
             "colorbar": {
              "outlinewidth": 0,
              "ticks": ""
             }
            },
            "type": "parcoords"
           }
          ],
          "pie": [
           {
            "automargin": true,
            "type": "pie"
           }
          ],
          "scatter": [
           {
            "marker": {
             "colorbar": {
              "outlinewidth": 0,
              "ticks": ""
             }
            },
            "type": "scatter"
           }
          ],
          "scatter3d": [
           {
            "line": {
             "colorbar": {
              "outlinewidth": 0,
              "ticks": ""
             }
            },
            "marker": {
             "colorbar": {
              "outlinewidth": 0,
              "ticks": ""
             }
            },
            "type": "scatter3d"
           }
          ],
          "scattercarpet": [
           {
            "marker": {
             "colorbar": {
              "outlinewidth": 0,
              "ticks": ""
             }
            },
            "type": "scattercarpet"
           }
          ],
          "scattergeo": [
           {
            "marker": {
             "colorbar": {
              "outlinewidth": 0,
              "ticks": ""
             }
            },
            "type": "scattergeo"
           }
          ],
          "scattergl": [
           {
            "marker": {
             "colorbar": {
              "outlinewidth": 0,
              "ticks": ""
             }
            },
            "type": "scattergl"
           }
          ],
          "scattermapbox": [
           {
            "marker": {
             "colorbar": {
              "outlinewidth": 0,
              "ticks": ""
             }
            },
            "type": "scattermapbox"
           }
          ],
          "scatterpolar": [
           {
            "marker": {
             "colorbar": {
              "outlinewidth": 0,
              "ticks": ""
             }
            },
            "type": "scatterpolar"
           }
          ],
          "scatterpolargl": [
           {
            "marker": {
             "colorbar": {
              "outlinewidth": 0,
              "ticks": ""
             }
            },
            "type": "scatterpolargl"
           }
          ],
          "scatterternary": [
           {
            "marker": {
             "colorbar": {
              "outlinewidth": 0,
              "ticks": ""
             }
            },
            "type": "scatterternary"
           }
          ],
          "surface": [
           {
            "colorbar": {
             "outlinewidth": 0,
             "ticks": ""
            },
            "colorscale": [
             [
              0,
              "#0d0887"
             ],
             [
              0.1111111111111111,
              "#46039f"
             ],
             [
              0.2222222222222222,
              "#7201a8"
             ],
             [
              0.3333333333333333,
              "#9c179e"
             ],
             [
              0.4444444444444444,
              "#bd3786"
             ],
             [
              0.5555555555555556,
              "#d8576b"
             ],
             [
              0.6666666666666666,
              "#ed7953"
             ],
             [
              0.7777777777777778,
              "#fb9f3a"
             ],
             [
              0.8888888888888888,
              "#fdca26"
             ],
             [
              1,
              "#f0f921"
             ]
            ],
            "type": "surface"
           }
          ],
          "table": [
           {
            "cells": {
             "fill": {
              "color": "#EBF0F8"
             },
             "line": {
              "color": "white"
             }
            },
            "header": {
             "fill": {
              "color": "#C8D4E3"
             },
             "line": {
              "color": "white"
             }
            },
            "type": "table"
           }
          ]
         },
         "layout": {
          "annotationdefaults": {
           "arrowcolor": "#2a3f5f",
           "arrowhead": 0,
           "arrowwidth": 1
          },
          "autotypenumbers": "strict",
          "coloraxis": {
           "colorbar": {
            "outlinewidth": 0,
            "ticks": ""
           }
          },
          "colorscale": {
           "diverging": [
            [
             0,
             "#8e0152"
            ],
            [
             0.1,
             "#c51b7d"
            ],
            [
             0.2,
             "#de77ae"
            ],
            [
             0.3,
             "#f1b6da"
            ],
            [
             0.4,
             "#fde0ef"
            ],
            [
             0.5,
             "#f7f7f7"
            ],
            [
             0.6,
             "#e6f5d0"
            ],
            [
             0.7,
             "#b8e186"
            ],
            [
             0.8,
             "#7fbc41"
            ],
            [
             0.9,
             "#4d9221"
            ],
            [
             1,
             "#276419"
            ]
           ],
           "sequential": [
            [
             0,
             "#0d0887"
            ],
            [
             0.1111111111111111,
             "#46039f"
            ],
            [
             0.2222222222222222,
             "#7201a8"
            ],
            [
             0.3333333333333333,
             "#9c179e"
            ],
            [
             0.4444444444444444,
             "#bd3786"
            ],
            [
             0.5555555555555556,
             "#d8576b"
            ],
            [
             0.6666666666666666,
             "#ed7953"
            ],
            [
             0.7777777777777778,
             "#fb9f3a"
            ],
            [
             0.8888888888888888,
             "#fdca26"
            ],
            [
             1,
             "#f0f921"
            ]
           ],
           "sequentialminus": [
            [
             0,
             "#0d0887"
            ],
            [
             0.1111111111111111,
             "#46039f"
            ],
            [
             0.2222222222222222,
             "#7201a8"
            ],
            [
             0.3333333333333333,
             "#9c179e"
            ],
            [
             0.4444444444444444,
             "#bd3786"
            ],
            [
             0.5555555555555556,
             "#d8576b"
            ],
            [
             0.6666666666666666,
             "#ed7953"
            ],
            [
             0.7777777777777778,
             "#fb9f3a"
            ],
            [
             0.8888888888888888,
             "#fdca26"
            ],
            [
             1,
             "#f0f921"
            ]
           ]
          },
          "colorway": [
           "#636efa",
           "#EF553B",
           "#00cc96",
           "#ab63fa",
           "#FFA15A",
           "#19d3f3",
           "#FF6692",
           "#B6E880",
           "#FF97FF",
           "#FECB52"
          ],
          "font": {
           "color": "#2a3f5f"
          },
          "geo": {
           "bgcolor": "white",
           "lakecolor": "white",
           "landcolor": "#E5ECF6",
           "showlakes": true,
           "showland": true,
           "subunitcolor": "white"
          },
          "hoverlabel": {
           "align": "left"
          },
          "hovermode": "closest",
          "mapbox": {
           "style": "light"
          },
          "paper_bgcolor": "white",
          "plot_bgcolor": "#E5ECF6",
          "polar": {
           "angularaxis": {
            "gridcolor": "white",
            "linecolor": "white",
            "ticks": ""
           },
           "bgcolor": "#E5ECF6",
           "radialaxis": {
            "gridcolor": "white",
            "linecolor": "white",
            "ticks": ""
           }
          },
          "scene": {
           "xaxis": {
            "backgroundcolor": "#E5ECF6",
            "gridcolor": "white",
            "gridwidth": 2,
            "linecolor": "white",
            "showbackground": true,
            "ticks": "",
            "zerolinecolor": "white"
           },
           "yaxis": {
            "backgroundcolor": "#E5ECF6",
            "gridcolor": "white",
            "gridwidth": 2,
            "linecolor": "white",
            "showbackground": true,
            "ticks": "",
            "zerolinecolor": "white"
           },
           "zaxis": {
            "backgroundcolor": "#E5ECF6",
            "gridcolor": "white",
            "gridwidth": 2,
            "linecolor": "white",
            "showbackground": true,
            "ticks": "",
            "zerolinecolor": "white"
           }
          },
          "shapedefaults": {
           "line": {
            "color": "#2a3f5f"
           }
          },
          "ternary": {
           "aaxis": {
            "gridcolor": "white",
            "linecolor": "white",
            "ticks": ""
           },
           "baxis": {
            "gridcolor": "white",
            "linecolor": "white",
            "ticks": ""
           },
           "bgcolor": "#E5ECF6",
           "caxis": {
            "gridcolor": "white",
            "linecolor": "white",
            "ticks": ""
           }
          },
          "title": {
           "x": 0.05
          },
          "xaxis": {
           "automargin": true,
           "gridcolor": "white",
           "linecolor": "white",
           "ticks": "",
           "title": {
            "standoff": 15
           },
           "zerolinecolor": "white",
           "zerolinewidth": 2
          },
          "yaxis": {
           "automargin": true,
           "gridcolor": "white",
           "linecolor": "white",
           "ticks": "",
           "title": {
            "standoff": 15
           },
           "zerolinecolor": "white",
           "zerolinewidth": 2
          }
         }
        },
        "xaxis": {
         "anchor": "y",
         "domain": [
          0,
          1
         ],
         "title": {
          "text": "x"
         }
        },
        "yaxis": {
         "anchor": "x",
         "domain": [
          0,
          1
         ],
         "title": {
          "text": "y"
         }
        }
       }
      }
     },
     "metadata": {},
     "output_type": "display_data"
    }
   ],
   "source": [
    "hero.scatterplot(df,\"pca\",color=\"topic\")"
   ]
  },
  {
   "cell_type": "code",
   "execution_count": 59,
   "metadata": {},
   "outputs": [
    {
     "data": {
      "text/html": [
       "<div>\n",
       "<style scoped>\n",
       "    .dataframe tbody tr th:only-of-type {\n",
       "        vertical-align: middle;\n",
       "    }\n",
       "\n",
       "    .dataframe tbody tr th {\n",
       "        vertical-align: top;\n",
       "    }\n",
       "\n",
       "    .dataframe thead th {\n",
       "        text-align: right;\n",
       "    }\n",
       "</style>\n",
       "<table border=\"1\" class=\"dataframe\">\n",
       "  <thead>\n",
       "    <tr style=\"text-align: right;\">\n",
       "      <th></th>\n",
       "      <th>text</th>\n",
       "      <th>topic</th>\n",
       "      <th>pca</th>\n",
       "      <th>tfidf</th>\n",
       "      <th>kmeans_labels</th>\n",
       "    </tr>\n",
       "  </thead>\n",
       "  <tbody>\n",
       "    <tr>\n",
       "      <th>0</th>\n",
       "      <td>Claxton hunting first major medal\\n\\nBritish h...</td>\n",
       "      <td>athletics</td>\n",
       "      <td>[-0.09105733733066608, 0.10360599366234843]</td>\n",
       "      <td>[0.0, 0.0, 0.0, 0.0, 0.0, 0.0, 0.0, 0.0, 0.0, ...</td>\n",
       "      <td>4</td>\n",
       "    </tr>\n",
       "    <tr>\n",
       "      <th>1</th>\n",
       "      <td>O'Sullivan could run in Worlds\\n\\nSonia O'Sull...</td>\n",
       "      <td>athletics</td>\n",
       "      <td>[-0.0004371584247874354, 0.024738139271001356]</td>\n",
       "      <td>[0.0, 0.0, 0.0, 0.0, 0.0, 0.0, 0.0, 0.0, 0.0, ...</td>\n",
       "      <td>4</td>\n",
       "    </tr>\n",
       "    <tr>\n",
       "      <th>2</th>\n",
       "      <td>Greene sets sights on world title\\n\\nMaurice G...</td>\n",
       "      <td>athletics</td>\n",
       "      <td>[-0.1176391579253836, 0.1287019004109567]</td>\n",
       "      <td>[0.0, 0.0, 0.0, 0.0, 0.0, 0.0, 0.0533678197008...</td>\n",
       "      <td>4</td>\n",
       "    </tr>\n",
       "    <tr>\n",
       "      <th>3</th>\n",
       "      <td>IAAF launches fight against drugs\\n\\nThe IAAF ...</td>\n",
       "      <td>athletics</td>\n",
       "      <td>[-0.09138142482470915, 0.15399980421261966]</td>\n",
       "      <td>[0.0, 0.0, 0.0, 0.0, 0.0, 0.0, 0.0, 0.0, 0.0, ...</td>\n",
       "      <td>4</td>\n",
       "    </tr>\n",
       "    <tr>\n",
       "      <th>4</th>\n",
       "      <td>Dibaba breaks 5,000m world record\\n\\nEthiopia'...</td>\n",
       "      <td>athletics</td>\n",
       "      <td>[-0.09132047685437644, 0.1350702137675282]</td>\n",
       "      <td>[0.24734311047947527, 0.0, 0.0, 0.0, 0.0, 0.0,...</td>\n",
       "      <td>4</td>\n",
       "    </tr>\n",
       "    <tr>\n",
       "      <th>...</th>\n",
       "      <td>...</td>\n",
       "      <td>...</td>\n",
       "      <td>...</td>\n",
       "      <td>...</td>\n",
       "      <td>...</td>\n",
       "    </tr>\n",
       "    <tr>\n",
       "      <th>732</th>\n",
       "      <td>Agassi into second round in Dubai\\n\\nFourth se...</td>\n",
       "      <td>tennis</td>\n",
       "      <td>[-0.06665893083618599, 0.10876574123204553]</td>\n",
       "      <td>[0.0, 0.0, 0.0, 0.0, 0.0, 0.0, 0.0, 0.0, 0.0, ...</td>\n",
       "      <td>3</td>\n",
       "    </tr>\n",
       "    <tr>\n",
       "      <th>733</th>\n",
       "      <td>Mauresmo fights back to win title\\n\\nWorld num...</td>\n",
       "      <td>tennis</td>\n",
       "      <td>[-0.0481179189792036, 0.05297771682325013]</td>\n",
       "      <td>[0.0, 0.0, 0.0, 0.0, 0.0, 0.0, 0.0, 0.0, 0.0, ...</td>\n",
       "      <td>3</td>\n",
       "    </tr>\n",
       "    <tr>\n",
       "      <th>734</th>\n",
       "      <td>Federer wins title in Rotterdam\\n\\nWorld numbe...</td>\n",
       "      <td>tennis</td>\n",
       "      <td>[-0.04976470048072759, 0.060216712804802154]</td>\n",
       "      <td>[0.0, 0.0, 0.0, 0.0, 0.0, 0.0, 0.0, 0.0, 0.0, ...</td>\n",
       "      <td>3</td>\n",
       "    </tr>\n",
       "    <tr>\n",
       "      <th>735</th>\n",
       "      <td>GB players warned over security\\n\\nBritain's D...</td>\n",
       "      <td>tennis</td>\n",
       "      <td>[-0.04881470874824559, 0.013783728499715231]</td>\n",
       "      <td>[0.0, 0.0, 0.0, 0.0, 0.0, 0.0, 0.0, 0.0, 0.0, ...</td>\n",
       "      <td>1</td>\n",
       "    </tr>\n",
       "    <tr>\n",
       "      <th>736</th>\n",
       "      <td>Sharapova overcomes tough Molik\\n\\nWimbledon c...</td>\n",
       "      <td>tennis</td>\n",
       "      <td>[-0.02911057590515425, 0.07147453130155156]</td>\n",
       "      <td>[0.0, 0.0, 0.0, 0.0, 0.0, 0.0, 0.0, 0.0, 0.0, ...</td>\n",
       "      <td>3</td>\n",
       "    </tr>\n",
       "  </tbody>\n",
       "</table>\n",
       "<p>737 rows × 5 columns</p>\n",
       "</div>"
      ],
      "text/plain": [
       "                                                  text      topic  \\\n",
       "0    Claxton hunting first major medal\\n\\nBritish h...  athletics   \n",
       "1    O'Sullivan could run in Worlds\\n\\nSonia O'Sull...  athletics   \n",
       "2    Greene sets sights on world title\\n\\nMaurice G...  athletics   \n",
       "3    IAAF launches fight against drugs\\n\\nThe IAAF ...  athletics   \n",
       "4    Dibaba breaks 5,000m world record\\n\\nEthiopia'...  athletics   \n",
       "..                                                 ...        ...   \n",
       "732  Agassi into second round in Dubai\\n\\nFourth se...     tennis   \n",
       "733  Mauresmo fights back to win title\\n\\nWorld num...     tennis   \n",
       "734  Federer wins title in Rotterdam\\n\\nWorld numbe...     tennis   \n",
       "735  GB players warned over security\\n\\nBritain's D...     tennis   \n",
       "736  Sharapova overcomes tough Molik\\n\\nWimbledon c...     tennis   \n",
       "\n",
       "                                                pca  \\\n",
       "0       [-0.09105733733066608, 0.10360599366234843]   \n",
       "1    [-0.0004371584247874354, 0.024738139271001356]   \n",
       "2         [-0.1176391579253836, 0.1287019004109567]   \n",
       "3       [-0.09138142482470915, 0.15399980421261966]   \n",
       "4        [-0.09132047685437644, 0.1350702137675282]   \n",
       "..                                              ...   \n",
       "732     [-0.06665893083618599, 0.10876574123204553]   \n",
       "733      [-0.0481179189792036, 0.05297771682325013]   \n",
       "734    [-0.04976470048072759, 0.060216712804802154]   \n",
       "735    [-0.04881470874824559, 0.013783728499715231]   \n",
       "736     [-0.02911057590515425, 0.07147453130155156]   \n",
       "\n",
       "                                                 tfidf kmeans_labels  \n",
       "0    [0.0, 0.0, 0.0, 0.0, 0.0, 0.0, 0.0, 0.0, 0.0, ...             4  \n",
       "1    [0.0, 0.0, 0.0, 0.0, 0.0, 0.0, 0.0, 0.0, 0.0, ...             4  \n",
       "2    [0.0, 0.0, 0.0, 0.0, 0.0, 0.0, 0.0533678197008...             4  \n",
       "3    [0.0, 0.0, 0.0, 0.0, 0.0, 0.0, 0.0, 0.0, 0.0, ...             4  \n",
       "4    [0.24734311047947527, 0.0, 0.0, 0.0, 0.0, 0.0,...             4  \n",
       "..                                                 ...           ...  \n",
       "732  [0.0, 0.0, 0.0, 0.0, 0.0, 0.0, 0.0, 0.0, 0.0, ...             3  \n",
       "733  [0.0, 0.0, 0.0, 0.0, 0.0, 0.0, 0.0, 0.0, 0.0, ...             3  \n",
       "734  [0.0, 0.0, 0.0, 0.0, 0.0, 0.0, 0.0, 0.0, 0.0, ...             3  \n",
       "735  [0.0, 0.0, 0.0, 0.0, 0.0, 0.0, 0.0, 0.0, 0.0, ...             1  \n",
       "736  [0.0, 0.0, 0.0, 0.0, 0.0, 0.0, 0.0, 0.0, 0.0, ...             3  \n",
       "\n",
       "[737 rows x 5 columns]"
      ]
     },
     "execution_count": 59,
     "metadata": {},
     "output_type": "execute_result"
    }
   ],
   "source": [
    "df"
   ]
  },
  {
   "cell_type": "markdown",
   "metadata": {},
   "source": [
    "**Top Words**"
   ]
  },
  {
   "cell_type": "code",
   "execution_count": 60,
   "metadata": {},
   "outputs": [],
   "source": [
    "top_20 = hero.visualization.top_words(df['text']).head(20)"
   ]
  },
  {
   "cell_type": "code",
   "execution_count": 61,
   "metadata": {},
   "outputs": [
    {
     "data": {
      "text/plain": [
       "the     12790\n",
       "to       7051\n",
       "a        5516\n",
       "in       5271\n",
       "and      5259\n",
       "of       4255\n",
       "for      2693\n",
       "\"        2416\n",
       "I        2207\n",
       "is       2200\n",
       "on       2175\n",
       "was      2129\n",
       "with     1864\n",
       "he       1861\n",
       "have     1700\n",
       "his      1666\n",
       "that     1662\n",
       "at       1653\n",
       "The      1459\n",
       "be       1422\n",
       "Name: text, dtype: int64"
      ]
     },
     "execution_count": 61,
     "metadata": {},
     "output_type": "execute_result"
    }
   ],
   "source": [
    "top_20"
   ]
  },
  {
   "cell_type": "code",
   "execution_count": 62,
   "metadata": {},
   "outputs": [
    {
     "data": {
      "text/plain": [
       "<AxesSubplot:title={'center':'Top 20 words'}>"
      ]
     },
     "execution_count": 62,
     "metadata": {},
     "output_type": "execute_result"
    },
    {
     "data": {
      "image/png": "[encoded data removed]",
      "text/plain": [
       "<Figure size 432x288 with 1 Axes>"
      ]
     },
     "metadata": {
      "needs_background": "light"
     },
     "output_type": "display_data"
    }
   ],
   "source": [
    "import matplotlib.pyplot as plt\n",
    "top_20.plot.bar(rot=90,title = \"Top 20 words\")"
   ]
  },
  {
   "cell_type": "code",
   "execution_count": null,
   "metadata": {},
   "outputs": [],
   "source": []
  }
 ],
 "metadata": {
  "interpreter": {
   "hash": "47cff4823c7373fe45fba76d551ac015bdf2cc9d3fdfdac54b7bfe0c425487e8"
  },
  "kernelspec": {
   "display_name": "Python 3.8.8 ('base')",
   "language": "python",
   "name": "python3"
  },
  "language_info": {
   "codemirror_mode": {
    "name": "ipython",
    "version": 3
   },
   "file_extension": ".py",
   "mimetype": "text/x-python",
   "name": "python",
   "nbconvert_exporter": "python",
   "pygments_lexer": "ipython3",
   "version": "3.8.8"
  },
  "orig_nbformat": 4
 },
 "nbformat": 4,
 "nbformat_minor": 2
}
